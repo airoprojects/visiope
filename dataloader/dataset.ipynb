{
 "cells": [
  {
   "cell_type": "code",
   "execution_count": 18,
   "metadata": {},
   "outputs": [],
   "source": [
    "import sys\n",
    "import torch\n",
    "from torch.utils.data import DataLoader\n",
    "\n",
    "IN_COLAB = 'google.colab' in sys.modules\n",
    "\n",
    "if not IN_COLAB:\n",
    "\n",
    "    from git import Repo\n",
    "\n",
    "    # Initialize the Git repository object\n",
    "    repo = Repo(\".\", search_parent_directories=True)\n",
    "\n",
    "    # Get the root directory of the Git project\n",
    "    root_dir = repo.git.rev_parse(\"--show-toplevel\")\n",
    "\n",
    "    from pathlib import Path\n",
    "\n",
    "    # Set up path for custom importer modules\n",
    "    importer_module = root_dir + '/dataloader/'\n",
    "    sys.path.insert(0, importer_module)\n",
    "\n",
    "    # Insert here your local path to the dataset\n",
    "    data_path = '/home/leeoos/Desktop/'\n",
    "\n",
    "else:\n",
    "\n",
    "    from google.colab import drive\n",
    "    drive.mount('/content/drive')\n",
    "\n",
    "    # On Colab the path to the module ti fixed once you have\n",
    "    # corretly set up the project with gitsetup.ipynb\n",
    "    fixed_path = '/content/drive/MyDrive/Github/visiope/dataloader/'\n",
    "    sys.path.insert(0, fixed_path)\n",
    "\n",
    "    # Insert here the path to the dataset on your drive\n",
    "    data_path = '/content/drive/MyDrive/foo/'"
   ]
  },
  {
   "cell_type": "code",
   "execution_count": 19,
   "metadata": {},
   "outputs": [
    {
     "name": "stdout",
     "output_type": "stream",
     "text": [
      "This are the import parameters: \n",
      "               Path to the dataset: /home/leeoos/Desktop/ \n",
      "               Colab Environment: False \n",
      "               Number of images to load: 200 \n",
      "\n",
      "You already have ai4mars-dataset-merged-0.1\n",
      "Unpacking images and lables from: ai4mars-dataset-merged-0.1...\n",
      "Inputs len: 200\n",
      "Labels len: 200\n",
      "Done\n"
     ]
    }
   ],
   "source": [
    "from asloader import Ai4MarsImporter, Ai4MarsProcessor, Ai4MarsData\n",
    "\n",
    "\n",
    "data_import = Ai4MarsImporter()\n",
    "X, y = data_import(path=data_path, num_of_images=200)\n",
    "\n",
    "\n",
    "processor = Ai4MarsProcessor()\n",
    "train_set, test_set, val_set = processor(X, y,[0.54, 0.26, 0.20])\n",
    "\n"
   ]
  },
  {
   "cell_type": "code",
   "execution_count": 16,
   "metadata": {},
   "outputs": [],
   "source": [
    "train_set.resize(64)\n",
    "test_set.resize(64)\n",
    "val_set.resize(64)"
   ]
  },
  {
   "cell_type": "code",
   "execution_count": 17,
   "metadata": {},
   "outputs": [],
   "source": [
    "# Save the data loader as a pickle file\n",
    "torch.save(train_set, '/home/leeoos/Desktop/dataset/train.pt')\n",
    "torch.save(test_set, '/home/leeoos/Desktop/dataset/test.pt')\n",
    "torch.save(val_set, '/home/leeoos/Desktop/dataset/val.pt')"
   ]
  }
 ],
 "metadata": {
  "kernelspec": {
   "display_name": "snakes",
   "language": "python",
   "name": "python3"
  },
  "language_info": {
   "codemirror_mode": {
    "name": "ipython",
    "version": 3
   },
   "file_extension": ".py",
   "mimetype": "text/x-python",
   "name": "python",
   "nbconvert_exporter": "python",
   "pygments_lexer": "ipython3",
   "version": "3.10.6"
  },
  "orig_nbformat": 4
 },
 "nbformat": 4,
 "nbformat_minor": 2
}

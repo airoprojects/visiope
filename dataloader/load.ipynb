{
 "cells": [
  {
   "cell_type": "markdown",
   "metadata": {
    "colab_type": "text",
    "id": "view-in-github"
   },
   "source": [
    "<a href=\"https://colab.research.google.com/github/airoprojects/visiope/blob/main/dataloader/load.ipynb\" target=\"_parent\"><img src=\"https://colab.research.google.com/assets/colab-badge.svg\" alt=\"Open In Colab\"/></a>"
   ]
  },
  {
   "cell_type": "code",
   "execution_count": 1,
   "metadata": {
    "id": "C_I9uEV0uwCV"
   },
   "outputs": [],
   "source": [
    "import numpy as np\n",
    "import pandas as pd\n",
    "import os\n",
    "import cv2\n",
    "import matplotlib.pyplot as plt\n",
    "import torch \n",
    "import pickle\n",
    "from pathlib import Path\n",
    "from torch.utils.data import DataLoader, Dataset, random_split\n",
    "import pickle #used to save dataloader"
   ]
  },
  {
   "cell_type": "code",
   "execution_count": 2,
   "metadata": {
    "colab": {
     "base_uri": "https://localhost:8080/"
    },
    "id": "xsEy-Hdr-2o4",
    "outputId": "9a56e021-7140-4d85-cbba-caca788fba5a"
   },
   "outputs": [
    {
     "name": "stdout",
     "output_type": "stream",
     "text": [
      "Mounted at /content/drive\n"
     ]
    }
   ],
   "source": [
    "from google.colab import drive\n",
    "drive.mount('/content/drive')\n",
    "\n",
    "# set up dataset directory path\n",
    "ckpt = Path('/content/drive/MyDrive/Dataset/')\n",
    "ckpt.mkdir(exist_ok=True, parents=True)"
   ]
  },
  {
   "cell_type": "code",
   "execution_count": null,
   "metadata": {
    "id": "Rk1x19hGj87p"
   },
   "outputs": [],
   "source": [
    "\"\"\" if you already have the daset in your local drive, \n",
    "place it in a Dataset directory and unzip it from there \"\"\"\n",
    "\n",
    "# unzip dataset\n",
    "!unzip \"/content/drive/MyDrive/Dataset/ai4mars-dataset-merged-0.1.zip\" -d \"/content/\""
   ]
  },
  {
   "cell_type": "code",
   "execution_count": null,
   "metadata": {
    "id": "BE1VfEkQkAmg"
   },
   "outputs": [],
   "source": [
    "\"\"\" else download und unzip the dataset from here \"\"\"\n",
    "\n",
    "import gdown\n",
    "\n",
    "# get url of zipped dataset\n",
    "url = 'https://drive.google.com/uc?id=1eW9Ah9DDEY02CTHCrRYLGPmiGZvCTKK4'\n",
    "\n",
    "# set up zip download location and start download\n",
    "output = '/content/ai4mars-dataset-merged-0.1.zip'\n",
    "gdown.download(url, output, quiet=False)\n",
    "\n",
    "# unzip dataset\n",
    "!unzip \"/content/ai4mars-dataset-merged-0.1.zip\" -d \"/content/\""
   ]
  },
  {
   "cell_type": "code",
   "execution_count": null,
   "metadata": {
    "id": "4HjFSoKGUmVf"
   },
   "outputs": [],
   "source": []
  },
  {
   "cell_type": "code",
   "execution_count": 2,
   "metadata": {
    "id": "aX9Zlp8HM9wH"
   },
   "outputs": [
    {
     "name": "stdout",
     "output_type": "stream",
     "text": [
      "ai4mars-dataset-merged-0.1/msl/labels/train/NLB_568390981EDR_F0671846NCAM00346M1.png\n",
      "ai4mars-dataset-merged-0.1/msl/labels/train/NLB_469591578EDR_F0441546NCAM00257M1.png\n",
      "ai4mars-dataset-merged-0.1/msl/labels/train/NLB_507394728EDR_F0521162CCAM15043M1.png\n",
      "ai4mars-dataset-merged-0.1/msl/labels/train/NLB_503312610EDR_F0512238NCAM00494M1.png\n",
      "ai4mars-dataset-merged-0.1/msl/labels/train/NLB_468426330EDR_F0441140NCAM00251M1.png\n",
      "ai4mars-dataset-merged-0.1/msl/labels/train/NLB_514412952EDR_F0540746NCAM00276M1.png\n",
      "ai4mars-dataset-merged-0.1/msl/labels/train/NLB_511043790EDR_F0531182NCAM00320M1.png\n",
      "ai4mars-dataset-merged-0.1/msl/labels/train/NLB_550898797EDR_F0640390NCAM00385M1.png\n",
      "ai4mars-dataset-merged-0.1/msl/labels/train/NLB_540247269EDR_F0610252NCAM00267M1.png\n",
      "ai4mars-dataset-merged-0.1/msl/labels/train/NLB_458837990EDR_F0390924NCAM00288M1.png\n",
      "ai4mars-dataset-merged-0.1/msl/labels/train/NLB_483696598EDR_F0470598NCAM00254M1.png\n",
      "ai4mars-dataset-merged-0.1/msl/labels/train/NLB_561372170EDR_F0661516NCAM00280M1.png\n",
      "ai4mars-dataset-merged-0.1/msl/labels/train/NLB_431141170EDR_F0141262NCAM00350M1.png\n",
      "ai4mars-dataset-merged-0.1/msl/labels/train/NLB_543263205EDR_F0612740NCAM00312M1.png\n",
      "ai4mars-dataset-merged-0.1/msl/labels/train/NLB_423776624EDR_F0060116NCAM00346M1.png\n",
      "ai4mars-dataset-merged-0.1/msl/labels/train/NLB_517611827EDR_F0542202NCAM07753M1.png\n",
      "ai4mars-dataset-merged-0.1/msl/labels/train/NLB_552495584EDR_F0641890NCAM07753M1.png\n",
      "ai4mars-dataset-merged-0.1/msl/labels/train/NLB_615263148EDR_F0761576NCAM00296M1.png\n",
      "ai4mars-dataset-merged-0.1/msl/labels/train/NLB_617920277EDR_F0763002NCAM00320M1.png\n",
      "ai4mars-dataset-merged-0.1/msl/labels/train/NLA_401225800EDR_F0041632NCAM00426M1.png\n",
      "ai4mars-dataset-merged-0.1/msl/labels/train/NLB_559867786EDR_F0660856NCAM00268M1.png\n",
      "ai4mars-dataset-merged-0.1/msl/labels/train/NLB_550722551EDR_F0633470NCAM00385M1.png\n",
      "ai4mars-dataset-merged-0.1/msl/labels/train/NLB_550548142EDR_F0633326NCAM07753M1.png\n",
      "ai4mars-dataset-merged-0.1/msl/labels/train/NLB_537407025EDR_F0600396NCAM00653M1.png\n",
      "ai4mars-dataset-merged-0.1/msl/labels/train/NLB_429543880EDR_F0120244NCAM00354M1.png\n",
      "ai4mars-dataset-merged-0.1/msl/labels/train/NLB_451293827EDR_F0311142NCAM00470M1.png\n",
      "ai4mars-dataset-merged-0.1/msl/labels/train/NLA_410902922EDR_F0051916NCAM00456M1.png\n",
      "ai4mars-dataset-merged-0.1/msl/labels/train/NLB_559246310EDR_F0660384NCAM00259M1.png\n",
      "ai4mars-dataset-merged-0.1/msl/labels/train/NLB_494529797EDR_F0492026NCAM00264M1.png\n",
      "ai4mars-dataset-merged-0.1/msl/labels/train/NLB_607453484EDR_F0751386NCAM00354M1.png\n",
      "ai4mars-dataset-merged-0.1/msl/labels/train/NLB_482458457EDR_F0460934NCAM07753M1.png\n",
      "ai4mars-dataset-merged-0.1/msl/labels/train/NLB_556928308EDR_F0651934NCAM00207M1.png\n",
      "ai4mars-dataset-merged-0.1/msl/labels/train/NLB_430702199EDR_F0140156NCAM00354M1.png\n",
      "ai4mars-dataset-merged-0.1/msl/labels/train/NLB_484578816EDR_F0471452NCAM07753M1.png\n",
      "ai4mars-dataset-merged-0.1/msl/labels/train/NLB_582159088EDR_F0701752NCAM00207M1.png\n",
      "ai4mars-dataset-merged-0.1/msl/labels/train/NLB_435592128EDR_F0200256NCAM00253M1.png\n",
      "ai4mars-dataset-merged-0.1/msl/labels/train/NLB_607710165EDR_F0751386NCAM00320M1.png\n",
      "ai4mars-dataset-merged-0.1/msl/labels/train/NLB_553208895EDR_F0642790NCAM00262M1.png\n",
      "ai4mars-dataset-merged-0.1/msl/labels/train/NLB_551700207EDR_F0641194NCAM00296M1.png\n",
      "ai4mars-dataset-merged-0.1/msl/labels/train/NLB_626267617EDR_F0771560NCAM00263M1.png\n",
      "ai4mars-dataset-merged-0.1/msl/labels/train/NLB_533590916EDR_F0592830NCAM00320M1.png\n",
      "ai4mars-dataset-merged-0.1/msl/labels/train/NLB_544764936EDR_F0620108NCAM00320M1.png\n",
      "ai4mars-dataset-merged-0.1/msl/labels/train/NLB_537224360EDR_F0600180NCAM00653M1.png\n",
      "ai4mars-dataset-merged-0.1/msl/labels/train/NLB_469142056EDR_F0441432NCAM00255M1.png\n",
      "ai4mars-dataset-merged-0.1/msl/labels/train/NLB_467372149EDR_F0440190NCAM00291M1.png\n",
      "ai4mars-dataset-merged-0.1/msl/labels/train/NLB_491340775EDR_F0482542NCAM00223M1.png\n",
      "ai4mars-dataset-merged-0.1/msl/labels/train/NLB_446590761EDR_F0280240NCAM00385M1.png\n",
      "ai4mars-dataset-merged-0.1/msl/labels/train/NLB_514327579EDR_F0540668NCAM07753M1.png\n",
      "ai4mars-dataset-merged-0.1/msl/labels/train/NLB_612517172EDR_F0752860NCAM00275M1.png\n",
      "ai4mars-dataset-merged-0.1/msl/labels/train/NLB_460613007EDR_F0400540NCAM00260M1.png\n",
      "ai4mars-dataset-merged-0.1/msl/labels/train/NLB_583745368EDR_F0711586NCAM00354M1.png\n",
      "ai4mars-dataset-merged-0.1/msl/labels/train/NLB_443749153EDR_F0251296NCAM00293M1.png\n",
      "ai4mars-dataset-merged-0.1/msl/labels/train/NLB_585785884EDR_F0720386NCAM00320M1.png\n",
      "ai4mars-dataset-merged-0.1/msl/labels/train/NLB_557297543EDR_F0652720NCAM00312M1.png\n",
      "ai4mars-dataset-merged-0.1/msl/labels/train/NLB_523288772EDR_F0561236NCAM00273M1.png\n",
      "ai4mars-dataset-merged-0.1/msl/labels/train/NLA_413652690EDR_F0060000NCAM00227M1.png\n",
      "ai4mars-dataset-merged-0.1/msl/labels/train/NLB_430347160EDR_F0130292NCAM00354M1.png\n",
      "ai4mars-dataset-merged-0.1/msl/labels/train/NLB_574431441EDR_F0682050NCAM00262M1.png\n",
      "ai4mars-dataset-merged-0.1/msl/labels/train/NLB_626013028EDR_F0771070NCAM00207M1.png\n",
      "ai4mars-dataset-merged-0.1/msl/labels/train/NLB_496043724EDR_F0500448NCAM00282M1.png\n",
      "ai4mars-dataset-merged-0.1/msl/labels/train/NLB_584099624EDR_F0711818NCAM00295M1.png\n",
      "ai4mars-dataset-merged-0.1/msl/labels/train/NLB_420760000EDR_F0060000NCAM12754M1.png\n",
      "ai4mars-dataset-merged-0.1/msl/labels/train/NLB_543533147EDR_F0613226NCAM00288M1.png\n",
      "ai4mars-dataset-merged-0.1/msl/labels/train/NLB_453957523EDR_F0321020NCAM00285M1.png\n",
      "ai4mars-dataset-merged-0.1/msl/labels/train/NLB_560568615EDR_F0661112NCAM00320M1.png\n",
      "ai4mars-dataset-merged-0.1/msl/labels/train/NLB_485828550EDR_F0481530NCAM07753M1.png\n",
      "ai4mars-dataset-merged-0.1/msl/labels/train/NLB_526053162EDR_F0571942NCAM07753M1.png\n",
      "ai4mars-dataset-merged-0.1/msl/labels/train/NLB_471014885EDR_F0442062NCAM00320M1.png\n",
      "ai4mars-dataset-merged-0.1/msl/labels/train/NLB_499684104EDR_F0501222NCAM00290M1.png\n",
      "ai4mars-dataset-merged-0.1/msl/labels/train/NLB_576112534EDR_F0691384NCAM00278M1.png\n",
      "ai4mars-dataset-merged-0.1/msl/labels/train/NLA_408331461EDR_F0050938NCAM05134M1.png\n",
      "ai4mars-dataset-merged-0.1/msl/labels/train/NLB_436205486EDR_F0210636NCAM00460M1.png\n",
      "ai4mars-dataset-merged-0.1/msl/labels/train/NLB_577890383EDR_F0692766NCAM00292M1.png\n",
      "ai4mars-dataset-merged-0.1/msl/labels/train/NLB_436473633EDR_F0211572NCAM00464M1.png\n",
      "ai4mars-dataset-merged-0.1/msl/labels/train/NLB_538024881EDR_F0601386NCAM00385M1.png\n",
      "ai4mars-dataset-merged-0.1/msl/labels/train/NLA_402816042EDR_F0050104NCAM00451M1.png\n",
      "ai4mars-dataset-merged-0.1/msl/labels/train/NLB_467991308EDR_F0440568NCAM00297M1.png\n",
      "ai4mars-dataset-merged-0.1/msl/labels/train/NLB_524534705EDR_F0562034NCAM07753M1.png\n",
      "ai4mars-dataset-merged-0.1/msl/labels/train/NLB_500305935EDR_F0502438NCAM00354M1.png\n",
      "ai4mars-dataset-merged-0.1/msl/labels/train/NLB_606729817EDR_F0750456NCAM00320M1.png\n",
      "ai4mars-dataset-merged-0.1/msl/labels/train/NLB_502701483EDR_F0511800NCAM00265M1.png\n",
      "ai4mars-dataset-merged-0.1/msl/labels/train/NLB_495680274EDR_F0500114NCAM00276M1.png\n",
      "ai4mars-dataset-merged-0.1/msl/labels/train/NLA_594408003EDR_F0730046NCAM00278M1.png\n",
      "ai4mars-dataset-merged-0.1/msl/labels/train/NLB_449608004EDR_F0300938NCAM00259M1.png\n",
      "ai4mars-dataset-merged-0.1/msl/labels/train/NLB_559691906EDR_F0660450NCAM00265M1.png\n",
      "ai4mars-dataset-merged-0.1/msl/labels/train/NLB_625838234EDR_F0771070NCAM00353M1.png\n",
      "ai4mars-dataset-merged-0.1/msl/labels/train/NLB_493195605EDR_F0491018NCAM00250M1.png\n",
      "ai4mars-dataset-merged-0.1/msl/labels/train/NLB_576211692EDR_F0691384NCAM00207M1.png\n",
      "ai4mars-dataset-merged-0.1/msl/labels/train/NLB_578250994EDR_F0700240NCAM00296M1.png\n",
      "ai4mars-dataset-merged-0.1/msl/labels/train/NLB_530661073EDR_F0582394NCAM07753M1.png\n",
      "ai4mars-dataset-merged-0.1/msl/labels/train/NLB_556046611EDR_F0650550NCAM00271M1.png\n",
      "ai4mars-dataset-merged-0.1/msl/labels/train/NLB_543262907EDR_F0612740NCAM00284M1.png\n",
      "ai4mars-dataset-merged-0.1/msl/labels/train/NLB_528086507EDR_F0580642NCAM00654M1.png\n",
      "ai4mars-dataset-merged-0.1/msl/labels/train/NLB_574431353EDR_F0682050NCAM00262M1.png\n",
      "ai4mars-dataset-merged-0.1/msl/labels/train/NLB_556851599EDR_F0651934NCAM00375M1.png\n",
      "ai4mars-dataset-merged-0.1/msl/labels/train/NLB_436473696EDR_F0211572NCAM00464M1.png\n",
      "ai4mars-dataset-merged-0.1/msl/labels/train/NLB_559867578EDR_F0660856NCAM00268M1.png\n",
      "ai4mars-dataset-merged-0.1/msl/labels/train/NLB_617309312EDR_F0762672NCAM00270M1.png\n",
      "ai4mars-dataset-merged-0.1/msl/labels/train/NLB_476661030EDR_F0450000NCAM00323M1.png\n",
      "ai4mars-dataset-merged-0.1/msl/labels/train/NLB_535359572EDR_F0593004NCAM07753M1.png\n",
      "ai4mars-dataset-merged-0.1/msl/labels/train/NLB_448018114EDR_F0300000NCAM00298M1.png\n",
      "ai4mars-dataset-merged-0.1/msl/labels/train/NLB_614018582EDR_F0760988NCAM00289M1.png\n",
      "ai4mars-dataset-merged-0.1/msl/labels/train/NLB_540598485EDR_F0610924NCAM00272M1.png\n",
      "ai4mars-dataset-merged-0.1/msl/labels/train/NLB_424307235EDR_F0060450NCAM05794M1.png\n",
      "ai4mars-dataset-merged-0.1/msl/labels/train/NLB_539368645EDR_F0602928NCAM00654M1.png\n",
      "ai4mars-dataset-merged-0.1/msl/labels/train/NLB_421377981EDR_F0060000NCAM12754M1.png\n",
      "ai4mars-dataset-merged-0.1/msl/labels/train/NLA_401504049EDR_F0042100NCAM00433M1.png\n",
      "ai4mars-dataset-merged-0.1/msl/labels/train/NLA_402562623EDR_F0050000NCAM00445M1.png\n",
      "ai4mars-dataset-merged-0.1/msl/labels/train/NLB_506608552EDR_F0521162NCAM00323M1.png\n",
      "ai4mars-dataset-merged-0.1/msl/labels/train/NLB_579924868EDR_F0701752NCAM00353M1.png\n",
      "ai4mars-dataset-merged-0.1/msl/labels/train/NLB_445344825EDR_F0260708NCAM00265M1.png\n",
      "ai4mars-dataset-merged-0.1/msl/labels/train/NLB_481299751EDR_F0451108NCAM00284M1.png\n",
      "ai4mars-dataset-merged-0.1/msl/labels/train/NLB_513966522EDR_F0540388NCAM07753M1.png\n",
      "ai4mars-dataset-merged-0.1/msl/labels/train/NLB_508198114EDR_F0521370NCAM07753M1.png\n",
      "ai4mars-dataset-merged-0.1/msl/labels/train/NLB_524888607EDR_F0570462NCAM00285M1.png\n"
     ]
    },
    {
     "name": "stdout",
     "output_type": "stream",
     "text": [
      "ai4mars-dataset-merged-0.1/msl/labels/train/NLB_442247750EDR_F0250154NCAM00354M1.png\n",
      "ai4mars-dataset-merged-0.1/msl/labels/train/NLB_557478360EDR_F0652882NCAM00354M1.png\n",
      "ai4mars-dataset-merged-0.1/msl/labels/train/NLB_574692367EDR_F0682396NCAM00266M1.png\n",
      "ai4mars-dataset-merged-0.1/msl/labels/train/NLB_489923124EDR_F0481970NCAM00207M1.png\n",
      "ai4mars-dataset-merged-0.1/msl/labels/train/NLB_542643626EDR_F0612100NCAM00385M1.png\n",
      "ai4mars-dataset-merged-0.1/msl/labels/train/NLB_545047267EDR_F0620660NCAM00296M1.png\n",
      "ai4mars-dataset-merged-0.1/msl/labels/train/NLB_430608282EDR_F0140000NCAM00207M1.png\n",
      "ai4mars-dataset-merged-0.1/msl/labels/train/NLB_509536867EDR_F0530000NCAM00291M1.png\n",
      "ai4mars-dataset-merged-0.1/msl/labels/train/NLB_559777739EDR_F0660684NCAM00375M1.png\n",
      "ai4mars-dataset-merged-0.1/msl/labels/train/NLB_577451463EDR_F0692456NCAM00354M1.png\n",
      "ai4mars-dataset-merged-0.1/msl/labels/train/NLB_511571978EDR_F0531994NCAM00354M1.png\n",
      "ai4mars-dataset-merged-0.1/msl/labels/train/NLB_558095733EDR_F0653248NCAM00385M1.png\n",
      "ai4mars-dataset-merged-0.1/msl/labels/train/NLB_517960020EDR_F0542238NCAM00385M1.png\n",
      "ai4mars-dataset-merged-0.1/msl/labels/train/NLB_557914634EDR_F0653200NCAM00298M1.png\n",
      "ai4mars-dataset-merged-0.1/msl/labels/train/NLB_538025983EDR_F0601422NCAM07753M1.png\n",
      "ai4mars-dataset-merged-0.1/msl/labels/train/NLB_568830629EDR_F0672284NCAM00277M1.png\n",
      "ai4mars-dataset-merged-0.1/msl/labels/train/NLA_594407374EDR_F0730046NCAM00277M1.png\n",
      "ai4mars-dataset-merged-0.1/msl/labels/train/NLA_594661349EDR_F0730412NCAM00385M1.png\n",
      "ai4mars-dataset-merged-0.1/msl/labels/train/NLB_457338824EDR_F0380058NCAM00354M1.png\n",
      "ai4mars-dataset-merged-0.1/msl/labels/train/NLB_421449918EDR_F0060000NCAM12754M1.png\n",
      "ai4mars-dataset-merged-0.1/msl/labels/train/NLB_566255628EDR_F0671238NCAM00262M1.png\n",
      "ai4mars-dataset-merged-0.1/msl/labels/train/NLB_492840519EDR_F0490814NCAM07813M1.png\n",
      "ai4mars-dataset-merged-0.1/msl/labels/train/NLB_450314813EDR_F0310408NCAM00489M1.png\n",
      "ai4mars-dataset-merged-0.1/msl/labels/train/NLB_483345822EDR_F0470522NCAM00354M1.png\n",
      "ai4mars-dataset-merged-0.1/msl/labels/train/NLB_486178949EDR_F0481570NCAM00223M1.png\n",
      "ai4mars-dataset-merged-0.1/msl/labels/train/NLB_538383306EDR_F0602010NCAM07753M1.png\n",
      "ai4mars-dataset-merged-0.1/msl/labels/train/NLB_558533973EDR_F0660084NCAM00254M1.png\n",
      "ai4mars-dataset-merged-0.1/msl/labels/train/NLB_614914410EDR_F0761384NCAM00354M1.png\n",
      "ai4mars-dataset-merged-0.1/msl/labels/train/NLB_460526987EDR_F0400480NCAM00258M1.png\n",
      "ai4mars-dataset-merged-0.1/msl/labels/train/NLB_514065907EDR_F0540388NCAM00320M1.png\n",
      "ai4mars-dataset-merged-0.1/msl/labels/train/NLB_442858039EDR_F0250510NCAM00353M1.png\n",
      "ai4mars-dataset-merged-0.1/msl/labels/train/NLA_594749969EDR_F0730472NCAM00385M1.png\n",
      "ai4mars-dataset-merged-0.1/msl/labels/train/NLB_532349820EDR_F0592578CCAM15903M1.png\n",
      "ai4mars-dataset-merged-0.1/msl/labels/train/NLB_566618673EDR_F0671494NCAM07753M1.png\n",
      "ai4mars-dataset-merged-0.1/msl/labels/train/NLB_475702947EDR_F0450000NCAM00226M1.png\n",
      "ai4mars-dataset-merged-0.1/msl/labels/train/NLB_616152772EDR_F0761786NCAM00354M1.png\n",
      "ai4mars-dataset-merged-0.1/msl/labels/train/NLA_597779079EDR_F0731104NCAM00354M1.png\n",
      "ai4mars-dataset-merged-0.1/msl/labels/train/NLA_597418106EDR_F0730800NCAM00289M1.png\n",
      "ai4mars-dataset-merged-0.1/msl/labels/train/NLB_556674722EDR_F0651438NCAM07753M1.png\n",
      "ai4mars-dataset-merged-0.1/msl/labels/train/NLB_455115173EDR_F0340286NCAM00352M1.png\n",
      "ai4mars-dataset-merged-0.1/msl/labels/train/NLB_483083498EDR_F0470000NCAM00252M1.png\n",
      "ai4mars-dataset-merged-0.1/msl/labels/train/NLB_520271179EDR_F0550538NCAM00298M1.png\n",
      "ai4mars-dataset-merged-0.1/msl/labels/train/NLB_611804601EDR_F0752052NCAM00353M1.png\n",
      "ai4mars-dataset-merged-0.1/msl/labels/train/NLB_492131520EDR_F0482794NCAM00292M1.png\n",
      "ai4mars-dataset-merged-0.1/msl/labels/train/NLB_613669372EDR_F0760664NCAM00354M1.png\n",
      "ai4mars-dataset-merged-0.1/msl/labels/train/NLB_421372232EDR_F0060000NCAM00101M1.png\n",
      "ai4mars-dataset-merged-0.1/msl/labels/train/NLB_424134570EDR_F0060308NCAM00378M1.png\n",
      "ai4mars-dataset-merged-0.1/msl/labels/train/NLB_546913223EDR_F0622726CCAM15903M1.png\n",
      "ai4mars-dataset-merged-0.1/msl/labels/train/NLB_431223473EDR_F0141262NCAM07812M1.png\n",
      "ai4mars-dataset-merged-0.1/msl/labels/train/NLB_616585847EDR_F0762080NCAM00320M1.png\n",
      "ai4mars-dataset-merged-0.1/msl/labels/train/NLB_577889396EDR_F0692708NCAM00385M1.png\n",
      "ai4mars-dataset-merged-0.1/msl/labels/train/NLB_446597108EDR_F0280264NCAM00354M1.png\n",
      "ai4mars-dataset-merged-0.1/msl/labels/train/NLB_611457608EDR_F0751564NCAM00207M1.png\n",
      "ai4mars-dataset-merged-0.1/msl/labels/train/NLB_523288221EDR_F0561236NCAM00654M1.png\n",
      "ai4mars-dataset-merged-0.1/msl/labels/train/NLB_469141863EDR_F0441432NCAM00350M1.png\n",
      "ai4mars-dataset-merged-0.1/msl/labels/train/NLB_583485649EDR_F0711330NCAM00283M1.png\n",
      "ai4mars-dataset-merged-0.1/msl/labels/train/NLA_407536852EDR_F0050432NCAM07753M1.png\n",
      "ai4mars-dataset-merged-0.1/msl/labels/train/NLB_450853594EDR_F0310724NCAM00320M1.png\n",
      "ai4mars-dataset-merged-0.1/msl/labels/train/NLB_558898347EDR_F0660084NCAM00223M1.png\n",
      "ai4mars-dataset-merged-0.1/msl/labels/train/NLB_454941818EDR_F0340000NCAM00296M1.png\n",
      "ai4mars-dataset-merged-0.1/msl/labels/train/NLB_567158854EDR_F0671714NCAM00207M1.png\n",
      "ai4mars-dataset-merged-0.1/msl/labels/train/NLB_549478333EDR_F0632086NCAM00280M1.png\n",
      "ai4mars-dataset-merged-0.1/msl/labels/train/NLB_483083920EDR_F0470000NCAM00354M1.png\n",
      "ai4mars-dataset-merged-0.1/msl/labels/train/NLB_506787283EDR_F0521162NCAM00190M1.png\n",
      "ai4mars-dataset-merged-0.1/msl/labels/train/NLB_548683295EDR_F0631450NCAM07753M1.png\n",
      "ai4mars-dataset-merged-0.1/msl/labels/train/NLB_540247064EDR_F0610252NCAM00654M1.png\n",
      "ai4mars-dataset-merged-0.1/msl/labels/train/NLB_432736829EDR_F0160148NCAM00323M1.png\n",
      "ai4mars-dataset-merged-0.1/msl/labels/train/NLB_543805555EDR_F0620036NCAM00385M1.png\n",
      "ai4mars-dataset-merged-0.1/msl/labels/train/NLB_563412675EDR_F0662276NCAM00385M1.png\n",
      "ai4mars-dataset-merged-0.1/msl/labels/train/NLB_430435318EDR_F0130974NCAM00278M1.png\n",
      "ai4mars-dataset-merged-0.1/msl/labels/train/NLB_516986096EDR_F0541490NCAM07753M1.png\n",
      "ai4mars-dataset-merged-0.1/msl/labels/train/NLA_601246404EDR_F0731206NCAM00320M1.png\n",
      "ai4mars-dataset-merged-0.1/msl/labels/train/NLB_507844538EDR_F0521312NCAM00352M1.png\n",
      "ai4mars-dataset-merged-0.1/msl/labels/train/NLB_511392443EDR_F0531756NCAM00354M1.png\n",
      "ai4mars-dataset-merged-0.1/msl/labels/train/NLB_513168929EDR_F0540006NCAM00267M1.png\n",
      "ai4mars-dataset-merged-0.1/msl/labels/train/NLB_493826313EDR_F0491798NCAM00254M1.png\n",
      "ai4mars-dataset-merged-0.1/msl/labels/train/NLB_521605119EDR_F0551864NCAM00654M1.png\n",
      "ai4mars-dataset-merged-0.1/msl/labels/train/NLB_626275686EDR_F0771560NCAM00264M1.png\n",
      "ai4mars-dataset-merged-0.1/msl/labels/train/NLB_512374477EDR_F0532578NCAM07753M1.png\n",
      "ai4mars-dataset-merged-0.1/msl/labels/train/NLB_543007508EDR_F0612472NCAM00354M1.png\n",
      "ai4mars-dataset-merged-0.1/msl/labels/train/NLB_456179757EDR_F0350998NCAM00260M1.png\n",
      "ai4mars-dataset-merged-0.1/msl/labels/train/NLB_539367457EDR_F0602892NCAM00385M1.png\n",
      "ai4mars-dataset-merged-0.1/msl/labels/train/NLA_601863891EDR_F0732346NCAM00263M1.png\n",
      "ai4mars-dataset-merged-0.1/msl/labels/train/NLB_588885154EDR_F0721316NCAM00320M1.png\n",
      "ai4mars-dataset-merged-0.1/msl/labels/train/NLB_530565168EDR_F0582088NCAM00385M1.png\n",
      "(200, 224, 224, 3) (200, 224, 224)\n",
      "[[4 4 4 ... 4 4 4]\n",
      " [4 4 4 ... 4 4 4]\n",
      " [4 4 4 ... 4 4 4]\n",
      " ...\n",
      " [4 1 1 ... 1 1 1]\n",
      " [4 4 1 ... 1 1 4]\n",
      " [4 4 1 ... 4 4 4]]\n"
     ]
    },
    {
     "data": {
      "text/plain": [
       "'\\nvalidation set parametrized to decide if you want only 1, 2, oe togheter\\nparametrized \\n'"
      ]
     },
     "execution_count": 2,
     "metadata": {},
     "output_type": "execute_result"
    }
   ],
   "source": [
    "#Path\n",
    "images = \"ai4mars-dataset-merged-0.1/msl/images\"\n",
    "label_train = \"ai4mars-dataset-merged-0.1/msl/labels/train\"\n",
    "label_test_1ag = \"ai4mars-dataset-merged-0.1/msl/labels/test/masked-gold-min1-100agree\"\n",
    "label_test_2ag = \"ai4mars-dataset-merged-0.1/msl/labels/test/masked-gold-min2-100agree\"\n",
    "label_test_3ag = \"ai4mars-dataset-merged-0.1/msl/labels/test/masked-gold-min3-100agree\"\n",
    "edr = images + \"/edr\"\n",
    "mxy = images + \"/mxy\" \n",
    "rng = images + \"/rng-30m\"\n",
    "\n",
    "\n",
    "edr_files = os.listdir(edr)\n",
    "label_train_files = os.listdir(label_train)\n",
    "label_test_files_1 = os.listdir(label_test_1ag)\n",
    "label_test_files_2 = os.listdir(label_test_2ag)\n",
    "label_test_files_3 = os.listdir(label_test_3ag)\n",
    "\n",
    "\n",
    "\n",
    "X = []\n",
    "y = []\n",
    "\n",
    "y1 = []\n",
    "y2 = []\n",
    "y3 = []\n",
    "\n",
    "c = 0\n",
    "size = 224\n",
    "\n",
    "\n",
    "\n",
    "for label in label_test_files_1:\n",
    "    path_label = os.path.join(label_test_1ag, label)\n",
    "\n",
    "    img_arr = cv2.imread(path_label,0) #read image\n",
    "    img_arr = cv2.resize(img_arr, dsize=(size, size),interpolation=cv2.INTER_NEAREST) #resize\n",
    "    y1.append(img_arr)\n",
    "\n",
    "for label in label_test_files_2:\n",
    "    path_label = os.path.join(label_test_1ag, label)\n",
    "\n",
    "    img_arr = cv2.imread(path_label,0) #read image\n",
    "    img_arr = cv2.resize(img_arr, dsize=(size, size),interpolation=cv2.INTER_NEAREST) #resize\n",
    "    y2.append(img_arr)\n",
    "\n",
    "for label in label_test_files_3:\n",
    "    path_label = os.path.join(label_test_1ag, label)\n",
    "\n",
    "    img_arr = cv2.imread(path_label,0) #read image\n",
    "    img_arr = cv2.resize(img_arr, dsize=(size, size),interpolation=cv2.INTER_NEAREST) #resize\n",
    "    y3.append(img_arr)\n",
    "    \n",
    "\n",
    "    \n",
    "\n",
    "\n",
    "for label in label_train_files:\n",
    "\n",
    "\n",
    " \n",
    "    img_name = label[:-4] + \".JPG\" #Names of images match names of labels, except for the extension (JPG, png)\n",
    "\n",
    "    if img_name in edr_files:\n",
    "\n",
    "        img_path = os.path.join(edr, img_name) #get the full path\n",
    "        \n",
    "        # this is ugly, to change!\n",
    "        img_arr = cv2.imread(img_path) #read image\n",
    "        img_arr = cv2.resize(img_arr, dsize=(size, size)) #resize\n",
    "\n",
    "\n",
    "        label_path = os.path.join(label_train, label)\n",
    "        lab_arr = cv2.imread(label_path,0) #0 mean read as greyscale image\n",
    "        lab_arr = cv2.resize(lab_arr, (size,size), interpolation = cv2.INTER_NEAREST)\n",
    "\n",
    "        X.append(img_arr)\n",
    "        print(label_path)\n",
    "        y.append(lab_arr)\n",
    "\n",
    "        #this control how much images you want\n",
    "        c+=1\n",
    "        if c==200: break\n",
    "\n",
    "\n",
    "X = np.asanyarray(X, dtype= np.float32) / 255\n",
    "y = np.array(y, dtype= np.int64)\n",
    "\n",
    "\n",
    "\n",
    "\n",
    "\n",
    "\n",
    "\n",
    "# 0 - soil --> 0 \n",
    "# 1 - bedrock --> 1\n",
    "# 2 - sand --> 2\n",
    "# 3 - big rock --> 3\n",
    "# 255 -> 4 - NULL (no label)\n",
    "\n",
    "\n",
    "y[y==255] = 4\n",
    "\n",
    "print(X.shape, y.shape)\n",
    "print(y[1])\n",
    "\n",
    "\n",
    "#from numpy array to torch\n",
    "\n",
    "Xt = torch.from_numpy(X)\n",
    "yt = torch.from_numpy(y)\n",
    "\n",
    "\n",
    "\n",
    "\n",
    "'''\n",
    "plt.imshow(X[0])\n",
    "plt.show()\n",
    "'''\n",
    "\n",
    "\n",
    "\n",
    "'''\n",
    "validation set parametrized to decide if you want only 1, 2, oe togheter\n",
    "parametrized \n",
    "'''\n"
   ]
  },
  {
   "cell_type": "code",
   "execution_count": 5,
   "metadata": {
    "colab": {
     "base_uri": "https://localhost:8080/"
    },
    "id": "IBd6yHWuUSnP",
    "outputId": "0f134bf2-33fe-4b82-f069-f77cbad8531b"
   },
   "outputs": [
    {
     "data": {
      "text/plain": [
       "torch.Size([200, 224, 224, 3])"
      ]
     },
     "execution_count": 5,
     "metadata": {},
     "output_type": "execute_result"
    }
   ],
   "source": [
    "Xt.shape"
   ]
  },
  {
   "cell_type": "code",
   "execution_count": 6,
   "metadata": {
    "colab": {
     "base_uri": "https://localhost:8080/"
    },
    "id": "696Zf_e7TgT5",
    "outputId": "08296163-4e10-4446-8e2c-25a0682245fe"
   },
   "outputs": [
    {
     "data": {
      "text/plain": [
       "torch.Size([200, 224, 672, 3])"
      ]
     },
     "execution_count": 6,
     "metadata": {},
     "output_type": "execute_result"
    }
   ],
   "source": [
    "\n",
    "X_rgb = torch.cat((Xt,Xt,Xt), dim=2)\n",
    "X_rgb.shape\n"
   ]
  },
  {
   "cell_type": "code",
   "execution_count": 3,
   "metadata": {
    "id": "otUTgv6v8Is7"
   },
   "outputs": [
    {
     "name": "stdout",
     "output_type": "stream",
     "text": [
      "2\n",
      "2\n",
      "2\n"
     ]
    }
   ],
   "source": [
    "\n",
    "#This class rappresents the dataset \n",
    "class Ai4MarsData(Dataset):\n",
    "    #X tensor (torch) -> images\n",
    "    #y tensor (torch) -> labels\n",
    "\n",
    "    def __init__(self, X, y, transform=None):\n",
    "        self.X = X\n",
    "        self.y = y\n",
    "        self.transform = transform\n",
    "    \n",
    "    def __len__(self):\n",
    "        return len(self.X)\n",
    "    \n",
    "    def __getitem__(self, index):\n",
    "        image = self.X[index]\n",
    "        label = self.y[index]\n",
    "\n",
    "        if self.transform:\n",
    "            image = self.transform(image)\n",
    "\n",
    "        return image, label\n",
    "    \n",
    "    #method used to split Dataset into 2 loader \n",
    "    def splitLoader(self,percentage,batch_size_train,batch_size_test):\n",
    "        dataset = self\n",
    "        ratio = percentage/100\n",
    "\n",
    "        #setup variables\n",
    "        d_size = len(self)\n",
    "        train_size = int(ratio*d_size)\n",
    "        test_size = d_size - train_size\n",
    "\n",
    "        #split\n",
    "        train_dataset, test_dataset = random_split(dataset,[train_size,test_size])\n",
    "\n",
    "        #create other loaders\n",
    "        train_loader = DataLoader(train_dataset,batch_size=batch_size_train)\n",
    "        test_loader = DataLoader(train_dataset,batch_size=batch_size_test)\n",
    "        return train_loader,test_loader\n",
    "    \n",
    "\n",
    "#create a dataset\n",
    "dataset = Ai4MarsData(Xt,yt)\n",
    "(trainL,testL) = dataset.splitLoader(30,32,32)\n",
    "print(len(trainL))\n",
    "\n",
    "#create a dataloader\n",
    "batch_size = 32\n",
    "data_loader = DataLoader(dataset, batch_size=batch_size,shuffle=False)\n",
    "\n",
    "# Define a dictionary that contains both the DataLoader object and the class definition\n",
    "data_dict = {\"dataloader\": data_loader, \"class\":Ai4MarsData}\n",
    "\n",
    "print(len(trainL))\n",
    "\n",
    "print(len(testL))\n",
    "\n"
   ]
  },
  {
   "cell_type": "code",
   "execution_count": null,
   "metadata": {
    "id": "M4APcisefdAi"
   },
   "outputs": [],
   "source": [
    "# Save the data loader as a pickle file\n",
    "with open('/content/drive/MyDrive/Dataset/data_loader.pkl', 'wb') as f:\n",
    "    pickle.dump(data_dict, f)"
   ]
  },
  {
   "cell_type": "code",
   "execution_count": null,
   "metadata": {
    "id": "LVu4dFD8fdAj"
   },
   "outputs": [],
   "source": [
    "# Save the data loader as a pickle file local\n",
    "with open('data_loader.pkl', 'wb') as f:\n",
    "    pickle.dump(data_dict, f)"
   ]
  }
 ],
 "metadata": {
  "colab": {
   "gpuType": "T4",
   "include_colab_link": true,
   "provenance": []
  },
  "gpuClass": "standard",
  "kernelspec": {
   "display_name": "Python 3 (ipykernel)",
   "language": "python",
   "name": "python3"
  },
  "language_info": {
   "codemirror_mode": {
    "name": "ipython",
    "version": 3
   },
   "file_extension": ".py",
   "mimetype": "text/x-python",
   "name": "python",
   "nbconvert_exporter": "python",
   "pygments_lexer": "ipython3",
   "version": "3.10.10"
  }
 },
 "nbformat": 4,
 "nbformat_minor": 1
}

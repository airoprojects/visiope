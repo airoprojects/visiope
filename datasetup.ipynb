{
 "cells": [
  {
   "cell_type": "code",
   "execution_count": 5,
   "metadata": {},
   "outputs": [],
   "source": [
    "import sys\n",
    "\n",
    "IN_COLAB = 'google.colab' in sys.modules\n",
    "\n",
    "if not IN_COLAB:\n",
    "\n",
    "    from git import Repo\n",
    "\n",
    "    # Initialize the Git repository object\n",
    "    repo = Repo(\".\", search_parent_directories=True)\n",
    "\n",
    "    # Get the root directory of the Git project\n",
    "    root_dir = repo.git.rev_parse(\"--show-toplevel\")\n",
    "\n",
    "    from pathlib import Path\n",
    "\n",
    "    # Set up path for custom importer modules\n",
    "    importer_module = root_dir + '/dataloader/'\n",
    "    sys.path.insert(0, importer_module)\n",
    "\n",
    "    # Insert here your local path to the dataset\n",
    "    data_path = input(\"Path to the dataset: \")\n",
    "\n",
    "else:\n",
    "\n",
    "    from google.colab import drive\n",
    "    drive.mount('/content/drive')\n",
    "\n",
    "    # On Colab the path to the module ti fixed once you have\n",
    "    # corretly set up the project with gitsetup.ipynb\n",
    "    fixed_path = '/content/drive/MyDrive/Github/visiope/dataloader/'\n",
    "    sys.path.insert(0, fixed_path)\n",
    "\n",
    "    # Insert here the path to the dataset on your drive\n",
    "    data_path = input(\"Path to the dataset: \")"
   ]
  },
  {
   "cell_type": "code",
   "execution_count": null,
   "metadata": {},
   "outputs": [],
   "source": [
    "import numpy as np\n",
    "import os\n",
    "from loader import Ai4MarsImporter, Ai4MarsProcessor, Ai4MarsData\n",
    "\n",
    "print(\"Making the npdataset\")\n",
    "data_import = Ai4MarsImporter()\n",
    "X, y = data_import(path=data_path, num_of_images=1000)\n",
    "\n",
    "# set up dataset directory\n",
    "save_path = input(\"Path to save the npdataset: \")\n",
    "\n",
    "if not os.path.exists(save_path) : \n",
    "    os.makedirs(save_path)\n",
    "\n",
    "save_path_X = save_path + 'X'\n",
    "np.save(save_path_X, X)\n",
    "\n",
    "save_path_y = save_path + 'y'\n",
    "np.save(save_path_y, y)"
   ]
  }
 ],
 "metadata": {
  "kernelspec": {
   "display_name": "snakes",
   "language": "python",
   "name": "python3"
  },
  "language_info": {
   "codemirror_mode": {
    "name": "ipython",
    "version": 3
   },
   "file_extension": ".py",
   "mimetype": "text/x-python",
   "name": "python",
   "nbconvert_exporter": "python",
   "pygments_lexer": "ipython3",
   "version": "3.10.6"
  },
  "orig_nbformat": 4
 },
 "nbformat": 4,
 "nbformat_minor": 2
}

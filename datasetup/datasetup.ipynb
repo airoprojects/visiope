{
 "cells": [
  {
   "cell_type": "code",
   "execution_count": 1,
   "metadata": {},
   "outputs": [],
   "source": [
    "# General imports\n",
    "\n",
    "import os\n",
    "import sys\n",
    "import torch\n",
    "import numpy as np\n",
    "import torch.nn as nn\n",
    "import torch.nn.functional as F\n",
    "from torch.utils.data import DataLoader\n",
    "import torchvision.transforms as transforms"
   ]
  },
  {
   "cell_type": "code",
   "execution_count": 2,
   "metadata": {},
   "outputs": [],
   "source": [
    "# Custom Imports\n",
    "COLAB = 'google.colab' in sys.modules\n",
    "LOCAL = not COLAB\n",
    "\n",
    "if COLAB:\n",
    "\n",
    "    # Clone visiope repo on runtime env\n",
    "    !git clone https://github.com/airoprojects/visiope.git /\n",
    "\n",
    "\n",
    "from git import Repo\n",
    "\n",
    "# Initialize the Git repository object\n",
    "repo = Repo(\".\", search_parent_directories=True)\n",
    "\n",
    "# Get the root directory of the Git project\n",
    "root_dir = repo.git.rev_parse(\"--show-toplevel\")\n",
    "\n",
    "# Add custom modules to path\n",
    "custom_modules_path = root_dir  + '/tools/'\n",
    "sys.path.insert(0, custom_modules_path)\n",
    "\n",
    "\n",
    "# Import Loader\n",
    "from data.utils import Ai4MarsDownload, Ai4MarsSplitter, Ai4MarsDataLoader"
   ]
  },
  {
   "cell_type": "code",
   "execution_count": 3,
   "metadata": {},
   "outputs": [
    {
     "name": "stdout",
     "output_type": "stream",
     "text": [
      "This are the Class parameters: \n",
      "               Dataset: ai4mars-dataset-merged-0.1 \n",
      "               Path to the dataset: /home/leeoos/Desktop/ \n",
      "               Colab Environment: False \n",
      "               Number of images to load: 500 \n",
      "               Saving path for X and y: None\n",
      "You already have ai4mars-dataset-merged-0.1\n",
      "Unpacking images and lables from: ai4mars-dataset-merged-0.1 ...\n",
      "Inputs len: 500\n",
      "Labels len: 500\n",
      "Converting inputs and labels into torch tensors ...\n",
      "Done\n",
      "\n",
      "Begin processing: \n",
      "             Dataset: ai4mars-dataset-merged-0.1 \n",
      "             Colab environment: False \n",
      "             Split percentages: [0.7, 0.2, 0.1] \n",
      "             Transformation: RandomChoice(\n",
      "    RandomRotation(degrees=[-90.0, 90.0], interpolation=nearest, expand=False, fill=0)\n",
      ")(p=None)\n",
      "Splitting in progress ...\n"
     ]
    },
    {
     "ename": "",
     "evalue": "",
     "output_type": "error",
     "traceback": [
      "\u001b[1;31mCannot execute code, session has been disposed. Please try restarting the Kernel."
     ]
    },
    {
     "ename": "",
     "evalue": "",
     "output_type": "error",
     "traceback": [
      "\u001b[1;31mThe Kernel crashed while executing code in the the current cell or a previous cell. Please review the code in the cell(s) to identify a possible cause of the failure. Click <a href='https://aka.ms/vscodeJupyterKernelCrash'>here</a> for more info. View Jupyter <a href='command:jupyter.viewOutput'>log</a> for further details."
     ]
    }
   ],
   "source": [
    "# Dataloader\n",
    "\n",
    "# Insert here your local path to the dataset (temporary on airodrive)\n",
    "#raise Exception('Remove this line and inset the path to the dataset below')\n",
    "data_path = '/home/leeoos/Desktop/'\n",
    "\n",
    "# Local path to save the dataset\n",
    "save_path = root_dir + '/datasetup/dataset/'\n",
    "\n",
    "# Import data as Ai4MarsDataset\n",
    "importer = Ai4MarsDownload()\n",
    "X, y = importer(PATH=data_path, NUM_IMAGES=500)\n",
    "\n",
    "# Uncomment the following lines to apply transformations to the dataset\n",
    "transform = transforms.RandomChoice([\n",
    "    transforms.RandomRotation(90)])\n",
    "\n",
    "# Split the dataset\n",
    "splitter = Ai4MarsSplitter()\n",
    "train_set, test_set, val_set = splitter(X, y, [0.7, 0.2, 0.1], transform=transform,\n",
    "                                        SAVE_PATH=save_path, SIZE=128)\n",
    "\n",
    "# Build Ai4MarsDataloader\n",
    "loader = Ai4MarsDataLoader()\n",
    "train_loader, test_loader, val_loader = loader([train_set, test_set, val_set], [32, 16, 16], SIZE=128, SAVE_PATH=save_path)"
   ]
  }
 ],
 "metadata": {
  "kernelspec": {
   "display_name": "snakes",
   "language": "python",
   "name": "python3"
  },
  "language_info": {
   "codemirror_mode": {
    "name": "ipython",
    "version": 3
   },
   "file_extension": ".py",
   "mimetype": "text/x-python",
   "name": "python",
   "nbconvert_exporter": "python",
   "pygments_lexer": "ipython3",
   "version": "3.10.6"
  },
  "orig_nbformat": 4
 },
 "nbformat": 4,
 "nbformat_minor": 2
}

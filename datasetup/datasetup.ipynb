{
 "cells": [
  {
   "cell_type": "code",
   "execution_count": 1,
   "metadata": {},
   "outputs": [],
   "source": [
    "# General imports\n",
    "\n",
    "import os\n",
    "import sys\n",
    "import torch\n",
    "import numpy as np\n",
    "import torch.nn as nn\n",
    "import torch.nn.functional as F\n",
    "from torch.utils.data import DataLoader\n",
    "import torchvision.transforms as transforms"
   ]
  },
  {
   "cell_type": "code",
   "execution_count": 2,
   "metadata": {},
   "outputs": [],
   "source": [
    "# Custom Imports\n",
    "COLAB = 'google.colab' in sys.modules\n",
    "LOCAL = not COLAB\n",
    "\n",
    "if COLAB:\n",
    "\n",
    "    # Clone visiope repo on runtime env\n",
    "    !git clone https://github.com/airoprojects/visiope.git /\n",
    "\n",
    "\n",
    "from git import Repo\n",
    "\n",
    "# Initialize the Git repository object\n",
    "repo = Repo(\".\", search_parent_directories=True)\n",
    "\n",
    "# Get the root directory of the Git project\n",
    "root_dir = repo.git.rev_parse(\"--show-toplevel\")\n",
    "\n",
    "# Add custom modules to path\n",
    "custom_modules_path = root_dir  + '/tools/'\n",
    "sys.path.insert(0, custom_modules_path)\n",
    "\n",
    "\n",
    "# Import Loader\n",
    "from data.utils import Ai4MarsDownload, Ai4MarsImporter"
   ]
  },
  {
   "cell_type": "code",
   "execution_count": 3,
   "metadata": {},
   "outputs": [
    {
     "name": "stdout",
     "output_type": "stream",
     "text": [
      "Downloader script for ai4mars-dataset-merged-0.1\n",
      "You already have ai4mars-dataset-merged-0.1\n",
      "Done\n",
      "\n"
     ]
    }
   ],
   "source": [
    "# Buld up a dataset with n torch tensor from ai4marsdataset\n",
    "\n",
    "# Insert here your local path to the dataset (temporary on airodrive)\n",
    "#raise Exception('Remove this line and inset the path to the dataset below')\n",
    "data_path = root_dir + '/'\n",
    "\n",
    "# Local path to save the dataset\n",
    "save_path = root_dir + '/datasetup/dataset/'\n",
    "\n",
    "# Import data as Ai4MarsDataset\n",
    "Ai4MarsDownload()(PATH=data_path)\n",
    "importer = Ai4MarsImporter()\n",
    "# X_, y_, _ = importer(PATH=data_path, NUM_IMAGES=500, SAVE_PATH=save_path, checkpoint=0)"
   ]
  },
  {
   "cell_type": "code",
   "execution_count": 14,
   "metadata": {},
   "outputs": [
    {
     "name": "stdout",
     "output_type": "stream",
     "text": [
      "Import parameters: \n",
      "               Dataset: ai4mars-dataset-merged-0.1 \n",
      "               Path to the dataset: /home/leeoos/Projects/master/airo-visiope/visiope/ \n",
      "               Number of images to load: 3000 \n",
      "               Saving path for X and y: /home/leeoos/Projects/master/airo-visiope/visiope/datasetup/dataset/\n",
      "Unpacking images and lables from: ai4mars-dataset-merged-0.1 ...\n",
      "Inputs len: 300\n",
      "Labels len: 300\n",
      "Converting inputs and labels into torch tensors ...\n",
      "ai4mars-dataset-merged-0.1 will be saved inside two different in: /home/leeoos/Projects/master/airo-visiope/visiope/datasetup/dataset/\n",
      "Done\n",
      "\n"
     ]
    }
   ],
   "source": [
    "# Extend the dataset\n",
    "for i in range (2700,3000,300):\n",
    "    if i == 0: \n",
    "        i = None\n",
    "    X_, y_, _ = importer(PATH=data_path, NUM_IMAGES=300, SAVE_PATH=save_path, checkpoint=i)"
   ]
  },
  {
   "cell_type": "code",
   "execution_count": null,
   "metadata": {},
   "outputs": [],
   "source": [
    "X, y = torch.load('./dataset/dataset.pt')\n",
    "print(X.shape)\n",
    "print(y.shape)\n"
   ]
  }
 ],
 "metadata": {
  "kernelspec": {
   "display_name": "Python 3 (ipykernel)",
   "language": "python",
   "name": "python3"
  },
  "language_info": {
   "codemirror_mode": {
    "name": "ipython",
    "version": 3
   },
   "file_extension": ".py",
   "mimetype": "text/x-python",
   "name": "python",
   "nbconvert_exporter": "python",
   "pygments_lexer": "ipython3",
   "version": "3.10.6"
  }
 },
 "nbformat": 4,
 "nbformat_minor": 2
}

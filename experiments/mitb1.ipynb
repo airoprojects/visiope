{
  "cells": [
    {
      "cell_type": "markdown",
      "metadata": {
        "id": "view-in-github",
        "colab_type": "text"
      },
      "source": [
        "<a href=\"https://colab.research.google.com/github/airoprojects/visiope/blob/main/experiments/mitb1.ipynb\" target=\"_parent\"><img src=\"https://colab.research.google.com/assets/colab-badge.svg\" alt=\"Open In Colab\"/></a>"
      ]
    },
    {
      "cell_type": "code",
      "execution_count": 1,
      "metadata": {
        "id": "iiTAPAa9elhO"
      },
      "outputs": [],
      "source": [
        "# General imports\n",
        "\n",
        "import os\n",
        "import sys\n",
        "import torch\n",
        "import numpy as np\n",
        "import torch.nn as nn\n",
        "import torch.nn.functional as F\n",
        "from torch.utils.data import DataLoader"
      ]
    },
    {
      "cell_type": "code",
      "source": [
        "# Custom Imports\n",
        "COLAB = 'google.colab' in sys.modules\n",
        "LOCAL = not COLAB\n",
        "\n",
        "if COLAB:\n",
        "\n",
        "    # Clone visiope repo on runtime env\n",
        "    !git clone https://github.com/airoprojects/visiope.git /content/visiope/\n",
        "\n",
        "    # Add custom modules to path\n",
        "    custom_modules_path = '/content/visiope/tools/'\n",
        "    sys.path.insert(0, custom_modules_path)\n",
        "\n",
        "elif LOCAL:\n",
        "\n",
        "    from git import Repo\n",
        "\n",
        "    # Initialize the Git repository object\n",
        "    repo = Repo(\".\", search_parent_directories=True)\n",
        "\n",
        "    # Get the root directory of the Git project\n",
        "    root_dir = repo.git.rev_parse(\"--show-toplevel\")\n",
        "\n",
        "    # Add custom modules to path\n",
        "    custom_modules_path = root_dir  + '/tools/'\n",
        "    sys.path.insert(0, custom_modules_path)\n",
        "\n",
        "else:\n",
        "    raise Exception(\"Unknown Environment\")\n",
        "\n",
        "\n",
        "# Import Loader\n",
        "from data.utils import Ai4MarsDownload, Ai4MarsSplitter, Ai4MarsDataloader\n",
        "\n",
        "# Import Loss\n",
        "import loss.loss\n",
        "\n",
        "# Import Trainer\n",
        "import trainer.trainer\n",
        "\n",
        "# Set device\n",
        "device = torch.device('cuda' if torch.cuda.is_available() else 'cpu')"
      ],
      "metadata": {
        "id": "9ywxl7By7Pv3"
      },
      "execution_count": null,
      "outputs": []
    },
    {
      "cell_type": "code",
      "execution_count": 4,
      "metadata": {
        "id": "jmRVji71wGJc"
      },
      "outputs": [],
      "source": [
        "# Dataloader\n",
        "\n",
        "# Set this to True if you wnat to load directly the dataloader\n",
        "# this can be done only on colab and it is useful to avoid runtime crash\n",
        "LOAD = True\n",
        "\n",
        "if LOAD and not LOCAL:\n",
        "\n",
        "    if not(os.path.exists('/content/dataset/')):\n",
        "\n",
        "        import gdown\n",
        "\n",
        "        # get url of torch dataset (temporarerly my drive)\n",
        "        drive = 'https://drive.google.com/uc?id='\n",
        "        url = drive + '1agH_nuMOUaaVnX6_kzVu3me0lFHNU69L'\n",
        "\n",
        "        # download dataloader on runtime env\n",
        "        data_path = '/content/dataset/'\n",
        "        gdown.download(url, data_path, quiet=False)\n",
        "\n",
        "    dataloader = torch.load(\"/content/dataset/dataloader.pt\")\n",
        "    train_loader = dataloader[0]\n",
        "    test_loader = dataloader[1]\n",
        "    val_loader = dataloader[2]\n",
        "\n",
        "\n",
        "elif LOCAL or not LOAD:\n",
        "\n",
        "    # Insert here your local path to the dataset (temporary)\n",
        "    data_path = input(\"Path to Dataset: \")\n",
        "\n",
        "    # Insert here the number of images you want to download\n",
        "    num_images = int(input(\"Number of images (max 1000): \"))\n",
        "\n",
        "    # Insert here your local path to the dataset (temporary)\n",
        "    save_path = input(\"Path to Save the Dataset: \")\n",
        "\n",
        "    if num_images > 1000 : raise Exception(\"Trying to import too many images\")\n",
        "\n",
        "    # Import data as Ai4MarsDataset\n",
        "    importer = Ai4MarsDownload()\n",
        "    X, y = importer(PATH=data_path, NUM_IMAGES=num_images)\n",
        "\n",
        "    # Split the dataset\n",
        "    splitter = Ai4MarsSplitter()\n",
        "    train_set, test_set, val_set = splitter(X, y, [0.7, 0.2, 0.1])\n",
        "\n",
        "    # Build Ai4MarsDataloader\n",
        "    loader = Ai4MarsDataloader()\n",
        "    train_loader, test_loader, val_loader = loader([train_set, test_set, val_set], [32, 16, 16],\n",
        "                                               SIZE=64, SAVE_PATH=save_path)\n"
      ]
    },
    {
      "cell_type": "code",
      "source": [
        "print(len(test_loader.dataset))\n",
        "\n",
        "print(test_loader.dataset.__getitem__(0)[0].shape)"
      ],
      "metadata": {
        "id": "PhPxl0S677gf"
      },
      "execution_count": null,
      "outputs": []
    },
    {
      "cell_type": "code",
      "execution_count": null,
      "metadata": {
        "id": "9FCQvjMbelhL"
      },
      "outputs": [],
      "source": [
        "# Clone remote repo with existing models\n",
        "\n",
        "!git clone https://github.com/sithu31296/semantic-segmentation\n",
        "%cd semantic-segmentation\n",
        "%pip install -e .\n",
        "%pip install -U gdown"
      ]
    },
    {
      "cell_type": "code",
      "execution_count": 9,
      "metadata": {
        "colab": {
          "base_uri": "https://localhost:8080/",
          "height": 104
        },
        "id": "-kx8AswxelhW",
        "outputId": "d8a7f139-c131-4877-8347-be2b78b5726a"
      },
      "outputs": [
        {
          "output_type": "stream",
          "name": "stderr",
          "text": [
            "Downloading...\n",
            "From: https://drive.google.com/uc?id=1-OmW3xRD3WAbJTzktPC-VMOF5WMsN8XT\n",
            "To: /content/semantic-segmentation/checkpoints/pretrained/segformer/segformer.b3.ade.pth\n",
            "100%|██████████| 190M/190M [00:00<00:00, 223MB/s]\n"
          ]
        },
        {
          "output_type": "execute_result",
          "data": {
            "text/plain": [
              "'./checkpoints/pretrained/segformer/segformer.b3.ade.pth'"
            ],
            "application/vnd.google.colaboratory.intrinsic+json": {
              "type": "string"
            }
          },
          "metadata": {},
          "execution_count": 9
        }
      ],
      "source": [
        "import gdown\n",
        "from pathlib import Path\n",
        "\n",
        "ckpt = Path('./checkpoints/pretrained/segformer')\n",
        "ckpt.mkdir(exist_ok=True, parents=True)\n",
        "\n",
        "url = 'https://drive.google.com/uc?id=1-OmW3xRD3WAbJTzktPC-VMOF5WMsN8XT'\n",
        "output = './checkpoints/pretrained/segformer/segformer.b3.ade.pth'\n",
        "\n",
        "gdown.download(url, output, quiet=False)"
      ]
    },
    {
      "cell_type": "code",
      "execution_count": null,
      "metadata": {
        "id": "ZCa6tmRlelhW"
      },
      "outputs": [],
      "source": [
        "#  Import segformer\n",
        "\n",
        "from semseg.models import *\n",
        "\n",
        "model = eval('SegFormer')(\n",
        "    backbone='MiT-B1',\n",
        "    num_classes=5\n",
        ")\n",
        "\n",
        "try:\n",
        "    model.load_state_dict(torch.load('checkpoints/pretrained/segformer/segformer.b3.ade.pth', map_location='cpu'))\n",
        "except:\n",
        "    print(\"Download a pretrained model's weights from the result table.\")\n",
        "model.eval()\n",
        "\n",
        "model.to(device)\n",
        "\n",
        "print('Loaded Model')\n",
        "print(model.backbone)"
      ]
    },
    {
      "cell_type": "code",
      "execution_count": null,
      "metadata": {
        "id": "FVgYCY-TvpGu"
      },
      "outputs": [],
      "source": [
        "PATH = '/content/drive/MyDrive/Models/MiT-B0/state_dict'\n",
        "if os.path.exists(PATH):\n",
        "    state_dict = torch.load(PATH)\n",
        "    model.load_state_dict(state_dict)\n",
        "    # Compare the model's state with the loaded state\n",
        "    wmatch = True\n",
        "    for key in state_dict:\n",
        "        if not torch.equal(model.state_dict()[key], state_dict[key]):\n",
        "            match = False\n",
        "            break\n",
        "\n",
        "    if wmatch:\n",
        "        print(\"State loaded successfully\")\n",
        "    else:\n",
        "        print(\"State loading failed\")"
      ]
    },
    {
      "cell_type": "code",
      "execution_count": 15,
      "metadata": {
        "id": "YZrWoohAW4k0"
      },
      "outputs": [],
      "source": [
        "from typing import Optional\n",
        "\n",
        "import torch\n",
        "import torch.nn as nn\n",
        "import torch.nn.functional as F\n",
        "\n",
        "\n",
        "\n",
        "# based on:\n",
        "# https://github.com/kevinzakka/pytorch-goodies/blob/master/losses.py\n",
        "\n",
        "class DiceLoss(nn.Module):\n",
        "\n",
        "    def __init__(self,device,stampa=True) -> None:\n",
        "        super(DiceLoss, self).__init__()\n",
        "        self.eps: float = 1e-6\n",
        "        self.device = device\n",
        "        self.stampa = stampa\n",
        "\n",
        "    def forward(\n",
        "            self,\n",
        "            input: torch.Tensor,\n",
        "            target: torch.Tensor) -> torch.Tensor:\n",
        "\n",
        "\n",
        "        #errors:\n",
        "        if not torch.is_tensor(input):\n",
        "            raise TypeError(\"Input type is not a torch.Tensor. Got {}\"\n",
        "                            .format(type(input)))\n",
        "        if not len(input.shape) == 4:\n",
        "            raise ValueError(\"Invalid input shape, we expect BxNxHxW. Got: {}\"\n",
        "                             .format(input.shape))\n",
        "        if not input.shape[-2:] == target.shape[-2:]:\n",
        "            raise ValueError(\"input and target shapes must be the same. Got: {}\"\n",
        "                             .format(input.shape, input.shape))\n",
        "        if not input.device == target.device:\n",
        "            raise ValueError(\n",
        "                \"input and target must be in the same device. Got: {}\" .format(\n",
        "                    input.device, target.device))\n",
        "\n",
        "\n",
        "        num_classes = input.shape[1]\n",
        "\n",
        "\n",
        "\n",
        "        # compute softmax over the classes axis\n",
        "        input_soft = F.softmax(input, dim=1)\n",
        "\n",
        "        # print(\"shape\", input_soft.shape)\n",
        "\n",
        "\n",
        "\n",
        "        input_soft = input_soft.permute(0,2,1,3)\n",
        "        input_soft = input_soft.permute(0,1,3,2)\n",
        "\n",
        "        # create the labels one hot tensor\n",
        "        target_one_hot = F.one_hot(target, num_classes=input.shape[1])\n",
        "\n",
        "        # target_one_hot = target_one_hot.permute(0,1,3,2)\n",
        "        # target_one_hot = target_one_hot.permute(0,2,1,3)\n",
        "\n",
        "        # print(\"target_one_hot\",target_one_hot.shape)\n",
        "        # print(\"input_soft\",input_soft.shape)\n",
        "\n",
        "\n",
        "\n",
        "\n",
        "\n",
        "        # compute the actual dice score\n",
        "        dims = (1, 2, 3)\n",
        "        intersection = torch.sum(input_soft.reshape(-1) * target_one_hot.reshape(-1), -1)\n",
        "        cardinality = torch.sum(input_soft.reshape(-1) + target_one_hot.reshape(-1), -1)\n",
        "\n",
        "        dice_score = 2. * intersection / (cardinality + self.eps)\n",
        "\n",
        "        # if (self.stampa):\n",
        "        #   print(\"outputs\",input_soft)\n",
        "        #   print(\"labels\",target_one_hot)\n",
        "        #   print((1. - dice_score).item())\n",
        "\n",
        "\n",
        "\n",
        "        # print((1. - dice_score).shape)\n",
        "\n",
        "\n",
        "\n",
        "        return 1. - dice_score\n",
        "\n",
        "        #Alternative Universe\n",
        "\n",
        "        # labels = target_one_hot\n",
        "        # preds = input_soft\n",
        "\n",
        "        # tp = torch.sum(labels*preds, dim=(2, 3))\n",
        "        # fn = torch.sum(labels*(1-preds), dim=(2, 3))\n",
        "        # fp = torch.sum((1-labels)*preds, dim=(2, 3))\n",
        "\n",
        "\n",
        "        # delta = 0.5 # va messo come hyperparameter\n",
        "\n",
        "        # dice_score = (tp + 1e-6) / (tp + delta * fn + (1 - delta) * fp + 1e-6)\n",
        "        # dice_score = torch.sum(1 - dice_score, dim=-1)\n",
        "\n",
        "        # dice_score = dice_score / num_classes\n",
        "        # return dice_score.mean()\n",
        "\n",
        "\n",
        "\n",
        "\n",
        "\n",
        "\n",
        "\n",
        "######################\n",
        "# functional interface\n",
        "######################\n",
        "\n",
        "\n",
        "def dice_loss(\n",
        "        input: torch.Tensor,\n",
        "        target: torch.Tensor) -> torch.Tensor:\n",
        "    r\"\"\"Function that computes Sørensen-Dice Coefficient loss.\n",
        "\n",
        "    See :class:`~torchgeometry.losses.DiceLoss` for details.\n",
        "    \"\"\"\n",
        "    return DiceLoss()(input, target)"
      ]
    },
    {
      "cell_type": "code",
      "execution_count": 16,
      "metadata": {
        "id": "8adJT2MU180a"
      },
      "outputs": [],
      "source": [
        "import sys\n",
        "import torch\n",
        "from pathlib import Path\n",
        "from datetime import datetime\n",
        "import matplotlib.pyplot as plt\n",
        "\n",
        "\n",
        "# This class collects all the training functionalities to train different models\n",
        "class TmpTrainer():\n",
        "\n",
        "    # Initialization of training parameters in the class constructor\n",
        "    def __init__(self, loss_fn, optimizer, train_loader, test_loader,\n",
        "                 device='cpu', save_state=None):\n",
        "        self.loss_fn = loss_fn\n",
        "        self.optimizer = optimizer\n",
        "        self.train_loader = train_loader\n",
        "        self.test_loader = test_loader\n",
        "        self.device = device\n",
        "        self.save_state = save_state\n",
        "        self.loss_array=[]\n",
        "\n",
        "    # This function implements training for just one epoch\n",
        "    def train_one_epoch(self, model, epoch_index=0):\n",
        "        accumulated_loss = 0.\n",
        "        last_loss = 0.\n",
        "\n",
        "\n",
        "        for batch_index, batch in enumerate(self.train_loader):\n",
        "            # Every data instance is an (input, label) pair\n",
        "            inputs, labels = batch\n",
        "\n",
        "            # print(\"ORIGINAL INPUT -> \",inputs.shape)\n",
        "\n",
        "            # Zero your gradients for every batch!\n",
        "            self.optimizer.zero_grad()\n",
        "\n",
        "            # Send inputs and labels to GPU\n",
        "            inputs = inputs.to(self.device)\n",
        "            labels = labels.to(self.device)\n",
        "\n",
        "            # Make predictions for this batch\n",
        "            outputs = model(inputs)\n",
        "\n",
        "            labels = labels.squeeze()\n",
        "            labels = labels.long()\n",
        "\n",
        "\n",
        "            #TEST WITH SMALL BATCH\n",
        "            # outputs = outputs[:1,:,:4,:4]\n",
        "            # labels = labels[:1,:4,:4]\n",
        "\n",
        "            # Compute the loss and its gradients\n",
        "            loss = self.loss_fn(outputs, labels)\n",
        "            loss.backward()\n",
        "\n",
        "            # Adjust learning weights\n",
        "            self.optimizer.step()\n",
        "\n",
        "            accumulated_loss += loss.item()\n",
        "            #report_index = len(self.train_loader) -1\n",
        "\n",
        "            # Free VRAM\n",
        "            inputs.detach()\n",
        "            labels.detach()\n",
        "            del inputs\n",
        "            del labels\n",
        "\n",
        "        # Compute the average loss over all batches\n",
        "        last_loss =  (accumulated_loss) /(batch_index+1)\n",
        "\n",
        "        # Print report at the end of the last batch\n",
        "        print(f'Epoch {epoch_index+1} loss: {last_loss}')\n",
        "\n",
        "        return last_loss\n",
        "\n",
        "    # This function implements training for multiple epochs\n",
        "    def train_multiple_epoch(self, model, EPOCHS=100):\n",
        "        timestamp = datetime.now().strftime('%Y%m%d_%H%M%S')\n",
        "        epoch_number = 0 # just a counter\n",
        "        best_tloss = 1_000_000.\n",
        "        self.loss_array = []\n",
        "\n",
        "        for epoch in range(EPOCHS):\n",
        "            print(f'EPOCH: {epoch+1}')\n",
        "\n",
        "            # Make sure gradient tracking is on, and do a pass over the data\n",
        "            model.train()\n",
        "            avg_loss = self.train_one_epoch(model, epoch)\n",
        "            self.loss_array.append(avg_loss)\n",
        "\n",
        "            # We don't need gradients on to do reporting\n",
        "            # model.eval()\n",
        "\n",
        "            # Test loss\n",
        "            # accumulated_tloss = 0.0\n",
        "            # for tbatch_index, tbatch in enumerate(self.test_loader):\n",
        "\n",
        "            #     # Every data instance is a (input, label) pair\n",
        "            #     tinputs, tlabels = tbatch\n",
        "\n",
        "            #     # Send inputs and labels to GPU\n",
        "            #     tinputs = tinputs.to(self.device)\n",
        "            #     tlabels = tlabels.to(self.device)\n",
        "\n",
        "            #     # Model prediction\n",
        "            #     toutputs = model(tinputs)\n",
        "\n",
        "            #     tlabels = tlabels.squeeze()\n",
        "            #     tlabels = tlabels.long()\n",
        "\n",
        "            #     # Run test loss\n",
        "            #     test_loss = self.loss_fn(toutputs, tlabels)\n",
        "            #     accumulated_tloss += test_loss.item()\n",
        "\n",
        "            #     tinputs.detach()\n",
        "            #     tlabels.detach()\n",
        "            #     del tinputs\n",
        "            #     del tlabels\n",
        "\n",
        "            # Compute the average loss over all batches\n",
        "            # avg_tloss = accumulated_tloss / (tbatch_index + 1)\n",
        "\n",
        "            # # Print report at the end of the epoch\n",
        "            # print(f'LOSS train {avg_loss} test {avg_tloss}')\n",
        "\n",
        "            # # Track best performance, and save the model's state\n",
        "            # if avg_tloss < best_tloss:\n",
        "            #     best_tloss = avg_tloss\n",
        "            #     model_path = 'model_{}_{}'.format(timestamp, epoch_number)\n",
        "            #     torch.save(model.state_dict(), model_path)\n",
        "\n",
        "        if self.save_state:\n",
        "            print(f'Saving model state in: {self.save_state}')\n",
        "            torch.save(model.state_dict(), self.save_state)\n",
        "\n",
        "\n",
        "if __name__ == '__main__':\n",
        "    pass"
      ]
    },
    {
      "cell_type": "code",
      "execution_count": 21,
      "metadata": {
        "id": "sSxW3mFNelhl"
      },
      "outputs": [],
      "source": [
        "# Define training parameters\n",
        "#loss_fn =  torch.nn.CrossEntropyLoss().to(device)\n",
        "loss_fn = DiceLoss(device).to(device)\n",
        "optimizer = torch.optim.Adam(model.parameters(), lr=0.001)\n",
        "training_set = train_loader\n",
        "test_set =  test_loader\n",
        "\n",
        "trainer = TmpTrainer(loss_fn, optimizer, training_set, test_set, device,\n",
        "                     save_state='/content/state_dict')"
      ]
    },
    {
      "cell_type": "code",
      "execution_count": 22,
      "metadata": {
        "id": "FSkhk_Rl2gX0",
        "colab": {
          "base_uri": "https://localhost:8080/",
          "height": 1000
        },
        "outputId": "ae25154a-9478-46f8-ab76-9f37beea7d8d"
      },
      "outputs": [
        {
          "output_type": "stream",
          "name": "stdout",
          "text": [
            "EPOCH: 1\n",
            "Epoch 1 loss: 0.5803963298147375\n",
            "EPOCH: 2\n",
            "Epoch 2 loss: 0.5804506757042625\n",
            "EPOCH: 3\n",
            "Epoch 3 loss: 0.5799132504246451\n",
            "EPOCH: 4\n",
            "Epoch 4 loss: 0.5802766870368611\n",
            "EPOCH: 5\n",
            "Epoch 5 loss: 0.5798328952355818\n",
            "EPOCH: 6\n",
            "Epoch 6 loss: 0.5801295475526289\n",
            "EPOCH: 7\n",
            "Epoch 7 loss: 0.5800102515654131\n",
            "EPOCH: 8\n",
            "Epoch 8 loss: 0.5794994316317819\n",
            "EPOCH: 9\n",
            "Epoch 9 loss: 0.5806623182513497\n",
            "EPOCH: 10\n",
            "Epoch 10 loss: 0.5800105983560736\n",
            "EPOCH: 11\n",
            "Epoch 11 loss: 0.5804321982643821\n",
            "EPOCH: 12\n",
            "Epoch 12 loss: 0.5800830776041205\n",
            "EPOCH: 13\n",
            "Epoch 13 loss: 0.5802870907566764\n",
            "EPOCH: 14\n",
            "Epoch 14 loss: 0.580481540073048\n",
            "EPOCH: 15\n",
            "Epoch 15 loss: 0.5805081941864707\n",
            "EPOCH: 16\n",
            "Epoch 16 loss: 0.5798721801150929\n",
            "EPOCH: 17\n",
            "Epoch 17 loss: 0.5800425545735792\n",
            "EPOCH: 18\n",
            "Epoch 18 loss: 0.5801399512724443\n",
            "EPOCH: 19\n",
            "Epoch 19 loss: 0.5803087895566766\n",
            "EPOCH: 20\n",
            "Epoch 20 loss: 0.5797092372720892\n",
            "EPOCH: 21\n",
            "Epoch 21 loss: 0.5802055949514563\n",
            "EPOCH: 22\n",
            "Epoch 22 loss: 0.5799929120323875\n",
            "EPOCH: 23\n",
            "Epoch 23 loss: 0.5802896185354753\n",
            "EPOCH: 24\n",
            "Epoch 24 loss: 0.5802617262710225\n",
            "EPOCH: 25\n",
            "Epoch 25 loss: 0.5802319510416551\n",
            "EPOCH: 26\n",
            "Epoch 26 loss: 0.5802640047940341\n",
            "EPOCH: 27\n"
          ]
        },
        {
          "output_type": "error",
          "ename": "KeyboardInterrupt",
          "evalue": "ignored",
          "traceback": [
            "\u001b[0;31m---------------------------------------------------------------------------\u001b[0m",
            "\u001b[0;31mKeyboardInterrupt\u001b[0m                         Traceback (most recent call last)",
            "\u001b[0;32m<ipython-input-22-8e1f514113a0>\u001b[0m in \u001b[0;36m<cell line: 2>\u001b[0;34m()\u001b[0m\n\u001b[1;32m      1\u001b[0m \u001b[0;31m# START TRAIN\u001b[0m\u001b[0;34m\u001b[0m\u001b[0;34m\u001b[0m\u001b[0m\n\u001b[0;32m----> 2\u001b[0;31m \u001b[0mtrainer\u001b[0m\u001b[0;34m.\u001b[0m\u001b[0mtrain_multiple_epoch\u001b[0m\u001b[0;34m(\u001b[0m\u001b[0mmodel\u001b[0m\u001b[0;34m,\u001b[0m \u001b[0mEPOCHS\u001b[0m\u001b[0;34m=\u001b[0m\u001b[0;36m100\u001b[0m\u001b[0;34m)\u001b[0m\u001b[0;34m\u001b[0m\u001b[0;34m\u001b[0m\u001b[0m\n\u001b[0m",
            "\u001b[0;32m<ipython-input-16-9450535a241b>\u001b[0m in \u001b[0;36mtrain_multiple_epoch\u001b[0;34m(self, model, EPOCHS)\u001b[0m\n\u001b[1;32m     86\u001b[0m             \u001b[0;31m# Make sure gradient tracking is on, and do a pass over the data\u001b[0m\u001b[0;34m\u001b[0m\u001b[0;34m\u001b[0m\u001b[0m\n\u001b[1;32m     87\u001b[0m             \u001b[0mmodel\u001b[0m\u001b[0;34m.\u001b[0m\u001b[0mtrain\u001b[0m\u001b[0;34m(\u001b[0m\u001b[0;34m)\u001b[0m\u001b[0;34m\u001b[0m\u001b[0;34m\u001b[0m\u001b[0m\n\u001b[0;32m---> 88\u001b[0;31m             \u001b[0mavg_loss\u001b[0m \u001b[0;34m=\u001b[0m \u001b[0mself\u001b[0m\u001b[0;34m.\u001b[0m\u001b[0mtrain_one_epoch\u001b[0m\u001b[0;34m(\u001b[0m\u001b[0mmodel\u001b[0m\u001b[0;34m,\u001b[0m \u001b[0mepoch\u001b[0m\u001b[0;34m)\u001b[0m\u001b[0;34m\u001b[0m\u001b[0;34m\u001b[0m\u001b[0m\n\u001b[0m\u001b[1;32m     89\u001b[0m             \u001b[0mself\u001b[0m\u001b[0;34m.\u001b[0m\u001b[0mloss_array\u001b[0m\u001b[0;34m.\u001b[0m\u001b[0mappend\u001b[0m\u001b[0;34m(\u001b[0m\u001b[0mavg_loss\u001b[0m\u001b[0;34m)\u001b[0m\u001b[0;34m\u001b[0m\u001b[0;34m\u001b[0m\u001b[0m\n\u001b[1;32m     90\u001b[0m \u001b[0;34m\u001b[0m\u001b[0m\n",
            "\u001b[0;32m<ipython-input-16-9450535a241b>\u001b[0m in \u001b[0;36mtrain_one_epoch\u001b[0;34m(self, model, epoch_index)\u001b[0m\n\u001b[1;32m     52\u001b[0m             \u001b[0;31m# Compute the loss and its gradients\u001b[0m\u001b[0;34m\u001b[0m\u001b[0;34m\u001b[0m\u001b[0m\n\u001b[1;32m     53\u001b[0m             \u001b[0mloss\u001b[0m \u001b[0;34m=\u001b[0m \u001b[0mself\u001b[0m\u001b[0;34m.\u001b[0m\u001b[0mloss_fn\u001b[0m\u001b[0;34m(\u001b[0m\u001b[0moutputs\u001b[0m\u001b[0;34m,\u001b[0m \u001b[0mlabels\u001b[0m\u001b[0;34m)\u001b[0m\u001b[0;34m\u001b[0m\u001b[0;34m\u001b[0m\u001b[0m\n\u001b[0;32m---> 54\u001b[0;31m             \u001b[0mloss\u001b[0m\u001b[0;34m.\u001b[0m\u001b[0mbackward\u001b[0m\u001b[0;34m(\u001b[0m\u001b[0;34m)\u001b[0m\u001b[0;34m\u001b[0m\u001b[0;34m\u001b[0m\u001b[0m\n\u001b[0m\u001b[1;32m     55\u001b[0m \u001b[0;34m\u001b[0m\u001b[0m\n\u001b[1;32m     56\u001b[0m             \u001b[0;31m# Adjust learning weights\u001b[0m\u001b[0;34m\u001b[0m\u001b[0;34m\u001b[0m\u001b[0m\n",
            "\u001b[0;32m/usr/local/lib/python3.10/dist-packages/torch/_tensor.py\u001b[0m in \u001b[0;36mbackward\u001b[0;34m(self, gradient, retain_graph, create_graph, inputs)\u001b[0m\n\u001b[1;32m    485\u001b[0m                 \u001b[0minputs\u001b[0m\u001b[0;34m=\u001b[0m\u001b[0minputs\u001b[0m\u001b[0;34m,\u001b[0m\u001b[0;34m\u001b[0m\u001b[0;34m\u001b[0m\u001b[0m\n\u001b[1;32m    486\u001b[0m             )\n\u001b[0;32m--> 487\u001b[0;31m         torch.autograd.backward(\n\u001b[0m\u001b[1;32m    488\u001b[0m             \u001b[0mself\u001b[0m\u001b[0;34m,\u001b[0m \u001b[0mgradient\u001b[0m\u001b[0;34m,\u001b[0m \u001b[0mretain_graph\u001b[0m\u001b[0;34m,\u001b[0m \u001b[0mcreate_graph\u001b[0m\u001b[0;34m,\u001b[0m \u001b[0minputs\u001b[0m\u001b[0;34m=\u001b[0m\u001b[0minputs\u001b[0m\u001b[0;34m\u001b[0m\u001b[0;34m\u001b[0m\u001b[0m\n\u001b[1;32m    489\u001b[0m         )\n",
            "\u001b[0;32m/usr/local/lib/python3.10/dist-packages/torch/autograd/__init__.py\u001b[0m in \u001b[0;36mbackward\u001b[0;34m(tensors, grad_tensors, retain_graph, create_graph, grad_variables, inputs)\u001b[0m\n\u001b[1;32m    198\u001b[0m     \u001b[0;31m# some Python versions print out the first line of a multi-line function\u001b[0m\u001b[0;34m\u001b[0m\u001b[0;34m\u001b[0m\u001b[0m\n\u001b[1;32m    199\u001b[0m     \u001b[0;31m# calls in the traceback and some print out the last line\u001b[0m\u001b[0;34m\u001b[0m\u001b[0;34m\u001b[0m\u001b[0m\n\u001b[0;32m--> 200\u001b[0;31m     Variable._execution_engine.run_backward(  # Calls into the C++ engine to run the backward pass\n\u001b[0m\u001b[1;32m    201\u001b[0m         \u001b[0mtensors\u001b[0m\u001b[0;34m,\u001b[0m \u001b[0mgrad_tensors_\u001b[0m\u001b[0;34m,\u001b[0m \u001b[0mretain_graph\u001b[0m\u001b[0;34m,\u001b[0m \u001b[0mcreate_graph\u001b[0m\u001b[0;34m,\u001b[0m \u001b[0minputs\u001b[0m\u001b[0;34m,\u001b[0m\u001b[0;34m\u001b[0m\u001b[0;34m\u001b[0m\u001b[0m\n\u001b[1;32m    202\u001b[0m         allow_unreachable=True, accumulate_grad=True)  # Calls into the C++ engine to run the backward pass\n",
            "\u001b[0;31mKeyboardInterrupt\u001b[0m: "
          ]
        }
      ],
      "source": [
        "# START TRAIN\n",
        "trainer.train_multiple_epoch(model, EPOCHS=100)"
      ]
    },
    {
      "cell_type": "code",
      "execution_count": 23,
      "metadata": {
        "colab": {
          "base_uri": "https://localhost:8080/",
          "height": 430
        },
        "id": "ydweI29r18jr",
        "outputId": "b6c55301-7a53-452d-c4ea-1ee591c9fe2d"
      },
      "outputs": [
        {
          "output_type": "display_data",
          "data": {
            "text/plain": [
              "<Figure size 640x480 with 1 Axes>"
            ],
            "image/png": "[encoded data removed]"
          },
          "metadata": {}
        }
      ],
      "source": [
        "# Plot the histogram\n",
        "plt.plot(np.array(trainer.loss_array))\n",
        "plt.show()"
      ]
    },
    {
      "cell_type": "code",
      "execution_count": 28,
      "metadata": {
        "id": "VYTig4Zx8Uhi",
        "colab": {
          "base_uri": "https://localhost:8080/",
          "height": 122
        },
        "outputId": "cfd5bc75-778b-4e82-a0c6-48509c125082"
      },
      "outputs": [
        {
          "output_type": "stream",
          "name": "stdout",
          "text": [
            "prediction shape: torch.Size([16, 5, 64, 64])\n",
            "label shape: torch.Size([16, 64, 64])\n",
            "loss : 0.7086944580078125\n"
          ]
        },
        {
          "output_type": "execute_result",
          "data": {
            "text/plain": [
              "\"\\npred = pred.softmax(1).argmax(1).to(int)\\npred.unique()\\n\\nfrom semseg.datasets import *\\npalette = eval('ADE20K').PALETTE\\nseg_map = palette[pred.cpu()].squeeze().to(torch.uint8)\\n\\nprint(f'pred shape: {seg_map.shape}')\\nplt.imshow(seg_map[0], cmap='gray')\\nplt.show()\""
            ],
            "application/vnd.google.colaboratory.intrinsic+json": {
              "type": "string"
            }
          },
          "metadata": {},
          "execution_count": 28
        }
      ],
      "source": [
        "import matplotlib.pyplot as plt\n",
        "\n",
        "image, label = next(iter(val_loader))\n",
        "\n",
        "'''print(f'image shape: {image.permute(0,2,1,3).permute(0,1,3,2).shape}')\n",
        "plt.imshow(image[0].permute(1,0,2).permute(0,2,1).detach().numpy(), cmap='gray')\n",
        "plt.show()\n",
        "\n",
        "print(f'label shape: {label.permute(0,2,1,3).permute(0,1,3,2).shape}')\n",
        "plt.imshow(label[0].permute(1,0,2).permute(0,2,1).detach().numpy(), cmap='gray')\n",
        "plt.show()'''\n",
        "\n",
        "image = image.to(device)\n",
        "label = label.to(device)\n",
        "\n",
        "pred = model(image)\n",
        "\n",
        "label = label.squeeze()\n",
        "label = label.long()\n",
        "\n",
        "print(f'prediction shape: {pred.shape}')\n",
        "print(f'label shape: {label.shape}')\n",
        "\n",
        "# label = label.type(torch.FloatTensor)\n",
        "# pred = pred.type(torch.FloatTensor)\n",
        "\n",
        "'''\n",
        "The cross-entropy loss function will compute the element-wise softmax activation on the prediction\n",
        "tensor along the class dimension to convert it into a probability distribution. It will then compare\n",
        "this predicted probability distribution with the ground truth labels using the negative\n",
        "log-likelihood loss calculation.\n",
        "\n",
        "Therefore, even though the dimensions of the prediction and label tensors differ, the cross-entropy\n",
        "loss function in PyTorch will appropriately handle the discrepancy and calculate the loss on a\n",
        "per-pixel basis.\n",
        "'''\n",
        "\n",
        "print(f'loss : {loss_fn(pred, label)}')\n",
        "\n",
        "'''\n",
        "pred = pred.softmax(1).argmax(1).to(int)\n",
        "pred.unique()\n",
        "\n",
        "from semseg.datasets import *\n",
        "palette = eval('ADE20K').PALETTE\n",
        "seg_map = palette[pred.cpu()].squeeze().to(torch.uint8)\n",
        "\n",
        "print(f'pred shape: {seg_map.shape}')\n",
        "plt.imshow(seg_map[0], cmap='gray')\n",
        "plt.show()'''\n",
        "\n",
        "\n",
        "# # print(label.type())\n",
        "# label = label.type(torch.FloatTensor)\n",
        "# # print(label.type())\n",
        "\n",
        "# print(f'pred shape: {pred.shape}')\n",
        "# print(f'label shape: {label.shape}')\n",
        "\n",
        "# plt.imshow(pred[0].cpu().detach().numpy(), cmap='gray')\n",
        "# plt.show()\n",
        "\n",
        "# s = torch.nn.Softmax(dim=1)\n",
        "# new_pred = prediction.permute(0,2,1,3).permute(0,1,3,2)\n",
        "# label = label.permute(0,2,1,3).permute(0,1,3,2)\n",
        "\n",
        "# print()\n",
        "# print(f'pred shape {new_pred.shape}')\n",
        "# print(f'label shape {label.shape}')\n",
        "\n",
        "# print(new_pred[0].argmax(dim=-1))\n",
        "# print(label.squeeze(dim=-1)[0])\n",
        "\n",
        "# print()\n",
        "# # new_pred = new_pred.max(dim=-1)[0]\n",
        "# new_pred = new_pred.to(device)\n",
        "# label = label.to(device)\n",
        "\n",
        "# print(f'pred shape {new_pred[0].shape}')\n",
        "# print(f'label shape {label[0].shape}')\n",
        "\n",
        "# print(f'pred shape {new_pred[0].shape}')\n",
        "\n",
        "# print(loss_fn(new_pred, label))\n",
        "\n",
        "# print(prediction.shape)\n",
        "# new_prediction = torch.argmax(prediction, dim=1)\n",
        "# print(f\"prediction BEFORE shape -> {new_prediction.shape}\")\n",
        "\n",
        "# new_prediction = new_prediction[:,None, :, :]\n",
        "# print(f\"prediction AFTER shape -> {new_prediction.shape}\")\n",
        "# print(f\"label shape -> {label.shape}\")\n",
        "\n",
        "# print(new_prediction.type())\n",
        "# new_prediction = new_prediction.type(torch.FloatTensor)\n",
        "# print(label.type())\n",
        "\n",
        "# print(loss_fn(new_prediction, label))\n",
        "\n",
        "# image.detach()\n",
        "# label.detach()\n",
        "# del label\n",
        "# del image\n"
      ]
    },
    {
      "cell_type": "code",
      "execution_count": null,
      "metadata": {
        "id": "I73NG8ShP9C-"
      },
      "outputs": [],
      "source": [
        "print(label.shape)\n",
        "print(label[0])\n",
        "tone = F.one_hot(label,num_classes=5).permute(0,3,1,2)\n",
        "print(tone.shape)\n",
        "print(tone[0][0])"
      ]
    },
    {
      "cell_type": "code",
      "execution_count": null,
      "metadata": {
        "colab": {
          "base_uri": "https://localhost:8080/"
        },
        "id": "_qFXvNZAOVk6",
        "outputId": "13490767-428a-48cf-ff95-533ebde66ac1"
      },
      "outputs": [
        {
          "name": "stdout",
          "output_type": "stream",
          "text": [
            "torch.Size([5, 64, 64])\n",
            "prediction maxxxxxx -> tensor([[3, 3, 3,  ..., 3, 3, 3],\n",
            "        [3, 3, 3,  ..., 3, 3, 3],\n",
            "        [3, 3, 3,  ..., 3, 3, 3],\n",
            "        ...,\n",
            "        [3, 3, 3,  ..., 3, 3, 3],\n",
            "        [3, 3, 3,  ..., 3, 3, 3],\n",
            "        [3, 3, 3,  ..., 3, 3, 3]], device='cuda:0')\n",
            "tensor(0.5662, device='cuda:0', grad_fn=<MaxBackward1>)\n",
            "tensor(0.0031, device='cuda:0', grad_fn=<MaxBackward1>)\n",
            "tensor(1.0000, device='cuda:0', grad_fn=<MaxBackward1>)\n",
            "tensor(0.0020, device='cuda:0', grad_fn=<MaxBackward1>)\n"
          ]
        }
      ],
      "source": [
        "print(pred[0].shape)\n",
        "tensore = F.softmax(pred[0],dim=0)\n",
        "\n",
        "# print(torch.max(tensore,dim=0))\n",
        "_,prediction_max = torch.max(tensore,dim=0)\n",
        "print(\"prediction maxxxxxx ->\",prediction_max)\n",
        "print(torch.max(tensore[1]))\n",
        "print(torch.max(tensore[2]))\n",
        "print(torch.max(tensore[3]))\n",
        "print(torch.max(tensore[4]))"
      ]
    },
    {
      "cell_type": "code",
      "execution_count": null,
      "metadata": {
        "colab": {
          "base_uri": "https://localhost:8080/"
        },
        "id": "8aeuQd0lQeC7",
        "outputId": "28ac592f-4ee1-45b9-ea3f-78cddd92048c"
      },
      "outputs": [
        {
          "name": "stdout",
          "output_type": "stream",
          "text": [
            "tensor([[-8.2264, -8.2264, -7.6922,  ..., -4.6693, -4.6692, -4.6692],\n",
            "        [-8.2264, -8.2264, -7.6922,  ..., -4.6693, -4.6692, -4.6692],\n",
            "        [-8.2696, -8.2696, -7.7266,  ..., -5.2044, -5.2435, -5.2435],\n",
            "        ...,\n",
            "        [-6.0717, -6.0717, -6.1116,  ..., -5.9912, -6.0791, -6.0791],\n",
            "        [-6.1123, -6.1123, -6.1797,  ..., -5.9829, -6.0477, -6.0477],\n",
            "        [-6.1123, -6.1123, -6.1797,  ..., -5.9829, -6.0477, -6.0477]],\n",
            "       device='cuda:0', grad_fn=<SelectBackward0>)\n"
          ]
        }
      ],
      "source": [
        "print(pred[0][0])"
      ]
    },
    {
      "cell_type": "code",
      "execution_count": 24,
      "metadata": {
        "colab": {
          "base_uri": "https://localhost:8080/",
          "height": 472
        },
        "id": "-6p6LYs2R0fF",
        "outputId": "63962ba5-6f22-4628-f411-8d762f8de094"
      },
      "outputs": [
        {
          "output_type": "display_data",
          "data": {
            "text/plain": [
              "<Figure size 640x480 with 1 Axes>"
            ],
            "image/png": "[encoded data removed]"
          },
          "metadata": {}
        }
      ],
      "source": [
        "# TODO: plot the histogram\n",
        "import numpy as np\n",
        "\n",
        "# Obtain the parameter values from the trained model\n",
        "parameters = []\n",
        "for param in model.parameters():\n",
        "    parameters.extend(param.cpu().flatten().detach().numpy())\n",
        "parameters = np.array(parameters)\n",
        "\n",
        "# Plot the histogram\n",
        "plt.hist(parameters, bins=10)\n",
        "plt.xlabel('Parameter Value')\n",
        "plt.ylabel('Frequency')\n",
        "plt.title('Parameter Distribution')\n",
        "plt.show()"
      ]
    }
  ],
  "metadata": {
    "accelerator": "GPU",
    "colab": {
      "gpuType": "T4",
      "provenance": [],
      "include_colab_link": true
    },
    "interpreter": {
      "hash": "31f2aee4e71d21fbe5cf8b01ff0e069b9275f58929596ceb00d14d90e3e16cd6"
    },
    "kernelspec": {
      "display_name": "Python 3",
      "name": "python3"
    },
    "language_info": {
      "codemirror_mode": {
        "name": "ipython",
        "version": 3
      },
      "file_extension": ".py",
      "mimetype": "text/x-python",
      "name": "python",
      "nbconvert_exporter": "python",
      "pygments_lexer": "ipython3",
      "version": "3.9.9"
    }
  },
  "nbformat": 4,
  "nbformat_minor": 0
}
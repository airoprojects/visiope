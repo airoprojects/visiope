{
  "cells": [
    {
      "cell_type": "markdown",
      "metadata": {
        "id": "view-in-github",
        "colab_type": "text"
      },
      "source": [
        "<a href=\"https://colab.research.google.com/github/airoprojects/visiope/blob/main/experiments/test_models.ipynb\" target=\"_parent\"><img src=\"https://colab.research.google.com/assets/colab-badge.svg\" alt=\"Open In Colab\"/></a>"
      ]
    },
    {
      "cell_type": "markdown",
      "metadata": {
        "id": "e67Qc0pXfZGk"
      },
      "source": [
        "# Ai4MarsExperiments"
      ]
    },
    {
      "cell_type": "markdown",
      "metadata": {
        "id": "4MnHYhk_ff0D"
      },
      "source": [
        "#### Packages not included in colab"
      ]
    },
    {
      "cell_type": "code",
      "execution_count": 1,
      "metadata": {
        "colab": {
          "base_uri": "https://localhost:8080/"
        },
        "id": "lRsCKyRLfHuD",
        "outputId": "15783ad2-f256-4194-e65f-d89d4dba38df"
      },
      "outputs": [
        {
          "output_type": "stream",
          "name": "stdout",
          "text": [
            "Collecting torchmetrics\n",
            "  Downloading torchmetrics-1.0.1-py3-none-any.whl (729 kB)\n",
            "\u001b[2K     \u001b[90m━━━━━━━━━━━━━━━━━━━━━━━━━━━━━━━━━━━━━━\u001b[0m \u001b[32m729.2/729.2 kB\u001b[0m \u001b[31m13.7 MB/s\u001b[0m eta \u001b[36m0:00:00\u001b[0m\n",
            "\u001b[?25hRequirement already satisfied: numpy>1.20.0 in /usr/local/lib/python3.10/dist-packages (from torchmetrics) (1.22.4)\n",
            "Requirement already satisfied: torch>=1.8.1 in /usr/local/lib/python3.10/dist-packages (from torchmetrics) (2.0.1+cu118)\n",
            "Requirement already satisfied: packaging in /usr/local/lib/python3.10/dist-packages (from torchmetrics) (23.1)\n",
            "Collecting lightning-utilities>=0.7.0 (from torchmetrics)\n",
            "  Downloading lightning_utilities-0.9.0-py3-none-any.whl (23 kB)\n",
            "Requirement already satisfied: typing-extensions in /usr/local/lib/python3.10/dist-packages (from lightning-utilities>=0.7.0->torchmetrics) (4.7.1)\n",
            "Requirement already satisfied: filelock in /usr/local/lib/python3.10/dist-packages (from torch>=1.8.1->torchmetrics) (3.12.2)\n",
            "Requirement already satisfied: sympy in /usr/local/lib/python3.10/dist-packages (from torch>=1.8.1->torchmetrics) (1.11.1)\n",
            "Requirement already satisfied: networkx in /usr/local/lib/python3.10/dist-packages (from torch>=1.8.1->torchmetrics) (3.1)\n",
            "Requirement already satisfied: jinja2 in /usr/local/lib/python3.10/dist-packages (from torch>=1.8.1->torchmetrics) (3.1.2)\n",
            "Requirement already satisfied: triton==2.0.0 in /usr/local/lib/python3.10/dist-packages (from torch>=1.8.1->torchmetrics) (2.0.0)\n",
            "Requirement already satisfied: cmake in /usr/local/lib/python3.10/dist-packages (from triton==2.0.0->torch>=1.8.1->torchmetrics) (3.25.2)\n",
            "Requirement already satisfied: lit in /usr/local/lib/python3.10/dist-packages (from triton==2.0.0->torch>=1.8.1->torchmetrics) (16.0.6)\n",
            "Requirement already satisfied: MarkupSafe>=2.0 in /usr/local/lib/python3.10/dist-packages (from jinja2->torch>=1.8.1->torchmetrics) (2.1.3)\n",
            "Requirement already satisfied: mpmath>=0.19 in /usr/local/lib/python3.10/dist-packages (from sympy->torch>=1.8.1->torchmetrics) (1.3.0)\n",
            "Installing collected packages: lightning-utilities, torchmetrics\n",
            "Successfully installed lightning-utilities-0.9.0 torchmetrics-1.0.1\n",
            "Requirement already satisfied: ipywidgets in /usr/local/lib/python3.10/dist-packages (7.7.1)\n",
            "Requirement already satisfied: ipykernel>=4.5.1 in /usr/local/lib/python3.10/dist-packages (from ipywidgets) (5.5.6)\n",
            "Requirement already satisfied: ipython-genutils~=0.2.0 in /usr/local/lib/python3.10/dist-packages (from ipywidgets) (0.2.0)\n",
            "Requirement already satisfied: traitlets>=4.3.1 in /usr/local/lib/python3.10/dist-packages (from ipywidgets) (5.7.1)\n",
            "Requirement already satisfied: widgetsnbextension~=3.6.0 in /usr/local/lib/python3.10/dist-packages (from ipywidgets) (3.6.4)\n",
            "Requirement already satisfied: ipython>=4.0.0 in /usr/local/lib/python3.10/dist-packages (from ipywidgets) (7.34.0)\n",
            "Requirement already satisfied: jupyterlab-widgets>=1.0.0 in /usr/local/lib/python3.10/dist-packages (from ipywidgets) (3.0.8)\n",
            "Requirement already satisfied: jupyter-client in /usr/local/lib/python3.10/dist-packages (from ipykernel>=4.5.1->ipywidgets) (6.1.12)\n",
            "Requirement already satisfied: tornado>=4.2 in /usr/local/lib/python3.10/dist-packages (from ipykernel>=4.5.1->ipywidgets) (6.3.1)\n",
            "Requirement already satisfied: setuptools>=18.5 in /usr/local/lib/python3.10/dist-packages (from ipython>=4.0.0->ipywidgets) (67.7.2)\n",
            "Collecting jedi>=0.16 (from ipython>=4.0.0->ipywidgets)\n",
            "  Downloading jedi-0.18.2-py2.py3-none-any.whl (1.6 MB)\n",
            "\u001b[2K     \u001b[90m━━━━━━━━━━━━━━━━━━━━━━━━━━━━━━━━━━━━━━━━\u001b[0m \u001b[32m1.6/1.6 MB\u001b[0m \u001b[31m7.8 MB/s\u001b[0m eta \u001b[36m0:00:00\u001b[0m\n",
            "\u001b[?25hRequirement already satisfied: decorator in /usr/local/lib/python3.10/dist-packages (from ipython>=4.0.0->ipywidgets) (4.4.2)\n",
            "Requirement already satisfied: pickleshare in /usr/local/lib/python3.10/dist-packages (from ipython>=4.0.0->ipywidgets) (0.7.5)\n",
            "Requirement already satisfied: prompt-toolkit!=3.0.0,!=3.0.1,<3.1.0,>=2.0.0 in /usr/local/lib/python3.10/dist-packages (from ipython>=4.0.0->ipywidgets) (3.0.39)\n",
            "Requirement already satisfied: pygments in /usr/local/lib/python3.10/dist-packages (from ipython>=4.0.0->ipywidgets) (2.14.0)\n",
            "Requirement already satisfied: backcall in /usr/local/lib/python3.10/dist-packages (from ipython>=4.0.0->ipywidgets) (0.2.0)\n",
            "Requirement already satisfied: matplotlib-inline in /usr/local/lib/python3.10/dist-packages (from ipython>=4.0.0->ipywidgets) (0.1.6)\n",
            "Requirement already satisfied: pexpect>4.3 in /usr/local/lib/python3.10/dist-packages (from ipython>=4.0.0->ipywidgets) (4.8.0)\n",
            "Requirement already satisfied: notebook>=4.4.1 in /usr/local/lib/python3.10/dist-packages (from widgetsnbextension~=3.6.0->ipywidgets) (6.4.8)\n",
            "Requirement already satisfied: parso<0.9.0,>=0.8.0 in /usr/local/lib/python3.10/dist-packages (from jedi>=0.16->ipython>=4.0.0->ipywidgets) (0.8.3)\n",
            "Requirement already satisfied: jinja2 in /usr/local/lib/python3.10/dist-packages (from notebook>=4.4.1->widgetsnbextension~=3.6.0->ipywidgets) (3.1.2)\n",
            "Requirement already satisfied: pyzmq>=17 in /usr/local/lib/python3.10/dist-packages (from notebook>=4.4.1->widgetsnbextension~=3.6.0->ipywidgets) (23.2.1)\n",
            "Requirement already satisfied: argon2-cffi in /usr/local/lib/python3.10/dist-packages (from notebook>=4.4.1->widgetsnbextension~=3.6.0->ipywidgets) (21.3.0)\n",
            "Requirement already satisfied: jupyter-core>=4.6.1 in /usr/local/lib/python3.10/dist-packages (from notebook>=4.4.1->widgetsnbextension~=3.6.0->ipywidgets) (5.3.1)\n",
            "Requirement already satisfied: nbformat in /usr/local/lib/python3.10/dist-packages (from notebook>=4.4.1->widgetsnbextension~=3.6.0->ipywidgets) (5.9.1)\n",
            "Requirement already satisfied: nbconvert in /usr/local/lib/python3.10/dist-packages (from notebook>=4.4.1->widgetsnbextension~=3.6.0->ipywidgets) (6.5.4)\n",
            "Requirement already satisfied: nest-asyncio>=1.5 in /usr/local/lib/python3.10/dist-packages (from notebook>=4.4.1->widgetsnbextension~=3.6.0->ipywidgets) (1.5.6)\n",
            "Requirement already satisfied: Send2Trash>=1.8.0 in /usr/local/lib/python3.10/dist-packages (from notebook>=4.4.1->widgetsnbextension~=3.6.0->ipywidgets) (1.8.2)\n",
            "Requirement already satisfied: terminado>=0.8.3 in /usr/local/lib/python3.10/dist-packages (from notebook>=4.4.1->widgetsnbextension~=3.6.0->ipywidgets) (0.17.1)\n",
            "Requirement already satisfied: prometheus-client in /usr/local/lib/python3.10/dist-packages (from notebook>=4.4.1->widgetsnbextension~=3.6.0->ipywidgets) (0.17.1)\n",
            "Requirement already satisfied: python-dateutil>=2.1 in /usr/local/lib/python3.10/dist-packages (from jupyter-client->ipykernel>=4.5.1->ipywidgets) (2.8.2)\n",
            "Requirement already satisfied: ptyprocess>=0.5 in /usr/local/lib/python3.10/dist-packages (from pexpect>4.3->ipython>=4.0.0->ipywidgets) (0.7.0)\n",
            "Requirement already satisfied: wcwidth in /usr/local/lib/python3.10/dist-packages (from prompt-toolkit!=3.0.0,!=3.0.1,<3.1.0,>=2.0.0->ipython>=4.0.0->ipywidgets) (0.2.6)\n",
            "Requirement already satisfied: platformdirs>=2.5 in /usr/local/lib/python3.10/dist-packages (from jupyter-core>=4.6.1->notebook>=4.4.1->widgetsnbextension~=3.6.0->ipywidgets) (3.8.1)\n",
            "Requirement already satisfied: six>=1.5 in /usr/local/lib/python3.10/dist-packages (from python-dateutil>=2.1->jupyter-client->ipykernel>=4.5.1->ipywidgets) (1.16.0)\n",
            "Requirement already satisfied: argon2-cffi-bindings in /usr/local/lib/python3.10/dist-packages (from argon2-cffi->notebook>=4.4.1->widgetsnbextension~=3.6.0->ipywidgets) (21.2.0)\n",
            "Requirement already satisfied: MarkupSafe>=2.0 in /usr/local/lib/python3.10/dist-packages (from jinja2->notebook>=4.4.1->widgetsnbextension~=3.6.0->ipywidgets) (2.1.3)\n",
            "Requirement already satisfied: lxml in /usr/local/lib/python3.10/dist-packages (from nbconvert->notebook>=4.4.1->widgetsnbextension~=3.6.0->ipywidgets) (4.9.3)\n",
            "Requirement already satisfied: beautifulsoup4 in /usr/local/lib/python3.10/dist-packages (from nbconvert->notebook>=4.4.1->widgetsnbextension~=3.6.0->ipywidgets) (4.11.2)\n",
            "Requirement already satisfied: bleach in /usr/local/lib/python3.10/dist-packages (from nbconvert->notebook>=4.4.1->widgetsnbextension~=3.6.0->ipywidgets) (6.0.0)\n",
            "Requirement already satisfied: defusedxml in /usr/local/lib/python3.10/dist-packages (from nbconvert->notebook>=4.4.1->widgetsnbextension~=3.6.0->ipywidgets) (0.7.1)\n",
            "Requirement already satisfied: entrypoints>=0.2.2 in /usr/local/lib/python3.10/dist-packages (from nbconvert->notebook>=4.4.1->widgetsnbextension~=3.6.0->ipywidgets) (0.4)\n",
            "Requirement already satisfied: jupyterlab-pygments in /usr/local/lib/python3.10/dist-packages (from nbconvert->notebook>=4.4.1->widgetsnbextension~=3.6.0->ipywidgets) (0.2.2)\n",
            "Requirement already satisfied: mistune<2,>=0.8.1 in /usr/local/lib/python3.10/dist-packages (from nbconvert->notebook>=4.4.1->widgetsnbextension~=3.6.0->ipywidgets) (0.8.4)\n",
            "Requirement already satisfied: nbclient>=0.5.0 in /usr/local/lib/python3.10/dist-packages (from nbconvert->notebook>=4.4.1->widgetsnbextension~=3.6.0->ipywidgets) (0.8.0)\n",
            "Requirement already satisfied: packaging in /usr/local/lib/python3.10/dist-packages (from nbconvert->notebook>=4.4.1->widgetsnbextension~=3.6.0->ipywidgets) (23.1)\n",
            "Requirement already satisfied: pandocfilters>=1.4.1 in /usr/local/lib/python3.10/dist-packages (from nbconvert->notebook>=4.4.1->widgetsnbextension~=3.6.0->ipywidgets) (1.5.0)\n",
            "Requirement already satisfied: tinycss2 in /usr/local/lib/python3.10/dist-packages (from nbconvert->notebook>=4.4.1->widgetsnbextension~=3.6.0->ipywidgets) (1.2.1)\n",
            "Requirement already satisfied: fastjsonschema in /usr/local/lib/python3.10/dist-packages (from nbformat->notebook>=4.4.1->widgetsnbextension~=3.6.0->ipywidgets) (2.17.1)\n",
            "Requirement already satisfied: jsonschema>=2.6 in /usr/local/lib/python3.10/dist-packages (from nbformat->notebook>=4.4.1->widgetsnbextension~=3.6.0->ipywidgets) (4.3.3)\n",
            "Requirement already satisfied: attrs>=17.4.0 in /usr/local/lib/python3.10/dist-packages (from jsonschema>=2.6->nbformat->notebook>=4.4.1->widgetsnbextension~=3.6.0->ipywidgets) (23.1.0)\n",
            "Requirement already satisfied: pyrsistent!=0.17.0,!=0.17.1,!=0.17.2,>=0.14.0 in /usr/local/lib/python3.10/dist-packages (from jsonschema>=2.6->nbformat->notebook>=4.4.1->widgetsnbextension~=3.6.0->ipywidgets) (0.19.3)\n",
            "Requirement already satisfied: cffi>=1.0.1 in /usr/local/lib/python3.10/dist-packages (from argon2-cffi-bindings->argon2-cffi->notebook>=4.4.1->widgetsnbextension~=3.6.0->ipywidgets) (1.15.1)\n",
            "Requirement already satisfied: soupsieve>1.2 in /usr/local/lib/python3.10/dist-packages (from beautifulsoup4->nbconvert->notebook>=4.4.1->widgetsnbextension~=3.6.0->ipywidgets) (2.4.1)\n",
            "Requirement already satisfied: webencodings in /usr/local/lib/python3.10/dist-packages (from bleach->nbconvert->notebook>=4.4.1->widgetsnbextension~=3.6.0->ipywidgets) (0.5.1)\n",
            "Requirement already satisfied: pycparser in /usr/local/lib/python3.10/dist-packages (from cffi>=1.0.1->argon2-cffi-bindings->argon2-cffi->notebook>=4.4.1->widgetsnbextension~=3.6.0->ipywidgets) (2.21)\n",
            "Installing collected packages: jedi\n",
            "Successfully installed jedi-0.18.2\n"
          ]
        }
      ],
      "source": [
        "%pip install torchmetrics\n",
        "%pip install ipywidgets"
      ]
    },
    {
      "cell_type": "markdown",
      "metadata": {
        "id": "NA344_H5pmEP"
      },
      "source": [
        "## General imports"
      ]
    },
    {
      "cell_type": "code",
      "execution_count": 2,
      "metadata": {
        "id": "iiTAPAa9elhO"
      },
      "outputs": [],
      "source": [
        "# General imports\n",
        "\n",
        "import os\n",
        "import sys\n",
        "import torch\n",
        "import random\n",
        "import numpy as np\n",
        "import torch.nn as nn\n",
        "import torch.nn.functional as F\n",
        "import torchmetrics as metrics\n",
        "from torch.utils.data import DataLoader\n",
        "import torchvision.transforms as transforms\n",
        "import ipywidgets as widgets\n",
        "from IPython.display import display"
      ]
    },
    {
      "cell_type": "markdown",
      "metadata": {
        "id": "lygw33bMprOM"
      },
      "source": [
        "## Custom Imports"
      ]
    },
    {
      "cell_type": "code",
      "execution_count": 3,
      "metadata": {
        "colab": {
          "base_uri": "https://localhost:8080/"
        },
        "id": "9ywxl7By7Pv3",
        "outputId": "8f7954f2-7354-4c3c-d97e-d39ec1891a3d"
      },
      "outputs": [
        {
          "output_type": "stream",
          "name": "stdout",
          "text": [
            "Cloning into '/content/visiope'...\n",
            "remote: Enumerating objects: 1500, done.\u001b[K\n",
            "remote: Counting objects: 100% (56/56), done.\u001b[K\n",
            "remote: Compressing objects: 100% (39/39), done.\u001b[K\n",
            "remote: Total 1500 (delta 20), reused 18 (delta 17), pack-reused 1444\u001b[K\n",
            "Receiving objects: 100% (1500/1500), 225.33 MiB | 29.11 MiB/s, done.\n",
            "Resolving deltas: 100% (800/800), done.\n",
            "/content/visiope\n",
            "Already on 'main'\n",
            "Your branch is up to date with 'origin/main'.\n",
            "* \u001b[32mmain\u001b[m\n",
            "/content\n"
          ]
        }
      ],
      "source": [
        "# Custom Imports\n",
        "import sys\n",
        "\n",
        "COLAB = 'google.colab' in sys.modules\n",
        "LOCAL = not COLAB\n",
        "\n",
        "if COLAB:\n",
        "\n",
        "    # Clone visiope repo on runtime env\n",
        "    !git clone https://github.com/airoprojects/visiope.git /content/visiope/\n",
        "    %cd ./visiope/\n",
        "    !git checkout main\n",
        "    !git branch\n",
        "    %cd ../\n",
        "\n",
        "    # Get the root directory of the Git project\n",
        "    root_dir = '/content/visiope'\n",
        "\n",
        "    # Add custom modules to path\n",
        "    custom_modules_path = root_dir + '/tools/'\n",
        "    sys.path.insert(0, custom_modules_path)\n",
        "\n",
        "elif LOCAL:\n",
        "\n",
        "    from git import Repo\n",
        "\n",
        "    # Initialize the Git repository object\n",
        "    repo = Repo(\".\", search_parent_directories=True)\n",
        "\n",
        "    # Get the root directory of the Git project\n",
        "    root_dir = repo.git.rev_parse(\"--show-toplevel\")\n",
        "\n",
        "    # Add custom modules to path\n",
        "    custom_modules_path = root_dir  + '/tools/'\n",
        "    sys.path.insert(0, custom_modules_path)\n",
        "\n",
        "\n",
        "# Import Loader\n",
        "from data.utils import Ai4MarsDownload, Ai4MarsImporter, Ai4MarsSplitter, Ai4MarsDataLoader\n",
        "\n",
        "# Import Loss\n",
        "from loss.loss import Ai4MarsCrossEntropy, Ai4MarsDiceLoss\n",
        "\n",
        "# Import Trainer\n",
        "from trainer.trainer import Ai4MarsTrainer\n",
        "\n",
        "# Import Tester\n",
        "from tester.tester import Ai4MarsTester\n",
        "\n",
        "# Set device\n",
        "device = torch.device('cuda' if torch.cuda.is_available() else 'cpu')"
      ]
    },
    {
      "cell_type": "markdown",
      "metadata": {
        "id": "WRMqpowGpvoQ"
      },
      "source": [
        "## Obtain dataset"
      ]
    },
    {
      "cell_type": "markdown",
      "metadata": {
        "id": "9qe47EV7tZ_R"
      },
      "source": [
        "#### Selecter functions"
      ]
    },
    {
      "cell_type": "code",
      "execution_count": 4,
      "metadata": {
        "id": "fTO2wZubthnU"
      },
      "outputs": [],
      "source": [
        "# get the whole dataset\n",
        "def get_d(b):\n",
        "\n",
        "    global num_images\n",
        "    global data_path\n",
        "    global selector\n",
        "    global X\n",
        "    global y\n",
        "\n",
        "    # Cannot select anymore\n",
        "    if not selector:\n",
        "        print(\"Cannot select multiple options\")\n",
        "        return\n",
        "    selector = False\n",
        "\n",
        "    # Insert here your local path to the dataset (temporary)\n",
        "    data_path = input(\"Path to Dataset: \")\n",
        "\n",
        "    # Insert here the number of images you want to download\n",
        "    num_images = int(input(\"Number of images (max 1000): \"))\n",
        "\n",
        "    # Import data as Ai4MarsDataset\n",
        "    Ai4MarsDownload()(PATH=data_path)\n",
        "    importer = Ai4MarsImporter()\n",
        "    X, y, _ = importer(PATH=data_path, NUM_IMAGES=num_images, SIZE=128)\n",
        "\n",
        "    pass\n",
        "\n",
        "# Enable loading chunk of data\n",
        "def enable_chunk(b):\n",
        "\n",
        "    global selector\n",
        "    global CHUNK\n",
        "    global current_chunk\n",
        "\n",
        "    # Cannot select anymore\n",
        "    if not selector:\n",
        "        print(\"Cannot select multiple options\")\n",
        "        return\n",
        "    selector = False\n",
        "\n",
        "    CHUNK = True\n",
        "    current_chunk = 0\n",
        "\n",
        "    # Download options\n",
        "    d300 = widgets.Button(description=\"Dataset 300\")\n",
        "    d500 = widgets.Button(description=\"Dataset 500\")\n",
        "    d1k = widgets.Button(description=\"Dataset 1000\")\n",
        "\n",
        "    # Actions\n",
        "    display(d300, d500, d1k)\n",
        "    d300.on_click(get_d300)\n",
        "    d500.on_click(get_d500)\n",
        "    d1k.on_click(get_d1k)\n",
        "\n",
        "    pass"
      ]
    },
    {
      "cell_type": "markdown",
      "metadata": {
        "id": "_cmnA4w0Gv-m"
      },
      "source": [
        "#### Data download funtions"
      ]
    },
    {
      "cell_type": "code",
      "execution_count": 5,
      "metadata": {
        "id": "lp_QfZkaG1XJ"
      },
      "outputs": [],
      "source": [
        "# ge the dataset in chncks of size 300\n",
        "def get_d300(b):\n",
        "\n",
        "    global COLAB\n",
        "    global CHUNK\n",
        "    global dataset_type\n",
        "    global current_chunk\n",
        "    global chunk_size\n",
        "    global total_size\n",
        "    global X\n",
        "    global y\n",
        "\n",
        "    # Cannot select anymore\n",
        "    if not CHUNK:\n",
        "        print(\"Cannot select multiple options\")\n",
        "        return\n",
        "\n",
        "    dataset_type = 'small-chunk-dataset/'\n",
        "    chunk_size = 300\n",
        "    total_size = 3000\n",
        "\n",
        "    # update current chunk\n",
        "    current_chunk += chunk_size\n",
        "\n",
        "    print(f\"Loading cunck {current_chunk // chunk_size}\")\n",
        "\n",
        "    if COLAB:\n",
        "\n",
        "        if not(os.path.exists('/content/' + dataset_type)):\n",
        "\n",
        "            import gdown\n",
        "\n",
        "            # get url of torch dataset (temporarerly my drive)\n",
        "            drive = 'https://drive.google.com/uc?id='\n",
        "            url = 'https://drive.google.com/drive/folders/1WaQKmnty99798t6b-GMh15GVy9ZxCkGP?usp=drive_link'\n",
        "\n",
        "            !gdown --folder {url} -O /content/\n",
        "\n",
        "            load_data = '/content/' + dataset_type\n",
        "\n",
        "    elif LOCAL:\n",
        "        load_data = root_dir + '/datasetup/' + dataset_type\n",
        "\n",
        "    X, y = torch.load(load_data + str(current_chunk // chunk_size) + 'dataset.pt')\n",
        "\n",
        "    print(\"Done\")\n",
        "\n",
        "    pass\n",
        "\n",
        "# ge the dataset in chncks of size 500\n",
        "def get_d500(b):\n",
        "\n",
        "    global COLAB\n",
        "    global CHUNK\n",
        "    global dataset_type\n",
        "    global current_chunk\n",
        "    global chunk_size\n",
        "    global total_size\n",
        "    global X\n",
        "    global y\n",
        "\n",
        "    # Cannot select anymore\n",
        "    if not CHUNK:\n",
        "        print(\"Cannot select multiple options\")\n",
        "        return\n",
        "\n",
        "    dataset_type = 'medium-chunk-dataset/'\n",
        "    chunk_size = 500\n",
        "    total_size = 5000\n",
        "\n",
        "    # update current chunk\n",
        "    current_chunk += chunk_size\n",
        "\n",
        "    print(f\"Loading cunck {current_chunk // chunk_size}\")\n",
        "\n",
        "    if COLAB:\n",
        "\n",
        "        if not(os.path.exists('/content/' + dataset_type)):\n",
        "\n",
        "            import gdown\n",
        "\n",
        "            # get url of torch dataset (temporarerly my drive)\n",
        "            drive = 'https://drive.google.com/uc?id='\n",
        "            url = 'https://drive.google.com/drive/folders/1u4imSO8MerdZEW0V1lkEb6PWQmZgT5Ft?usp=sharing'\n",
        "\n",
        "            !gdown --folder {url} -O /content/\n",
        "\n",
        "            load_data = '/content/' + dataset_type\n",
        "\n",
        "    elif LOCAL:\n",
        "        load_data = root_dir + '/datasetup/' + dataset_type\n",
        "\n",
        "    X, y = torch.load(load_data + str(current_chunk // chunk_size) + 'dataset.pt')\n",
        "\n",
        "    print(\"Done\")\n",
        "    pass\n",
        "\n",
        "# ge the dataset in chncks of size 1k\n",
        "def get_d1k(b):\n",
        "\n",
        "    global COLAB\n",
        "    global CHUNK\n",
        "    global dataset_type\n",
        "    global current_chunk\n",
        "    global chunk_size\n",
        "    global total_size\n",
        "    global X\n",
        "    global y\n",
        "\n",
        "    # Cannot select anymore\n",
        "    if not CHUNK:\n",
        "        print(\"Cannot select multiple options\")\n",
        "        return\n",
        "\n",
        "    dataset_type = 'big-chunk-dataset/'\n",
        "    chunk_size = 1000\n",
        "    total_size = 10000\n",
        "\n",
        "    print(f\"Loading cunck {current_chunk // chunk_size}\")\n",
        "\n",
        "    # update current chunk\n",
        "    current_chunk += chunk_size\n",
        "\n",
        "    if COLAB:\n",
        "\n",
        "        if not(os.path.exists('/content/' + dataset_type)):\n",
        "\n",
        "            import gdown\n",
        "\n",
        "            # get url of torch dataset (temporarerly my drive)\n",
        "            drive = 'https://drive.google.com/uc?id='\n",
        "            url = 'https://drive.google.com/drive/folders/1BhL0nLbQt930l_ISDgUS8ZJRWGjH4eUU?usp=sharing'\n",
        "\n",
        "            !gdown --folder {url} -O /content/\n",
        "\n",
        "            load_data = '/content/' + dataset_type\n",
        "\n",
        "    elif LOCAL:\n",
        "        load_data = root_dir + '/datasetup/' + dataset_type\n",
        "\n",
        "    X, y = torch.load(load_data + 'dataset_' + str(current_chunk) + '.pt')\n",
        "\n",
        "    pass"
      ]
    },
    {
      "cell_type": "markdown",
      "metadata": {
        "id": "CR-6RoS3t1IX"
      },
      "source": [
        "#### Selector"
      ]
    },
    {
      "cell_type": "code",
      "execution_count": 6,
      "metadata": {
        "id": "-6wXNW5yp4Zh",
        "outputId": "3e724ead-4df0-4572-e83e-f1f3290680fa",
        "colab": {
          "base_uri": "https://localhost:8080/",
          "height": 1000,
          "referenced_widgets": [
            "d15482f12376480b9faa7279d1bee065",
            "afb2b39bf0744e63b51e2ab6ac3a8258",
            "4dcfb8fa92684fb1b0afb9ccb52d602d",
            "b34a1ac9e03d4b3da75775c530c662ee",
            "088e08472b284281bf675c6f2d6bc8ab",
            "990fbfd240864303a1e9048b65c9ee37",
            "d41cbfcb7b58487a9f74ea2109e252f6",
            "93be939760a64d488214c9a2e3fcdca4",
            "924ade497c474b61b4dde9b9e2f03084",
            "d298ed14fe4a4b638479e09cc115515c",
            "82c2f625f12b4cd8908ed7d58d681a37",
            "6e5231a748714b10a0f29cbceeb5ff79",
            "7710b1a5e06d4cbbae816cf8ca3b15e3",
            "c3aede413b424fc4819b0a52c272d5b9",
            "4fbe1fc304c04abbb71be918a63e59e0"
          ]
        }
      },
      "outputs": [
        {
          "output_type": "display_data",
          "data": {
            "text/plain": [
              "Button(description='Load whole Dataset', style=ButtonStyle())"
            ],
            "application/vnd.jupyter.widget-view+json": {
              "version_major": 2,
              "version_minor": 0,
              "model_id": "d15482f12376480b9faa7279d1bee065"
            }
          },
          "metadata": {}
        },
        {
          "output_type": "display_data",
          "data": {
            "text/plain": [
              "Button(description='Load chunk of data', style=ButtonStyle())"
            ],
            "application/vnd.jupyter.widget-view+json": {
              "version_major": 2,
              "version_minor": 0,
              "model_id": "b34a1ac9e03d4b3da75775c530c662ee"
            }
          },
          "metadata": {}
        },
        {
          "output_type": "display_data",
          "data": {
            "text/plain": [
              "Button(description='Dataset 300', style=ButtonStyle())"
            ],
            "application/vnd.jupyter.widget-view+json": {
              "version_major": 2,
              "version_minor": 0,
              "model_id": "d41cbfcb7b58487a9f74ea2109e252f6"
            }
          },
          "metadata": {}
        },
        {
          "output_type": "display_data",
          "data": {
            "text/plain": [
              "Button(description='Dataset 500', style=ButtonStyle())"
            ],
            "application/vnd.jupyter.widget-view+json": {
              "version_major": 2,
              "version_minor": 0,
              "model_id": "d298ed14fe4a4b638479e09cc115515c"
            }
          },
          "metadata": {}
        },
        {
          "output_type": "display_data",
          "data": {
            "text/plain": [
              "Button(description='Dataset 1000', style=ButtonStyle())"
            ],
            "application/vnd.jupyter.widget-view+json": {
              "version_major": 2,
              "version_minor": 0,
              "model_id": "7710b1a5e06d4cbbae816cf8ca3b15e3"
            }
          },
          "metadata": {}
        },
        {
          "output_type": "stream",
          "name": "stdout",
          "text": [
            "Loading cunck 1\n",
            "Retrieving folder list\n",
            "Processing file 1L-PEPTaf69-GY328jywdnix6PanNFPA3 1dataset.pt\n",
            "Processing file 1JvWa9C8wH5wiopxbscAiXiCR1MwQIKiA 2dataset.pt\n",
            "Processing file 1lO1fAAY8q7Tnra30s4Apuozi1yn25142 3dataset.pt\n",
            "Processing file 1ENfwUJnJtEDJG-aNEdVidtFD7vwQPG51 4dataset.pt\n",
            "Processing file 1HBU0xE1z3EfWjjhaIgy3VK74EhCznQdz 5dataset.pt\n",
            "Processing file 1csls580x9DAmxjAMgss3YBvVH5HLNJpr 6dataset.pt\n",
            "Processing file 1CK8sywP4sjm1GLXC7yL1WEhbaXT8Yzhg 7dataset.pt\n",
            "Processing file 1vX4fRklv7vYGBzaNNjvASiCZs-hzrb8g 8dataset.pt\n",
            "Processing file 1BoF3cE0xFBtXKmee1U7ld7XuZoX3sD08 9dataset.pt\n",
            "Processing file 17KBMswJLsAhzGzaXiptpQre5Qh1W56_J 10dataset.pt\n",
            "Retrieving folder list completed\n",
            "Building directory structure\n",
            "Building directory structure completed\n",
            "Downloading...\n",
            "From: https://drive.google.com/uc?id=1L-PEPTaf69-GY328jywdnix6PanNFPA3\n",
            "To: /content/medium-chunk-dataset/1dataset.pt\n",
            "100% 170M/170M [00:00<00:00, 272MB/s]\n",
            "Downloading...\n",
            "From: https://drive.google.com/uc?id=1JvWa9C8wH5wiopxbscAiXiCR1MwQIKiA\n",
            "To: /content/medium-chunk-dataset/2dataset.pt\n",
            "100% 106M/106M [00:00<00:00, 252MB/s]\n",
            "Downloading...\n",
            "From: https://drive.google.com/uc?id=1lO1fAAY8q7Tnra30s4Apuozi1yn25142\n",
            "To: /content/medium-chunk-dataset/3dataset.pt\n",
            "100% 106M/106M [00:00<00:00, 192MB/s] \n",
            "Downloading...\n",
            "From: https://drive.google.com/uc?id=1ENfwUJnJtEDJG-aNEdVidtFD7vwQPG51\n",
            "To: /content/medium-chunk-dataset/4dataset.pt\n",
            "100% 106M/106M [00:01<00:00, 93.1MB/s] \n",
            "Downloading...\n",
            "From: https://drive.google.com/uc?id=1HBU0xE1z3EfWjjhaIgy3VK74EhCznQdz\n",
            "To: /content/medium-chunk-dataset/5dataset.pt\n",
            "100% 106M/106M [00:00<00:00, 238MB/s] \n",
            "Downloading...\n",
            "From: https://drive.google.com/uc?id=1csls580x9DAmxjAMgss3YBvVH5HLNJpr\n",
            "To: /content/medium-chunk-dataset/6dataset.pt\n",
            "100% 106M/106M [00:00<00:00, 231MB/s] \n",
            "Downloading...\n",
            "From: https://drive.google.com/uc?id=1CK8sywP4sjm1GLXC7yL1WEhbaXT8Yzhg\n",
            "To: /content/medium-chunk-dataset/7dataset.pt\n",
            "100% 106M/106M [00:00<00:00, 246MB/s]\n",
            "Downloading...\n",
            "From: https://drive.google.com/uc?id=1vX4fRklv7vYGBzaNNjvASiCZs-hzrb8g\n",
            "To: /content/medium-chunk-dataset/8dataset.pt\n",
            "100% 106M/106M [00:00<00:00, 242MB/s] \n",
            "Downloading...\n",
            "From: https://drive.google.com/uc?id=1BoF3cE0xFBtXKmee1U7ld7XuZoX3sD08\n",
            "To: /content/medium-chunk-dataset/9dataset.pt\n",
            "100% 106M/106M [00:01<00:00, 66.1MB/s] \n",
            "Downloading...\n",
            "From: https://drive.google.com/uc?id=17KBMswJLsAhzGzaXiptpQre5Qh1W56_J\n",
            "To: /content/medium-chunk-dataset/10dataset.pt\n",
            "100% 106M/106M [00:00<00:00, 209MB/s] \n",
            "Download completed\n",
            "Done\n"
          ]
        }
      ],
      "source": [
        "# Select import mode\n",
        "\n",
        "# ENV VARIABLE INITIALIZATION DO NOT CHANGE\n",
        "dataset_type = ''\n",
        "CHUNK = False\n",
        "current_chunk = 0\n",
        "chunk_size = 0\n",
        "total_size = 0\n",
        "X = 0\n",
        "y = 0\n",
        "\n",
        "# Allow to select only one option\n",
        "if 'selector' not in globals():\n",
        "    selector  = True\n",
        "\n",
        "# Selection buttons\n",
        "d = widgets.Button(description=\"Load whole Dataset\")\n",
        "chunk = widgets.Button(description=\"Load chunk of data\")\n",
        "\n",
        "# actions\n",
        "display(d, chunk)\n",
        "d.on_click(get_d)\n",
        "chunk.on_click(enable_chunk)\n"
      ]
    },
    {
      "cell_type": "code",
      "execution_count": null,
      "metadata": {
        "id": "TQ_P7ml_fEZk"
      },
      "outputs": [],
      "source": [
        "# HARD RESET\n",
        "# selector = True\n",
        "# CHUNK = False"
      ]
    },
    {
      "cell_type": "markdown",
      "metadata": {
        "id": "0827HU01q6nH"
      },
      "source": [
        "## DataLoader"
      ]
    },
    {
      "cell_type": "code",
      "execution_count": 7,
      "metadata": {
        "colab": {
          "base_uri": "https://localhost:8080/"
        },
        "id": "ca-BSlVTq_Ew",
        "outputId": "df19b885-ffd1-4378-92c2-be615b5b41b0"
      },
      "outputs": [
        {
          "output_type": "stream",
          "name": "stdout",
          "text": [
            "Splitting parameters: \n",
            "             Dataset: ai4mars-dataset-merged-0.1 \n",
            "             Colab environment: True \n",
            "             Split percentages: [0.7, 0.2, 0.1] \n",
            "             Transformation: None \n",
            "             Svaving path: None \n",
            "             New image size: 128\n",
            "Extrapolation of random inices ...\n",
            "Splitting in progress ...\n",
            "Done \n",
            "\n",
            "Building Dataloaders\n",
            "Done \n",
            "\n"
          ]
        }
      ],
      "source": [
        "transform = None\n",
        "# Uncomment the following lines to apply transformations to the dataset\n",
        "'''\n",
        "transform = transforms.RandomChoice([\n",
        "    transforms.RandomRotation(90)])\n",
        "'''\n",
        "\n",
        "# Split the dataset\n",
        "splitter = Ai4MarsSplitter()\n",
        "percentages = [0.7, 0.2, 0.1]\n",
        "train_set, test_set, val_set = splitter(X, y, percentages, transform=transform)\n",
        "\n",
        "# Load info\n",
        "load_info = './.info.pt'\n",
        "info = torch.load(load_info)\n",
        "\n",
        "# Build Ai4MarsDataloader\n",
        "loader = Ai4MarsDataLoader()\n",
        "batch_sizes = [32, 16, 16]\n",
        "datasets = [train_set, test_set, val_set]\n",
        "train_loader, test_loader, val_loader = loader(datasets, batch_sizes)"
      ]
    },
    {
      "cell_type": "code",
      "execution_count": 8,
      "metadata": {
        "colab": {
          "base_uri": "https://localhost:8080/",
          "height": 938
        },
        "id": "YpXj7Ow-wrL5",
        "outputId": "893a7fc1-104e-44a8-ff69-ec44634ef60b"
      },
      "outputs": [
        {
          "output_type": "stream",
          "name": "stdout",
          "text": [
            "Len of train set: 560\n",
            "Len of test set: 160\n",
            "Len of validation set: 80\n",
            "image shape: torch.Size([128, 128, 3])\n"
          ]
        },
        {
          "output_type": "display_data",
          "data": {
            "text/plain": [
              "<Figure size 640x480 with 1 Axes>"
            ],
            "image/png": "[encoded data removed]"
          },
          "metadata": {}
        },
        {
          "output_type": "stream",
          "name": "stdout",
          "text": [
            "image shape: torch.Size([128, 128, 1])\n"
          ]
        },
        {
          "output_type": "display_data",
          "data": {
            "text/plain": [
              "<Figure size 640x480 with 1 Axes>"
            ],
            "image/png": "[encoded data removed]"
          },
          "metadata": {}
        }
      ],
      "source": [
        "# Just to check that different chunks contains different images\n",
        "import matplotlib.pyplot as plt\n",
        "\n",
        "print(f'Len of train set: {len(train_set)}')\n",
        "print(f'Len of test set: {len(test_set)}')\n",
        "print(f'Len of validation set: {len(val_set)}')\n",
        "\n",
        "image, label = X[0], y[0]\n",
        "\n",
        "print(f'image shape: {image.permute(1,0,2).permute(0,2,1).shape}')\n",
        "plt.imshow(image.permute(1,0,2).permute(0,2,1).detach().numpy(), cmap='gray')\n",
        "plt.show()\n",
        "\n",
        "print(f'image shape: {label.permute(1,0,2).permute(0,2,1).shape}')\n",
        "plt.imshow(label.permute(1,0,2).permute(0,2,1).detach().numpy(), cmap='gray')\n",
        "plt.show()\n",
        "\n",
        "# Free up mem\n",
        "del X\n",
        "del y"
      ]
    },
    {
      "cell_type": "markdown",
      "metadata": {
        "id": "pYPFyV05rDWE"
      },
      "source": [
        "## Model setup"
      ]
    },
    {
      "cell_type": "code",
      "execution_count": 9,
      "metadata": {
        "id": "9FCQvjMbelhL",
        "outputId": "5928eb6c-5024-49e7-b337-b357218bf22a",
        "colab": {
          "base_uri": "https://localhost:8080/"
        }
      },
      "outputs": [
        {
          "output_type": "stream",
          "name": "stdout",
          "text": [
            "Cloning into 'semantic-segmentation'...\n",
            "remote: Enumerating objects: 792, done.\u001b[K\n",
            "remote: Counting objects: 100% (789/789), done.\u001b[K\n",
            "remote: Compressing objects: 100% (312/312), done.\u001b[K\n",
            "remote: Total 792 (delta 479), reused 749 (delta 470), pack-reused 3\u001b[K\n",
            "Receiving objects: 100% (792/792), 54.99 MiB | 35.59 MiB/s, done.\n",
            "Resolving deltas: 100% (479/479), done.\n",
            "Obtaining file:///content/semantic-segmentation\n",
            "  Preparing metadata (setup.py) ... \u001b[?25l\u001b[?25hdone\n",
            "Requirement already satisfied: tqdm in /usr/local/lib/python3.10/dist-packages (from semseg==0.4.1) (4.65.0)\n",
            "Requirement already satisfied: tabulate in /usr/local/lib/python3.10/dist-packages (from semseg==0.4.1) (0.8.10)\n",
            "Requirement already satisfied: numpy in /usr/local/lib/python3.10/dist-packages (from semseg==0.4.1) (1.22.4)\n",
            "Requirement already satisfied: scipy in /usr/local/lib/python3.10/dist-packages (from semseg==0.4.1) (1.10.1)\n",
            "Requirement already satisfied: matplotlib in /usr/local/lib/python3.10/dist-packages (from semseg==0.4.1) (3.7.1)\n",
            "Requirement already satisfied: tensorboard in /usr/local/lib/python3.10/dist-packages (from semseg==0.4.1) (2.12.3)\n",
            "Collecting fvcore (from semseg==0.4.1)\n",
            "  Downloading fvcore-0.1.5.post20221221.tar.gz (50 kB)\n",
            "\u001b[2K     \u001b[90m━━━━━━━━━━━━━━━━━━━━━━━━━━━━━━━━━━━━━━━━\u001b[0m \u001b[32m50.2/50.2 kB\u001b[0m \u001b[31m3.2 MB/s\u001b[0m eta \u001b[36m0:00:00\u001b[0m\n",
            "\u001b[?25h  Preparing metadata (setup.py) ... \u001b[?25l\u001b[?25hdone\n",
            "Collecting einops (from semseg==0.4.1)\n",
            "  Downloading einops-0.6.1-py3-none-any.whl (42 kB)\n",
            "\u001b[2K     \u001b[90m━━━━━━━━━━━━━━━━━━━━━━━━━━━━━━━━━━━━━━━━\u001b[0m \u001b[32m42.2/42.2 kB\u001b[0m \u001b[31m5.0 MB/s\u001b[0m eta \u001b[36m0:00:00\u001b[0m\n",
            "\u001b[?25hRequirement already satisfied: rich in /usr/local/lib/python3.10/dist-packages (from semseg==0.4.1) (13.4.2)\n",
            "Collecting yacs>=0.1.6 (from fvcore->semseg==0.4.1)\n",
            "  Downloading yacs-0.1.8-py3-none-any.whl (14 kB)\n",
            "Requirement already satisfied: pyyaml>=5.1 in /usr/local/lib/python3.10/dist-packages (from fvcore->semseg==0.4.1) (6.0)\n",
            "Requirement already satisfied: termcolor>=1.1 in /usr/local/lib/python3.10/dist-packages (from fvcore->semseg==0.4.1) (2.3.0)\n",
            "Requirement already satisfied: Pillow in /usr/local/lib/python3.10/dist-packages (from fvcore->semseg==0.4.1) (8.4.0)\n",
            "Collecting iopath>=0.1.7 (from fvcore->semseg==0.4.1)\n",
            "  Downloading iopath-0.1.10.tar.gz (42 kB)\n",
            "\u001b[2K     \u001b[90m━━━━━━━━━━━━━━━━━━━━━━━━━━━━━━━━━━━━━━━━\u001b[0m \u001b[32m42.2/42.2 kB\u001b[0m \u001b[31m5.5 MB/s\u001b[0m eta \u001b[36m0:00:00\u001b[0m\n",
            "\u001b[?25h  Preparing metadata (setup.py) ... \u001b[?25l\u001b[?25hdone\n",
            "Requirement already satisfied: contourpy>=1.0.1 in /usr/local/lib/python3.10/dist-packages (from matplotlib->semseg==0.4.1) (1.1.0)\n",
            "Requirement already satisfied: cycler>=0.10 in /usr/local/lib/python3.10/dist-packages (from matplotlib->semseg==0.4.1) (0.11.0)\n",
            "Requirement already satisfied: fonttools>=4.22.0 in /usr/local/lib/python3.10/dist-packages (from matplotlib->semseg==0.4.1) (4.41.0)\n",
            "Requirement already satisfied: kiwisolver>=1.0.1 in /usr/local/lib/python3.10/dist-packages (from matplotlib->semseg==0.4.1) (1.4.4)\n",
            "Requirement already satisfied: packaging>=20.0 in /usr/local/lib/python3.10/dist-packages (from matplotlib->semseg==0.4.1) (23.1)\n",
            "Requirement already satisfied: pyparsing>=2.3.1 in /usr/local/lib/python3.10/dist-packages (from matplotlib->semseg==0.4.1) (3.1.0)\n",
            "Requirement already satisfied: python-dateutil>=2.7 in /usr/local/lib/python3.10/dist-packages (from matplotlib->semseg==0.4.1) (2.8.2)\n",
            "Requirement already satisfied: markdown-it-py>=2.2.0 in /usr/local/lib/python3.10/dist-packages (from rich->semseg==0.4.1) (3.0.0)\n",
            "Requirement already satisfied: pygments<3.0.0,>=2.13.0 in /usr/local/lib/python3.10/dist-packages (from rich->semseg==0.4.1) (2.14.0)\n",
            "Requirement already satisfied: absl-py>=0.4 in /usr/local/lib/python3.10/dist-packages (from tensorboard->semseg==0.4.1) (1.4.0)\n",
            "Requirement already satisfied: grpcio>=1.48.2 in /usr/local/lib/python3.10/dist-packages (from tensorboard->semseg==0.4.1) (1.56.0)\n",
            "Requirement already satisfied: google-auth<3,>=1.6.3 in /usr/local/lib/python3.10/dist-packages (from tensorboard->semseg==0.4.1) (2.17.3)\n",
            "Requirement already satisfied: google-auth-oauthlib<1.1,>=0.5 in /usr/local/lib/python3.10/dist-packages (from tensorboard->semseg==0.4.1) (1.0.0)\n",
            "Requirement already satisfied: markdown>=2.6.8 in /usr/local/lib/python3.10/dist-packages (from tensorboard->semseg==0.4.1) (3.4.3)\n",
            "Requirement already satisfied: protobuf>=3.19.6 in /usr/local/lib/python3.10/dist-packages (from tensorboard->semseg==0.4.1) (3.20.3)\n",
            "Requirement already satisfied: requests<3,>=2.21.0 in /usr/local/lib/python3.10/dist-packages (from tensorboard->semseg==0.4.1) (2.27.1)\n",
            "Requirement already satisfied: setuptools>=41.0.0 in /usr/local/lib/python3.10/dist-packages (from tensorboard->semseg==0.4.1) (67.7.2)\n",
            "Requirement already satisfied: tensorboard-data-server<0.8.0,>=0.7.0 in /usr/local/lib/python3.10/dist-packages (from tensorboard->semseg==0.4.1) (0.7.1)\n",
            "Requirement already satisfied: werkzeug>=1.0.1 in /usr/local/lib/python3.10/dist-packages (from tensorboard->semseg==0.4.1) (2.3.6)\n",
            "Requirement already satisfied: wheel>=0.26 in /usr/local/lib/python3.10/dist-packages (from tensorboard->semseg==0.4.1) (0.40.0)\n",
            "Requirement already satisfied: cachetools<6.0,>=2.0.0 in /usr/local/lib/python3.10/dist-packages (from google-auth<3,>=1.6.3->tensorboard->semseg==0.4.1) (5.3.1)\n",
            "Requirement already satisfied: pyasn1-modules>=0.2.1 in /usr/local/lib/python3.10/dist-packages (from google-auth<3,>=1.6.3->tensorboard->semseg==0.4.1) (0.3.0)\n",
            "Requirement already satisfied: six>=1.9.0 in /usr/local/lib/python3.10/dist-packages (from google-auth<3,>=1.6.3->tensorboard->semseg==0.4.1) (1.16.0)\n",
            "Requirement already satisfied: rsa<5,>=3.1.4 in /usr/local/lib/python3.10/dist-packages (from google-auth<3,>=1.6.3->tensorboard->semseg==0.4.1) (4.9)\n",
            "Requirement already satisfied: requests-oauthlib>=0.7.0 in /usr/local/lib/python3.10/dist-packages (from google-auth-oauthlib<1.1,>=0.5->tensorboard->semseg==0.4.1) (1.3.1)\n",
            "Requirement already satisfied: typing_extensions in /usr/local/lib/python3.10/dist-packages (from iopath>=0.1.7->fvcore->semseg==0.4.1) (4.7.1)\n",
            "Collecting portalocker (from iopath>=0.1.7->fvcore->semseg==0.4.1)\n",
            "  Downloading portalocker-2.7.0-py2.py3-none-any.whl (15 kB)\n",
            "Requirement already satisfied: mdurl~=0.1 in /usr/local/lib/python3.10/dist-packages (from markdown-it-py>=2.2.0->rich->semseg==0.4.1) (0.1.2)\n",
            "Requirement already satisfied: urllib3<1.27,>=1.21.1 in /usr/local/lib/python3.10/dist-packages (from requests<3,>=2.21.0->tensorboard->semseg==0.4.1) (1.26.16)\n",
            "Requirement already satisfied: certifi>=2017.4.17 in /usr/local/lib/python3.10/dist-packages (from requests<3,>=2.21.0->tensorboard->semseg==0.4.1) (2023.5.7)\n",
            "Requirement already satisfied: charset-normalizer~=2.0.0 in /usr/local/lib/python3.10/dist-packages (from requests<3,>=2.21.0->tensorboard->semseg==0.4.1) (2.0.12)\n",
            "Requirement already satisfied: idna<4,>=2.5 in /usr/local/lib/python3.10/dist-packages (from requests<3,>=2.21.0->tensorboard->semseg==0.4.1) (3.4)\n",
            "Requirement already satisfied: MarkupSafe>=2.1.1 in /usr/local/lib/python3.10/dist-packages (from werkzeug>=1.0.1->tensorboard->semseg==0.4.1) (2.1.3)\n",
            "Requirement already satisfied: pyasn1<0.6.0,>=0.4.6 in /usr/local/lib/python3.10/dist-packages (from pyasn1-modules>=0.2.1->google-auth<3,>=1.6.3->tensorboard->semseg==0.4.1) (0.5.0)\n",
            "Requirement already satisfied: oauthlib>=3.0.0 in /usr/local/lib/python3.10/dist-packages (from requests-oauthlib>=0.7.0->google-auth-oauthlib<1.1,>=0.5->tensorboard->semseg==0.4.1) (3.2.2)\n",
            "Building wheels for collected packages: fvcore, iopath\n",
            "  Building wheel for fvcore (setup.py) ... \u001b[?25l\u001b[?25hdone\n",
            "  Created wheel for fvcore: filename=fvcore-0.1.5.post20221221-py3-none-any.whl size=61405 sha256=3acaa4fdfc63345248a8cfd4fc100497b8bc227f6630a42226679a3ab155aff2\n",
            "  Stored in directory: /root/.cache/pip/wheels/01/c0/af/77c1cf53a1be9e42a52b48e5af2169d40ec2e89f7362489dd0\n",
            "  Building wheel for iopath (setup.py) ... \u001b[?25l\u001b[?25hdone\n",
            "  Created wheel for iopath: filename=iopath-0.1.10-py3-none-any.whl size=31531 sha256=1bacc5071e055fe4d18b650306b2010000f7f43e72dd6f3e1266657fcba85edb\n",
            "  Stored in directory: /root/.cache/pip/wheels/9a/a3/b6/ac0fcd1b4ed5cfeb3db92e6a0e476cfd48ed0df92b91080c1d\n",
            "Successfully built fvcore iopath\n",
            "Installing collected packages: yacs, portalocker, einops, iopath, fvcore, semseg\n",
            "  Running setup.py develop for semseg\n",
            "Successfully installed einops-0.6.1 fvcore-0.1.5.post20221221 iopath-0.1.10 portalocker-2.7.0 semseg-0.4.1 yacs-0.1.8\n",
            "Requirement already satisfied: gdown in /usr/local/lib/python3.10/dist-packages (4.7.1)\n",
            "Requirement already satisfied: filelock in /usr/local/lib/python3.10/dist-packages (from gdown) (3.12.2)\n",
            "Requirement already satisfied: requests[socks] in /usr/local/lib/python3.10/dist-packages (from gdown) (2.27.1)\n",
            "Requirement already satisfied: six in /usr/local/lib/python3.10/dist-packages (from gdown) (1.16.0)\n",
            "Requirement already satisfied: tqdm in /usr/local/lib/python3.10/dist-packages (from gdown) (4.65.0)\n",
            "Requirement already satisfied: beautifulsoup4 in /usr/local/lib/python3.10/dist-packages (from gdown) (4.11.2)\n",
            "Requirement already satisfied: soupsieve>1.2 in /usr/local/lib/python3.10/dist-packages (from beautifulsoup4->gdown) (2.4.1)\n",
            "Requirement already satisfied: urllib3<1.27,>=1.21.1 in /usr/local/lib/python3.10/dist-packages (from requests[socks]->gdown) (1.26.16)\n",
            "Requirement already satisfied: certifi>=2017.4.17 in /usr/local/lib/python3.10/dist-packages (from requests[socks]->gdown) (2023.5.7)\n",
            "Requirement already satisfied: charset-normalizer~=2.0.0 in /usr/local/lib/python3.10/dist-packages (from requests[socks]->gdown) (2.0.12)\n",
            "Requirement already satisfied: idna<4,>=2.5 in /usr/local/lib/python3.10/dist-packages (from requests[socks]->gdown) (3.4)\n",
            "Requirement already satisfied: PySocks!=1.5.7,>=1.5.6 in /usr/local/lib/python3.10/dist-packages (from requests[socks]->gdown) (1.7.1)\n",
            "/content/semantic-segmentation/semantic-segmentation\n"
          ]
        }
      ],
      "source": [
        "# Clone remote repo with existing models\n",
        "\n",
        "if COLAB:\n",
        "    !git clone https://github.com/sithu31296/semantic-segmentation\n",
        "    %pip install -e .\n",
        "    %pip install -U gdown\n",
        "    %cd semantic-segmentation"
      ]
    },
    {
      "cell_type": "code",
      "execution_count": 10,
      "metadata": {
        "colab": {
          "base_uri": "https://localhost:8080/"
        },
        "id": "gf3AWmRO_2CJ",
        "outputId": "e95384e1-99e4-4c7c-fdff-db42caa811ec"
      },
      "outputs": [
        {
          "output_type": "stream",
          "name": "stdout",
          "text": [
            "  No.  Model Names\n",
            "-----  -------------\n",
            "    1  SegFormer\n",
            "    2  Lawin\n",
            "    3  SFNet\n",
            "    4  BiSeNetv1\n",
            "    5  DDRNet\n",
            "    6  FCHarDNet\n",
            "    7  BiSeNetv2\n"
          ]
        }
      ],
      "source": [
        "from semseg import show_models\n",
        "\n",
        "show_models()"
      ]
    },
    {
      "cell_type": "code",
      "execution_count": 11,
      "metadata": {
        "colab": {
          "base_uri": "https://localhost:8080/"
        },
        "id": "ZCa6tmRlelhW",
        "outputId": "129be0cb-5f08-4d0a-e780-48cc4b15c470"
      },
      "outputs": [
        {
          "output_type": "stream",
          "name": "stdout",
          "text": [
            "Download a pretrained model's weights from the result table.\n",
            "Loaded Model\n",
            "/content\n"
          ]
        }
      ],
      "source": [
        "#  Import segformer\n",
        "\n",
        "from semseg.models import *\n",
        "\n",
        "model = eval('Lawin')(\n",
        "    backbone='MiT-B2',\n",
        "    num_classes=5\n",
        ")\n",
        "\n",
        "try:\n",
        "    model.load_state_dict(torch.load('checkpoints/pretrained/segformer/segformer.b2.ade.pth',\n",
        "                                     map_location=device))\n",
        "    print(\"Pretrained model's weights downloaded\")\n",
        "except:\n",
        "    print(\"Download a pretrained model's weights from the result table.\")\n",
        "\n",
        "model.to(device)\n",
        "\n",
        "print('Loaded Model')\n",
        "%cd /content/"
      ]
    },
    {
      "cell_type": "markdown",
      "metadata": {
        "id": "sTK2tqpgrILQ"
      },
      "source": [
        "## Training"
      ]
    },
    {
      "cell_type": "markdown",
      "metadata": {
        "id": "vi6ZGOtk3EXa"
      },
      "source": [
        "#### Training parameters"
      ]
    },
    {
      "cell_type": "code",
      "source": [
        "# test different cross entropy\n",
        "class TestCE(nn.Module):\n",
        "    def __init__(self,\n",
        "                 ignore_label: int = 4,\n",
        "                 weight = None) -> None:\n",
        "        super().__init__()\n",
        "        self.ignore_index = ignore_label\n",
        "        self.weight = weight\n",
        "\n",
        "    def forward(self, inputs, target):\n",
        "\n",
        "        # Cross entropy needs inputs in original shape B x C x H x W but we have B x H x W x C\n",
        "        rev_inputs = inputs.permute(0, 1, 3, 2).permute(0, 2, 1, 3)\n",
        "\n",
        "        # Create the labels one hot tensor\n",
        "        num_classes = inputs.shape[1]\n",
        "        target_one_hot = F.one_hot(target, num_classes=num_classes)\n",
        "\n",
        "        criterion = nn.CrossEntropyLoss(self.weight) #, self.ignore_index=ignore_label)\n",
        "\n",
        "        return criterion(rev_inputs, target)"
      ],
      "metadata": {
        "id": "n3e6mLL4kRBM"
      },
      "execution_count": null,
      "outputs": []
    },
    {
      "cell_type": "code",
      "source": [
        "class TestDice(nn.Module):\n",
        "    def __init__(self, delta: float = 0.5, aux_weights: list = [1, 0.4, 0.4]):\n",
        "        \"\"\"\n",
        "        delta: Controls weight given to FP and FN. This equals to dice score when delta=0.5\n",
        "        \"\"\"\n",
        "        super().__init__()\n",
        "        self.delta = delta\n",
        "        self.aux_weights = aux_weights\n",
        "\n",
        "    def _forward(self, preds, labels):\n",
        "        # preds in shape [B, C, H, W] and labels in shape [B, H, W]\n",
        "        preds = preds.permute(0, 1, 3, 2).permute(0, 2, 1, 3)\n",
        "        num_classes = preds.shape[1]\n",
        "        preds = F.softmax(preds, dim=1)\n",
        "        labels = F.one_hot(labels, num_classes).permute(0, 3, 1, 2)\n",
        "        tp = torch.sum(labels*preds, dim=(2, 3))\n",
        "        fn = torch.sum(labels*(1-preds), dim=(2, 3))\n",
        "        fp = torch.sum((1-labels)*preds, dim=(2, 3))\n",
        "\n",
        "        dice_score = (tp + 1e-6) / (tp + self.delta * fn + (1 - self.delta) * fp + 1e-6)\n",
        "        dice_score = torch.sum(1 - dice_score, dim=-1)\n",
        "\n",
        "        dice_score = dice_score / num_classes\n",
        "        return dice_score.mean()\n",
        "\n",
        "    def forward(self, preds, targets):\n",
        "        if isinstance(preds, tuple):\n",
        "            return sum([w * self._forward(pred, targets) for (pred, w) in zip(preds, self.aux_weights)])\n",
        "        return self._forward(preds, targets)"
      ],
      "metadata": {
        "id": "mhStpl-zmLlA"
      },
      "execution_count": 17,
      "outputs": []
    },
    {
      "cell_type": "code",
      "execution_count": 13,
      "metadata": {
        "id": "sSxW3mFNelhl"
      },
      "outputs": [],
      "source": [
        "# Training parameters\n",
        "\n",
        "loss_fn = Ai4MarsDiceLoss().to(device)\n",
        "#loss_fn = TestDice().to(device)\n",
        "# loss_fn = Ai4MarsCrossEntropy().to(device)\n",
        "# loss_fn = TestCE().to(device)\n",
        "\n",
        "optimizer = torch.optim.Adam(model.parameters(), lr=0.00001)\n",
        "optimizer = torch.optim.Adam([\n",
        "                {'params': model.backbone.parameters(), 'lr': 1e-3},\n",
        "                {'params': model.decode_head.parameters(), 'lr': 1e-4}\n",
        "                ]\n",
        "                            ,amsgrad = True)\n",
        "lr_scheduler = torch.optim.lr_scheduler.StepLR(optimizer, step_size=10, gamma=0.2)\n",
        "\n",
        "transform = None\n",
        "# transform = transforms.RandomChoice([\n",
        "#      transforms.RandomRotation(90)])\n",
        "\n",
        "epochs = 5\n",
        "\n",
        "trainer = Ai4MarsTrainer(loss_fn, optimizer, train_loader, val_loader, lr_scheduler=lr_scheduler,\n",
        "                         transform=transform, device=device, info=info, model_name='Lawin-MiT-B2', dump=True)"
      ]
    },
    {
      "cell_type": "code",
      "execution_count": null,
      "metadata": {
        "id": "-6p6LYs2R0fF"
      },
      "outputs": [],
      "source": [
        "# Model Parameters\n",
        "# Check if the variable has been defined\n",
        "if 'run_once' not in globals():\n",
        "    run_once = True\n",
        "    trainer.param_hist(model, label='before')"
      ]
    },
    {
      "cell_type": "markdown",
      "metadata": {
        "id": "EBpzmtnRfEZn"
      },
      "source": [
        "#### Regular training"
      ]
    },
    {
      "cell_type": "code",
      "execution_count": 14,
      "metadata": {
        "id": "FSkhk_Rl2gX0",
        "outputId": "4297b2a6-14d7-4f91-9d5e-003522a416e0",
        "colab": {
          "base_uri": "https://localhost:8080/"
        }
      },
      "outputs": [
        {
          "output_type": "stream",
          "name": "stdout",
          "text": [
            "EPOCH 1\n",
            "Train loss: 0.7295715378390418\n",
            "Time needed for training: 59.079649209976196 seconds\n",
            "Validation loss: 0.6217698097229004 \n",
            "\n",
            "EPOCH 2\n",
            "Train loss: 0.6356240842077467\n",
            "Time needed for training: 54.14195275306702 seconds\n",
            "Validation loss: 0.7517432808876038 \n",
            "\n",
            "EPOCH 3\n",
            "Train loss: 0.6197545693980323\n",
            "Time needed for training: 53.18868327140808 seconds\n",
            "Validation loss: 0.7695329427719116 \n",
            "\n",
            "EPOCH 4\n",
            "Train loss: 0.6134474509292178\n",
            "Time needed for training: 51.72295045852661 seconds\n",
            "Validation loss: 0.5694825172424316 \n",
            "\n",
            "EPOCH 5\n",
            "Train loss: 0.5995605124367608\n",
            "Time needed for training: 51.73819541931152 seconds\n",
            "Validation loss: 0.5696380615234375 \n",
            "\n"
          ]
        }
      ],
      "source": [
        "# Start training\n",
        "trainer.train_multiple_epoch(model, EPOCHS=epochs)"
      ]
    },
    {
      "cell_type": "markdown",
      "metadata": {
        "id": "U92PUhBW2-lv"
      },
      "source": [
        "#### Chunk training"
      ]
    },
    {
      "cell_type": "code",
      "execution_count": null,
      "metadata": {
        "id": "N6LW1nfz3MpV"
      },
      "outputs": [],
      "source": [
        "if not CHUNK:\n",
        "    print(\"You are not allowd to perform chunk training proceede with regular traiing\")\n",
        "\n",
        "else:\n",
        "\n",
        "    print(\"You are allowd to perform chunk training proceede with regular traiing\")\n",
        "    print(\"Please pay attention that you are using the same splitting parameters\")\n",
        "\n",
        "    CHUNK = False\n",
        "    stop_at = 5 #(total_size // chunk_size)\n",
        "\n",
        "    for i in range(0, stop_at):\n",
        "\n",
        "        if i == 0:\n",
        "            print(f\"Loading chunck {current_chunk // chunk_size}\")\n",
        "            trainer.train_multiple_epoch(model, EPOCHS=epochs)\n",
        "            trainer.plot_loss()\n",
        "\n",
        "        else:\n",
        "\n",
        "            # update current chunk\n",
        "            current_chunk += chunk_size\n",
        "\n",
        "            print(f\"Loading chunck {current_chunk // chunk_size}\")\n",
        "\n",
        "            if COLAB: load_data = '/content/' + dataset_type\n",
        "            elif LOCAL: load_data = root_dir + '/datasetup/' + dataset_type\n",
        "\n",
        "            X, y = torch.load(load_data + str(current_chunk // chunk_size) + 'dataset.pt')\n",
        "\n",
        "            # Build dataset\n",
        "            splitter = Ai4MarsSplitter()\n",
        "            train_set, test_set, val_set = splitter(X, y, percentages)\n",
        "\n",
        "            # Build Ai4MarsDataloader\n",
        "            loader = Ai4MarsDataLoader()\n",
        "            train_loader, test_loader, val_loader = loader(\n",
        "                [train_set, test_set, val_set], batch_sizes)\n",
        "\n",
        "            trainer.train_multiple_epoch(model, EPOCHS=epochs)\n",
        "            trainer.plot_loss()"
      ]
    },
    {
      "cell_type": "code",
      "source": [
        "# Hard reset\n",
        "CHUNK = True\n",
        "current_chunk = 500"
      ],
      "metadata": {
        "id": "H0zNgPEPmNgi"
      },
      "execution_count": 27,
      "outputs": []
    },
    {
      "cell_type": "markdown",
      "metadata": {
        "id": "XRpG5qJqfEZo"
      },
      "source": [
        "#### Plot loss"
      ]
    },
    {
      "cell_type": "code",
      "execution_count": 16,
      "metadata": {
        "colab": {
          "base_uri": "https://localhost:8080/",
          "height": 524
        },
        "id": "r6HCej-k7w6R",
        "outputId": "649899a3-d8e1-4bf4-c453-08105da14d8b"
      },
      "outputs": [
        {
          "output_type": "stream",
          "name": "stdout",
          "text": [
            "Data will be saved in ./dump/20230719-111010-Lawin-MiT-B2/loss/\n"
          ]
        },
        {
          "output_type": "display_data",
          "data": {
            "text/plain": [
              "<Figure size 640x480 with 1 Axes>"
            ],
            "image/png": "[encoded data removed]"
          },
          "metadata": {}
        },
        {
          "output_type": "stream",
          "name": "stdout",
          "text": [
            "Train mean loss: 0.6246860560443667\n",
            "Validation mean loss: 0.6355649828910828\n"
          ]
        }
      ],
      "source": [
        "# Plot loss\n",
        "\n",
        "import matplotlib.pyplot as plt\n",
        "\n",
        "trainer.plot_loss()"
      ]
    },
    {
      "cell_type": "markdown",
      "metadata": {
        "id": "8vQYontwr3W8"
      },
      "source": [
        "## Testing"
      ]
    },
    {
      "cell_type": "code",
      "execution_count": 22,
      "metadata": {
        "id": "ydweI29r18jr"
      },
      "outputs": [],
      "source": [
        "# # Testing and evaluation Metrics\n",
        "class Ai4MarsTester():\n",
        "\n",
        "    def __init__(self, loss_fn, metric, test_loader=None, device='cpu') -> None:\n",
        "        self.loss_fn = loss_fn\n",
        "        self.metric = metric\n",
        "        self.test_loader = test_loader\n",
        "        self.device  = device\n",
        "        pass\n",
        "\n",
        "    def test_one_epoch(self, model):\n",
        "        running_loss = 0.\n",
        "        last_loss = 0.\n",
        "        total_outputs = []\n",
        "        total_labels = []\n",
        "\n",
        "        for batch_index, batch in enumerate(self.test_loader):\n",
        "\n",
        "            # Inputs labes pair\n",
        "            inputs, labels = batch\n",
        "\n",
        "            # Send Tensors to device\n",
        "            inputs = inputs.to(self.device)\n",
        "            labels = labels.to(self.device)\n",
        "\n",
        "            outputs = model(inputs)\n",
        "\n",
        "            # New shape: B x W x H x C\n",
        "            outputs = outputs.permute(0,2,1,3).permute(0,1,3,2)\n",
        "\n",
        "            labels = labels.squeeze()\n",
        "            labels = labels.long()\n",
        "\n",
        "            # Accumulate inputs labels to compute metrics\n",
        "            total_outputs.append(outputs)\n",
        "            total_labels.append(labels)\n",
        "\n",
        "            loss = self.loss_fn(outputs, labels)\n",
        "            running_loss += loss.item()\n",
        "\n",
        "            # Free up RAM/VRAM\n",
        "            inputs.detach()\n",
        "            labels.detach()\n",
        "            del inputs\n",
        "            del labels\n",
        "            torch.cuda.empty_cache()\n",
        "\n",
        "        # Compute average loss over all batches\n",
        "        last_loss = (running_loss) / (batch_index + 1 )\n",
        "\n",
        "        print(f\"Test loss: {last_loss}\\n\")\n",
        "\n",
        "        # Preprocessing for metrics computation\n",
        "        if len(self.test_loader.dataset) % self.test_loader.batch_size != 0:\n",
        "            total_outputs.pop(-1)\n",
        "            total_labels.pop(-1)\n",
        "\n",
        "        total_outputs = torch.stack(total_outputs, dim=0)\n",
        "        total_labels = torch.stack(total_labels, dim=0)\n",
        "\n",
        "        total_outputs = F.softmax(total_outputs, dim=-1)\n",
        "        total_labels = F.one_hot(total_labels, num_classes=total_outputs.shape[-1])\n",
        "\n",
        "        # Index metrics\n",
        "        value = self.metric(total_outputs.reshape(-1), total_labels.reshape(-1))\n",
        "\n",
        "        print(f\"Metrics {self.metric}: {value.item()}\")\n",
        "\n",
        "\n",
        "metric = metrics.JaccardIndex(task=\"multiclass\", num_classes=5).to(device)\n",
        "tester = Ai4MarsTester(loss_fn, metric, test_loader, device=device)"
      ]
    },
    {
      "cell_type": "code",
      "execution_count": null,
      "metadata": {
        "id": "n1ZyzuJW61Rs"
      },
      "outputs": [],
      "source": [
        "# Start testing\n",
        "torch.cuda.empty_cache()\n",
        "tester.test_one_epoch(model)\n",
        "# print(test_loader.dataset.__getitem__(0)[0].shape)"
      ]
    },
    {
      "cell_type": "code",
      "execution_count": null,
      "metadata": {
        "id": "-1_v2Q1AV73W"
      },
      "outputs": [],
      "source": [
        "# Module Parameters\n",
        "trainer.param_hist(model, label='after')"
      ]
    },
    {
      "cell_type": "code",
      "execution_count": null,
      "metadata": {
        "id": "ewE16aoK_2CX"
      },
      "outputs": [],
      "source": [
        "model.eval()\n",
        "\n",
        "for i, batch in enumerate(test_loader):\n",
        "  image, label = batch\n",
        "  print(image.shape)\n",
        "  model = model.cpu()\n",
        "  pred = model(image)\n",
        "  tester.show_images(image, trainer.results_path, index=i)\n",
        "  tester.show_seg(label, trainer.results_path, index=i)\n",
        "  tester.show_seg(pred.cpu(), trainer.results_path, index=i)"
      ]
    },
    {
      "cell_type": "code",
      "execution_count": 34,
      "metadata": {
        "id": "Mno4s9Jt8Mi1",
        "outputId": "129f2181-0fe2-4899-8084-a0d71229eac5",
        "colab": {
          "base_uri": "https://localhost:8080/",
          "height": 555
        }
      },
      "outputs": [
        {
          "output_type": "stream",
          "name": "stdout",
          "text": [
            "  adding: content/dump/20230719-103133-Lawin-MiT-B2/ (stored 0%)\n",
            "  adding: content/dump/20230719-103133-Lawin-MiT-B2/model_state/ (stored 0%)\n",
            "  adding: content/dump/20230719-103133-Lawin-MiT-B2/model_state/config (deflated 21%)\n",
            "  adding: content/dump/20230719-103133-Lawin-MiT-B2/loss/ (stored 0%)\n",
            "  adding: content/dump/20230719-103133-Lawin-MiT-B2/loss/loss_plot_20230719_104329.png (deflated 7%)\n",
            "  adding: content/dump/20230719-103133-Lawin-MiT-B2/loss/loss_plot_20230719_104709.png (deflated 7%)\n",
            "  adding: content/dump/20230719-103133-Lawin-MiT-B2/loss/loss_plot_20230719_103607.png (deflated 6%)\n",
            "  adding: content/dump/20230719-103133-Lawin-MiT-B2/loss/loss_plot_20230719_105051.png (deflated 6%)\n",
            "  adding: content/dump/20230719-103133-Lawin-MiT-B2/loss/loss_plot_20230719_103946.png (deflated 7%)\n",
            "  adding: content/dump/20230719-103133-Lawin-MiT-B2/images/ (stored 0%)\n",
            "  adding: content/dump/20230719-103133-Lawin-MiT-B2/images/image3.png (deflated 1%)\n",
            "  adding: content/dump/20230719-103133-Lawin-MiT-B2/images/prediction3.png (deflated 3%)\n",
            "  adding: content/dump/20230719-103133-Lawin-MiT-B2/images/label0.png (deflated 2%)\n",
            "  adding: content/dump/20230719-103133-Lawin-MiT-B2/images/label6.png (deflated 1%)\n",
            "  adding: content/dump/20230719-103133-Lawin-MiT-B2/images/prediction4.png (deflated 2%)\n",
            "  adding: content/dump/20230719-103133-Lawin-MiT-B2/images/image4.png (deflated 1%)\n",
            "  adding: content/dump/20230719-103133-Lawin-MiT-B2/images/label4.png (deflated 1%)\n",
            "  adding: content/dump/20230719-103133-Lawin-MiT-B2/images/prediction6.png (deflated 2%)\n",
            "  adding: content/dump/20230719-103133-Lawin-MiT-B2/images/image5.png (deflated 1%)\n",
            "  adding: content/dump/20230719-103133-Lawin-MiT-B2/images/image2.png (deflated 1%)\n",
            "  adding: content/dump/20230719-103133-Lawin-MiT-B2/images/image0.png (deflated 1%)\n",
            "  adding: content/dump/20230719-103133-Lawin-MiT-B2/images/prediction5.png (deflated 4%)\n",
            "  adding: content/dump/20230719-103133-Lawin-MiT-B2/images/prediction0.png (deflated 2%)\n",
            "  adding: content/dump/20230719-103133-Lawin-MiT-B2/images/image6.png (deflated 1%)\n",
            "  adding: content/dump/20230719-103133-Lawin-MiT-B2/images/label5.png (deflated 1%)\n",
            "  adding: content/dump/20230719-103133-Lawin-MiT-B2/images/label2.png (deflated 3%)\n",
            "  adding: content/dump/20230719-103133-Lawin-MiT-B2/images/image1.png (deflated 1%)\n",
            "  adding: content/dump/20230719-103133-Lawin-MiT-B2/images/prediction2.png (deflated 4%)\n",
            "  adding: content/dump/20230719-103133-Lawin-MiT-B2/images/label3.png (deflated 2%)\n",
            "  adding: content/dump/20230719-103133-Lawin-MiT-B2/images/label1.png (deflated 4%)\n",
            "  adding: content/dump/20230719-103133-Lawin-MiT-B2/images/prediction1.png (deflated 3%)\n"
          ]
        },
        {
          "output_type": "display_data",
          "data": {
            "text/plain": [
              "<IPython.core.display.Javascript object>"
            ],
            "application/javascript": [
              "\n",
              "    async function download(id, filename, size) {\n",
              "      if (!google.colab.kernel.accessAllowed) {\n",
              "        return;\n",
              "      }\n",
              "      const div = document.createElement('div');\n",
              "      const label = document.createElement('label');\n",
              "      label.textContent = `Downloading \"${filename}\": `;\n",
              "      div.appendChild(label);\n",
              "      const progress = document.createElement('progress');\n",
              "      progress.max = size;\n",
              "      div.appendChild(progress);\n",
              "      document.body.appendChild(div);\n",
              "\n",
              "      const buffers = [];\n",
              "      let downloaded = 0;\n",
              "\n",
              "      const channel = await google.colab.kernel.comms.open(id);\n",
              "      // Send a message to notify the kernel that we're ready.\n",
              "      channel.send({})\n",
              "\n",
              "      for await (const message of channel.messages) {\n",
              "        // Send a message to notify the kernel that we're ready.\n",
              "        channel.send({})\n",
              "        if (message.buffers) {\n",
              "          for (const buffer of message.buffers) {\n",
              "            buffers.push(buffer);\n",
              "            downloaded += buffer.byteLength;\n",
              "            progress.value = downloaded;\n",
              "          }\n",
              "        }\n",
              "      }\n",
              "      const blob = new Blob(buffers, {type: 'application/binary'});\n",
              "      const a = document.createElement('a');\n",
              "      a.href = window.URL.createObjectURL(blob);\n",
              "      a.download = filename;\n",
              "      div.appendChild(a);\n",
              "      a.click();\n",
              "      div.remove();\n",
              "    }\n",
              "  "
            ]
          },
          "metadata": {}
        },
        {
          "output_type": "display_data",
          "data": {
            "text/plain": [
              "<IPython.core.display.Javascript object>"
            ],
            "application/javascript": [
              "download(\"download_256be12b-6286-458d-81fe-3acddd8ff155\", \"20230719-103133-Lawin-MiT-B2.zip\", 1078633)"
            ]
          },
          "metadata": {}
        }
      ],
      "source": [
        "# To save file once you trained\n",
        "!zip -r 20230719-103133-Lawin-MiT-B2.zip /content/dump/20230719-103133-Lawin-MiT-B2\n",
        "from google.colab import files\n",
        "\n",
        "#files to save\n",
        "files.download(\"20230719-103133-Lawin-MiT-B2.zip\")"
      ]
    }
  ],
  "metadata": {
    "accelerator": "GPU",
    "colab": {
      "gpuType": "T4",
      "provenance": [],
      "include_colab_link": true
    },
    "interpreter": {
      "hash": "31f2aee4e71d21fbe5cf8b01ff0e069b9275f58929596ceb00d14d90e3e16cd6"
    },
    "kernelspec": {
      "display_name": "Python 3",
      "name": "python3"
    },
    "language_info": {
      "codemirror_mode": {
        "name": "ipython",
        "version": 3
      },
      "file_extension": ".py",
      "mimetype": "text/x-python",
      "name": "python",
      "nbconvert_exporter": "python",
      "pygments_lexer": "ipython3",
      "version": "3.10.6"
    },
    "widgets": {
      "application/vnd.jupyter.widget-state+json": {
        "d15482f12376480b9faa7279d1bee065": {
          "model_module": "@jupyter-widgets/controls",
          "model_name": "ButtonModel",
          "model_module_version": "1.5.0",
          "state": {
            "_dom_classes": [],
            "_model_module": "@jupyter-widgets/controls",
            "_model_module_version": "1.5.0",
            "_model_name": "ButtonModel",
            "_view_count": null,
            "_view_module": "@jupyter-widgets/controls",
            "_view_module_version": "1.5.0",
            "_view_name": "ButtonView",
            "button_style": "",
            "description": "Load whole Dataset",
            "disabled": false,
            "icon": "",
            "layout": "IPY_MODEL_afb2b39bf0744e63b51e2ab6ac3a8258",
            "style": "IPY_MODEL_4dcfb8fa92684fb1b0afb9ccb52d602d",
            "tooltip": ""
          }
        },
        "afb2b39bf0744e63b51e2ab6ac3a8258": {
          "model_module": "@jupyter-widgets/base",
          "model_name": "LayoutModel",
          "model_module_version": "1.2.0",
          "state": {
            "_model_module": "@jupyter-widgets/base",
            "_model_module_version": "1.2.0",
            "_model_name": "LayoutModel",
            "_view_count": null,
            "_view_module": "@jupyter-widgets/base",
            "_view_module_version": "1.2.0",
            "_view_name": "LayoutView",
            "align_content": null,
            "align_items": null,
            "align_self": null,
            "border": null,
            "bottom": null,
            "display": null,
            "flex": null,
            "flex_flow": null,
            "grid_area": null,
            "grid_auto_columns": null,
            "grid_auto_flow": null,
            "grid_auto_rows": null,
            "grid_column": null,
            "grid_gap": null,
            "grid_row": null,
            "grid_template_areas": null,
            "grid_template_columns": null,
            "grid_template_rows": null,
            "height": null,
            "justify_content": null,
            "justify_items": null,
            "left": null,
            "margin": null,
            "max_height": null,
            "max_width": null,
            "min_height": null,
            "min_width": null,
            "object_fit": null,
            "object_position": null,
            "order": null,
            "overflow": null,
            "overflow_x": null,
            "overflow_y": null,
            "padding": null,
            "right": null,
            "top": null,
            "visibility": null,
            "width": null
          }
        },
        "4dcfb8fa92684fb1b0afb9ccb52d602d": {
          "model_module": "@jupyter-widgets/controls",
          "model_name": "ButtonStyleModel",
          "model_module_version": "1.5.0",
          "state": {
            "_model_module": "@jupyter-widgets/controls",
            "_model_module_version": "1.5.0",
            "_model_name": "ButtonStyleModel",
            "_view_count": null,
            "_view_module": "@jupyter-widgets/base",
            "_view_module_version": "1.2.0",
            "_view_name": "StyleView",
            "button_color": null,
            "font_weight": ""
          }
        },
        "b34a1ac9e03d4b3da75775c530c662ee": {
          "model_module": "@jupyter-widgets/controls",
          "model_name": "ButtonModel",
          "model_module_version": "1.5.0",
          "state": {
            "_dom_classes": [],
            "_model_module": "@jupyter-widgets/controls",
            "_model_module_version": "1.5.0",
            "_model_name": "ButtonModel",
            "_view_count": null,
            "_view_module": "@jupyter-widgets/controls",
            "_view_module_version": "1.5.0",
            "_view_name": "ButtonView",
            "button_style": "",
            "description": "Load chunk of data",
            "disabled": false,
            "icon": "",
            "layout": "IPY_MODEL_088e08472b284281bf675c6f2d6bc8ab",
            "style": "IPY_MODEL_990fbfd240864303a1e9048b65c9ee37",
            "tooltip": ""
          }
        },
        "088e08472b284281bf675c6f2d6bc8ab": {
          "model_module": "@jupyter-widgets/base",
          "model_name": "LayoutModel",
          "model_module_version": "1.2.0",
          "state": {
            "_model_module": "@jupyter-widgets/base",
            "_model_module_version": "1.2.0",
            "_model_name": "LayoutModel",
            "_view_count": null,
            "_view_module": "@jupyter-widgets/base",
            "_view_module_version": "1.2.0",
            "_view_name": "LayoutView",
            "align_content": null,
            "align_items": null,
            "align_self": null,
            "border": null,
            "bottom": null,
            "display": null,
            "flex": null,
            "flex_flow": null,
            "grid_area": null,
            "grid_auto_columns": null,
            "grid_auto_flow": null,
            "grid_auto_rows": null,
            "grid_column": null,
            "grid_gap": null,
            "grid_row": null,
            "grid_template_areas": null,
            "grid_template_columns": null,
            "grid_template_rows": null,
            "height": null,
            "justify_content": null,
            "justify_items": null,
            "left": null,
            "margin": null,
            "max_height": null,
            "max_width": null,
            "min_height": null,
            "min_width": null,
            "object_fit": null,
            "object_position": null,
            "order": null,
            "overflow": null,
            "overflow_x": null,
            "overflow_y": null,
            "padding": null,
            "right": null,
            "top": null,
            "visibility": null,
            "width": null
          }
        },
        "990fbfd240864303a1e9048b65c9ee37": {
          "model_module": "@jupyter-widgets/controls",
          "model_name": "ButtonStyleModel",
          "model_module_version": "1.5.0",
          "state": {
            "_model_module": "@jupyter-widgets/controls",
            "_model_module_version": "1.5.0",
            "_model_name": "ButtonStyleModel",
            "_view_count": null,
            "_view_module": "@jupyter-widgets/base",
            "_view_module_version": "1.2.0",
            "_view_name": "StyleView",
            "button_color": null,
            "font_weight": ""
          }
        },
        "d41cbfcb7b58487a9f74ea2109e252f6": {
          "model_module": "@jupyter-widgets/controls",
          "model_name": "ButtonModel",
          "model_module_version": "1.5.0",
          "state": {
            "_dom_classes": [],
            "_model_module": "@jupyter-widgets/controls",
            "_model_module_version": "1.5.0",
            "_model_name": "ButtonModel",
            "_view_count": null,
            "_view_module": "@jupyter-widgets/controls",
            "_view_module_version": "1.5.0",
            "_view_name": "ButtonView",
            "button_style": "",
            "description": "Dataset 300",
            "disabled": false,
            "icon": "",
            "layout": "IPY_MODEL_93be939760a64d488214c9a2e3fcdca4",
            "style": "IPY_MODEL_924ade497c474b61b4dde9b9e2f03084",
            "tooltip": ""
          }
        },
        "93be939760a64d488214c9a2e3fcdca4": {
          "model_module": "@jupyter-widgets/base",
          "model_name": "LayoutModel",
          "model_module_version": "1.2.0",
          "state": {
            "_model_module": "@jupyter-widgets/base",
            "_model_module_version": "1.2.0",
            "_model_name": "LayoutModel",
            "_view_count": null,
            "_view_module": "@jupyter-widgets/base",
            "_view_module_version": "1.2.0",
            "_view_name": "LayoutView",
            "align_content": null,
            "align_items": null,
            "align_self": null,
            "border": null,
            "bottom": null,
            "display": null,
            "flex": null,
            "flex_flow": null,
            "grid_area": null,
            "grid_auto_columns": null,
            "grid_auto_flow": null,
            "grid_auto_rows": null,
            "grid_column": null,
            "grid_gap": null,
            "grid_row": null,
            "grid_template_areas": null,
            "grid_template_columns": null,
            "grid_template_rows": null,
            "height": null,
            "justify_content": null,
            "justify_items": null,
            "left": null,
            "margin": null,
            "max_height": null,
            "max_width": null,
            "min_height": null,
            "min_width": null,
            "object_fit": null,
            "object_position": null,
            "order": null,
            "overflow": null,
            "overflow_x": null,
            "overflow_y": null,
            "padding": null,
            "right": null,
            "top": null,
            "visibility": null,
            "width": null
          }
        },
        "924ade497c474b61b4dde9b9e2f03084": {
          "model_module": "@jupyter-widgets/controls",
          "model_name": "ButtonStyleModel",
          "model_module_version": "1.5.0",
          "state": {
            "_model_module": "@jupyter-widgets/controls",
            "_model_module_version": "1.5.0",
            "_model_name": "ButtonStyleModel",
            "_view_count": null,
            "_view_module": "@jupyter-widgets/base",
            "_view_module_version": "1.2.0",
            "_view_name": "StyleView",
            "button_color": null,
            "font_weight": ""
          }
        },
        "d298ed14fe4a4b638479e09cc115515c": {
          "model_module": "@jupyter-widgets/controls",
          "model_name": "ButtonModel",
          "model_module_version": "1.5.0",
          "state": {
            "_dom_classes": [],
            "_model_module": "@jupyter-widgets/controls",
            "_model_module_version": "1.5.0",
            "_model_name": "ButtonModel",
            "_view_count": null,
            "_view_module": "@jupyter-widgets/controls",
            "_view_module_version": "1.5.0",
            "_view_name": "ButtonView",
            "button_style": "",
            "description": "Dataset 500",
            "disabled": false,
            "icon": "",
            "layout": "IPY_MODEL_82c2f625f12b4cd8908ed7d58d681a37",
            "style": "IPY_MODEL_6e5231a748714b10a0f29cbceeb5ff79",
            "tooltip": ""
          }
        },
        "82c2f625f12b4cd8908ed7d58d681a37": {
          "model_module": "@jupyter-widgets/base",
          "model_name": "LayoutModel",
          "model_module_version": "1.2.0",
          "state": {
            "_model_module": "@jupyter-widgets/base",
            "_model_module_version": "1.2.0",
            "_model_name": "LayoutModel",
            "_view_count": null,
            "_view_module": "@jupyter-widgets/base",
            "_view_module_version": "1.2.0",
            "_view_name": "LayoutView",
            "align_content": null,
            "align_items": null,
            "align_self": null,
            "border": null,
            "bottom": null,
            "display": null,
            "flex": null,
            "flex_flow": null,
            "grid_area": null,
            "grid_auto_columns": null,
            "grid_auto_flow": null,
            "grid_auto_rows": null,
            "grid_column": null,
            "grid_gap": null,
            "grid_row": null,
            "grid_template_areas": null,
            "grid_template_columns": null,
            "grid_template_rows": null,
            "height": null,
            "justify_content": null,
            "justify_items": null,
            "left": null,
            "margin": null,
            "max_height": null,
            "max_width": null,
            "min_height": null,
            "min_width": null,
            "object_fit": null,
            "object_position": null,
            "order": null,
            "overflow": null,
            "overflow_x": null,
            "overflow_y": null,
            "padding": null,
            "right": null,
            "top": null,
            "visibility": null,
            "width": null
          }
        },
        "6e5231a748714b10a0f29cbceeb5ff79": {
          "model_module": "@jupyter-widgets/controls",
          "model_name": "ButtonStyleModel",
          "model_module_version": "1.5.0",
          "state": {
            "_model_module": "@jupyter-widgets/controls",
            "_model_module_version": "1.5.0",
            "_model_name": "ButtonStyleModel",
            "_view_count": null,
            "_view_module": "@jupyter-widgets/base",
            "_view_module_version": "1.2.0",
            "_view_name": "StyleView",
            "button_color": null,
            "font_weight": ""
          }
        },
        "7710b1a5e06d4cbbae816cf8ca3b15e3": {
          "model_module": "@jupyter-widgets/controls",
          "model_name": "ButtonModel",
          "model_module_version": "1.5.0",
          "state": {
            "_dom_classes": [],
            "_model_module": "@jupyter-widgets/controls",
            "_model_module_version": "1.5.0",
            "_model_name": "ButtonModel",
            "_view_count": null,
            "_view_module": "@jupyter-widgets/controls",
            "_view_module_version": "1.5.0",
            "_view_name": "ButtonView",
            "button_style": "",
            "description": "Dataset 1000",
            "disabled": false,
            "icon": "",
            "layout": "IPY_MODEL_c3aede413b424fc4819b0a52c272d5b9",
            "style": "IPY_MODEL_4fbe1fc304c04abbb71be918a63e59e0",
            "tooltip": ""
          }
        },
        "c3aede413b424fc4819b0a52c272d5b9": {
          "model_module": "@jupyter-widgets/base",
          "model_name": "LayoutModel",
          "model_module_version": "1.2.0",
          "state": {
            "_model_module": "@jupyter-widgets/base",
            "_model_module_version": "1.2.0",
            "_model_name": "LayoutModel",
            "_view_count": null,
            "_view_module": "@jupyter-widgets/base",
            "_view_module_version": "1.2.0",
            "_view_name": "LayoutView",
            "align_content": null,
            "align_items": null,
            "align_self": null,
            "border": null,
            "bottom": null,
            "display": null,
            "flex": null,
            "flex_flow": null,
            "grid_area": null,
            "grid_auto_columns": null,
            "grid_auto_flow": null,
            "grid_auto_rows": null,
            "grid_column": null,
            "grid_gap": null,
            "grid_row": null,
            "grid_template_areas": null,
            "grid_template_columns": null,
            "grid_template_rows": null,
            "height": null,
            "justify_content": null,
            "justify_items": null,
            "left": null,
            "margin": null,
            "max_height": null,
            "max_width": null,
            "min_height": null,
            "min_width": null,
            "object_fit": null,
            "object_position": null,
            "order": null,
            "overflow": null,
            "overflow_x": null,
            "overflow_y": null,
            "padding": null,
            "right": null,
            "top": null,
            "visibility": null,
            "width": null
          }
        },
        "4fbe1fc304c04abbb71be918a63e59e0": {
          "model_module": "@jupyter-widgets/controls",
          "model_name": "ButtonStyleModel",
          "model_module_version": "1.5.0",
          "state": {
            "_model_module": "@jupyter-widgets/controls",
            "_model_module_version": "1.5.0",
            "_model_name": "ButtonStyleModel",
            "_view_count": null,
            "_view_module": "@jupyter-widgets/base",
            "_view_module_version": "1.2.0",
            "_view_name": "StyleView",
            "button_color": null,
            "font_weight": ""
          }
        }
      }
    }
  },
  "nbformat": 4,
  "nbformat_minor": 0
}
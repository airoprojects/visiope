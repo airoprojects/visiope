{
  "cells": [
    {
      "cell_type": "markdown",
      "metadata": {
        "id": "view-in-github",
        "colab_type": "text"
      },
      "source": [
        "<a href=\"https://colab.research.google.com/github/airoprojects/visiope/blob/main/experiments/test_models.ipynb\" target=\"_parent\"><img src=\"https://colab.research.google.com/assets/colab-badge.svg\" alt=\"Open In Colab\"/></a>"
      ]
    },
    {
      "cell_type": "markdown",
      "source": [
        "# Ai4MarsExperiments"
      ],
      "metadata": {
        "id": "e67Qc0pXfZGk"
      }
    },
    {
      "cell_type": "markdown",
      "source": [
        "#### Packages not included in colab"
      ],
      "metadata": {
        "id": "4MnHYhk_ff0D"
      }
    },
    {
      "cell_type": "code",
      "source": [
        "%pip install torchmetrics\n",
        "%pip install ipywidgets\n",
        "%pip install -e .\n",
        "%pip install -U gdown"
      ],
      "metadata": {
        "id": "lRsCKyRLfHuD",
        "outputId": "30874950-32ec-43fe-a346-97c0231185cb",
        "colab": {
          "base_uri": "https://localhost:8080/"
        }
      },
      "execution_count": 1,
      "outputs": [
        {
          "output_type": "stream",
          "name": "stdout",
          "text": [
            "Collecting torchmetrics\n",
            "  Downloading torchmetrics-1.0.1-py3-none-any.whl (729 kB)\n",
            "\u001b[?25l     \u001b[90m━━━━━━━━━━━━━━━━━━━━━━━━━━━━━━━━━━━━━━━━\u001b[0m \u001b[32m0.0/729.2 kB\u001b[0m \u001b[31m?\u001b[0m eta \u001b[36m-:--:--\u001b[0m\r\u001b[2K     \u001b[91m━━━━━━━━━━━━━━━━━━━━━━━━━━━━━━━━━━━━━\u001b[0m\u001b[91m╸\u001b[0m \u001b[32m727.0/729.2 kB\u001b[0m \u001b[31m31.2 MB/s\u001b[0m eta \u001b[36m0:00:01\u001b[0m\r\u001b[2K     \u001b[90m━━━━━━━━━━━━━━━━━━━━━━━━━━━━━━━━━━━━━━\u001b[0m \u001b[32m729.2/729.2 kB\u001b[0m \u001b[31m20.6 MB/s\u001b[0m eta \u001b[36m0:00:00\u001b[0m\n",
            "\u001b[?25hRequirement already satisfied: numpy>1.20.0 in /usr/local/lib/python3.10/dist-packages (from torchmetrics) (1.22.4)\n",
            "Requirement already satisfied: torch>=1.8.1 in /usr/local/lib/python3.10/dist-packages (from torchmetrics) (2.0.1+cu118)\n",
            "Requirement already satisfied: packaging in /usr/local/lib/python3.10/dist-packages (from torchmetrics) (23.1)\n",
            "Collecting lightning-utilities>=0.7.0 (from torchmetrics)\n",
            "  Downloading lightning_utilities-0.9.0-py3-none-any.whl (23 kB)\n",
            "Requirement already satisfied: typing-extensions in /usr/local/lib/python3.10/dist-packages (from lightning-utilities>=0.7.0->torchmetrics) (4.7.1)\n",
            "Requirement already satisfied: filelock in /usr/local/lib/python3.10/dist-packages (from torch>=1.8.1->torchmetrics) (3.12.2)\n",
            "Requirement already satisfied: sympy in /usr/local/lib/python3.10/dist-packages (from torch>=1.8.1->torchmetrics) (1.11.1)\n",
            "Requirement already satisfied: networkx in /usr/local/lib/python3.10/dist-packages (from torch>=1.8.1->torchmetrics) (3.1)\n",
            "Requirement already satisfied: jinja2 in /usr/local/lib/python3.10/dist-packages (from torch>=1.8.1->torchmetrics) (3.1.2)\n",
            "Requirement already satisfied: triton==2.0.0 in /usr/local/lib/python3.10/dist-packages (from torch>=1.8.1->torchmetrics) (2.0.0)\n",
            "Requirement already satisfied: cmake in /usr/local/lib/python3.10/dist-packages (from triton==2.0.0->torch>=1.8.1->torchmetrics) (3.25.2)\n",
            "Requirement already satisfied: lit in /usr/local/lib/python3.10/dist-packages (from triton==2.0.0->torch>=1.8.1->torchmetrics) (16.0.6)\n",
            "Requirement already satisfied: MarkupSafe>=2.0 in /usr/local/lib/python3.10/dist-packages (from jinja2->torch>=1.8.1->torchmetrics) (2.1.3)\n",
            "Requirement already satisfied: mpmath>=0.19 in /usr/local/lib/python3.10/dist-packages (from sympy->torch>=1.8.1->torchmetrics) (1.3.0)\n",
            "Installing collected packages: lightning-utilities, torchmetrics\n",
            "Successfully installed lightning-utilities-0.9.0 torchmetrics-1.0.1\n",
            "Requirement already satisfied: ipywidgets in /usr/local/lib/python3.10/dist-packages (7.7.1)\n",
            "Requirement already satisfied: ipykernel>=4.5.1 in /usr/local/lib/python3.10/dist-packages (from ipywidgets) (5.5.6)\n",
            "Requirement already satisfied: ipython-genutils~=0.2.0 in /usr/local/lib/python3.10/dist-packages (from ipywidgets) (0.2.0)\n",
            "Requirement already satisfied: traitlets>=4.3.1 in /usr/local/lib/python3.10/dist-packages (from ipywidgets) (5.7.1)\n",
            "Requirement already satisfied: widgetsnbextension~=3.6.0 in /usr/local/lib/python3.10/dist-packages (from ipywidgets) (3.6.4)\n",
            "Requirement already satisfied: ipython>=4.0.0 in /usr/local/lib/python3.10/dist-packages (from ipywidgets) (7.34.0)\n",
            "Requirement already satisfied: jupyterlab-widgets>=1.0.0 in /usr/local/lib/python3.10/dist-packages (from ipywidgets) (3.0.8)\n",
            "Requirement already satisfied: jupyter-client in /usr/local/lib/python3.10/dist-packages (from ipykernel>=4.5.1->ipywidgets) (6.1.12)\n",
            "Requirement already satisfied: tornado>=4.2 in /usr/local/lib/python3.10/dist-packages (from ipykernel>=4.5.1->ipywidgets) (6.3.1)\n",
            "Requirement already satisfied: setuptools>=18.5 in /usr/local/lib/python3.10/dist-packages (from ipython>=4.0.0->ipywidgets) (67.7.2)\n",
            "Collecting jedi>=0.16 (from ipython>=4.0.0->ipywidgets)\n",
            "  Downloading jedi-0.18.2-py2.py3-none-any.whl (1.6 MB)\n",
            "\u001b[2K     \u001b[90m━━━━━━━━━━━━━━━━━━━━━━━━━━━━━━━━━━━━━━━━\u001b[0m \u001b[32m1.6/1.6 MB\u001b[0m \u001b[31m39.1 MB/s\u001b[0m eta \u001b[36m0:00:00\u001b[0m\n",
            "\u001b[?25hRequirement already satisfied: decorator in /usr/local/lib/python3.10/dist-packages (from ipython>=4.0.0->ipywidgets) (4.4.2)\n",
            "Requirement already satisfied: pickleshare in /usr/local/lib/python3.10/dist-packages (from ipython>=4.0.0->ipywidgets) (0.7.5)\n",
            "Requirement already satisfied: prompt-toolkit!=3.0.0,!=3.0.1,<3.1.0,>=2.0.0 in /usr/local/lib/python3.10/dist-packages (from ipython>=4.0.0->ipywidgets) (3.0.39)\n",
            "Requirement already satisfied: pygments in /usr/local/lib/python3.10/dist-packages (from ipython>=4.0.0->ipywidgets) (2.14.0)\n",
            "Requirement already satisfied: backcall in /usr/local/lib/python3.10/dist-packages (from ipython>=4.0.0->ipywidgets) (0.2.0)\n",
            "Requirement already satisfied: matplotlib-inline in /usr/local/lib/python3.10/dist-packages (from ipython>=4.0.0->ipywidgets) (0.1.6)\n",
            "Requirement already satisfied: pexpect>4.3 in /usr/local/lib/python3.10/dist-packages (from ipython>=4.0.0->ipywidgets) (4.8.0)\n",
            "Requirement already satisfied: notebook>=4.4.1 in /usr/local/lib/python3.10/dist-packages (from widgetsnbextension~=3.6.0->ipywidgets) (6.4.8)\n",
            "Requirement already satisfied: parso<0.9.0,>=0.8.0 in /usr/local/lib/python3.10/dist-packages (from jedi>=0.16->ipython>=4.0.0->ipywidgets) (0.8.3)\n",
            "Requirement already satisfied: jinja2 in /usr/local/lib/python3.10/dist-packages (from notebook>=4.4.1->widgetsnbextension~=3.6.0->ipywidgets) (3.1.2)\n",
            "Requirement already satisfied: pyzmq>=17 in /usr/local/lib/python3.10/dist-packages (from notebook>=4.4.1->widgetsnbextension~=3.6.0->ipywidgets) (23.2.1)\n",
            "Requirement already satisfied: argon2-cffi in /usr/local/lib/python3.10/dist-packages (from notebook>=4.4.1->widgetsnbextension~=3.6.0->ipywidgets) (21.3.0)\n",
            "Requirement already satisfied: jupyter-core>=4.6.1 in /usr/local/lib/python3.10/dist-packages (from notebook>=4.4.1->widgetsnbextension~=3.6.0->ipywidgets) (5.3.1)\n",
            "Requirement already satisfied: nbformat in /usr/local/lib/python3.10/dist-packages (from notebook>=4.4.1->widgetsnbextension~=3.6.0->ipywidgets) (5.9.1)\n",
            "Requirement already satisfied: nbconvert in /usr/local/lib/python3.10/dist-packages (from notebook>=4.4.1->widgetsnbextension~=3.6.0->ipywidgets) (6.5.4)\n",
            "Requirement already satisfied: nest-asyncio>=1.5 in /usr/local/lib/python3.10/dist-packages (from notebook>=4.4.1->widgetsnbextension~=3.6.0->ipywidgets) (1.5.6)\n",
            "Requirement already satisfied: Send2Trash>=1.8.0 in /usr/local/lib/python3.10/dist-packages (from notebook>=4.4.1->widgetsnbextension~=3.6.0->ipywidgets) (1.8.2)\n",
            "Requirement already satisfied: terminado>=0.8.3 in /usr/local/lib/python3.10/dist-packages (from notebook>=4.4.1->widgetsnbextension~=3.6.0->ipywidgets) (0.17.1)\n",
            "Requirement already satisfied: prometheus-client in /usr/local/lib/python3.10/dist-packages (from notebook>=4.4.1->widgetsnbextension~=3.6.0->ipywidgets) (0.17.1)\n",
            "Requirement already satisfied: python-dateutil>=2.1 in /usr/local/lib/python3.10/dist-packages (from jupyter-client->ipykernel>=4.5.1->ipywidgets) (2.8.2)\n",
            "Requirement already satisfied: ptyprocess>=0.5 in /usr/local/lib/python3.10/dist-packages (from pexpect>4.3->ipython>=4.0.0->ipywidgets) (0.7.0)\n",
            "Requirement already satisfied: wcwidth in /usr/local/lib/python3.10/dist-packages (from prompt-toolkit!=3.0.0,!=3.0.1,<3.1.0,>=2.0.0->ipython>=4.0.0->ipywidgets) (0.2.6)\n",
            "Requirement already satisfied: platformdirs>=2.5 in /usr/local/lib/python3.10/dist-packages (from jupyter-core>=4.6.1->notebook>=4.4.1->widgetsnbextension~=3.6.0->ipywidgets) (3.8.1)\n",
            "Requirement already satisfied: six>=1.5 in /usr/local/lib/python3.10/dist-packages (from python-dateutil>=2.1->jupyter-client->ipykernel>=4.5.1->ipywidgets) (1.16.0)\n",
            "Requirement already satisfied: argon2-cffi-bindings in /usr/local/lib/python3.10/dist-packages (from argon2-cffi->notebook>=4.4.1->widgetsnbextension~=3.6.0->ipywidgets) (21.2.0)\n",
            "Requirement already satisfied: MarkupSafe>=2.0 in /usr/local/lib/python3.10/dist-packages (from jinja2->notebook>=4.4.1->widgetsnbextension~=3.6.0->ipywidgets) (2.1.3)\n",
            "Requirement already satisfied: lxml in /usr/local/lib/python3.10/dist-packages (from nbconvert->notebook>=4.4.1->widgetsnbextension~=3.6.0->ipywidgets) (4.9.3)\n",
            "Requirement already satisfied: beautifulsoup4 in /usr/local/lib/python3.10/dist-packages (from nbconvert->notebook>=4.4.1->widgetsnbextension~=3.6.0->ipywidgets) (4.11.2)\n",
            "Requirement already satisfied: bleach in /usr/local/lib/python3.10/dist-packages (from nbconvert->notebook>=4.4.1->widgetsnbextension~=3.6.0->ipywidgets) (6.0.0)\n",
            "Requirement already satisfied: defusedxml in /usr/local/lib/python3.10/dist-packages (from nbconvert->notebook>=4.4.1->widgetsnbextension~=3.6.0->ipywidgets) (0.7.1)\n",
            "Requirement already satisfied: entrypoints>=0.2.2 in /usr/local/lib/python3.10/dist-packages (from nbconvert->notebook>=4.4.1->widgetsnbextension~=3.6.0->ipywidgets) (0.4)\n",
            "Requirement already satisfied: jupyterlab-pygments in /usr/local/lib/python3.10/dist-packages (from nbconvert->notebook>=4.4.1->widgetsnbextension~=3.6.0->ipywidgets) (0.2.2)\n",
            "Requirement already satisfied: mistune<2,>=0.8.1 in /usr/local/lib/python3.10/dist-packages (from nbconvert->notebook>=4.4.1->widgetsnbextension~=3.6.0->ipywidgets) (0.8.4)\n",
            "Requirement already satisfied: nbclient>=0.5.0 in /usr/local/lib/python3.10/dist-packages (from nbconvert->notebook>=4.4.1->widgetsnbextension~=3.6.0->ipywidgets) (0.8.0)\n",
            "Requirement already satisfied: packaging in /usr/local/lib/python3.10/dist-packages (from nbconvert->notebook>=4.4.1->widgetsnbextension~=3.6.0->ipywidgets) (23.1)\n",
            "Requirement already satisfied: pandocfilters>=1.4.1 in /usr/local/lib/python3.10/dist-packages (from nbconvert->notebook>=4.4.1->widgetsnbextension~=3.6.0->ipywidgets) (1.5.0)\n",
            "Requirement already satisfied: tinycss2 in /usr/local/lib/python3.10/dist-packages (from nbconvert->notebook>=4.4.1->widgetsnbextension~=3.6.0->ipywidgets) (1.2.1)\n",
            "Requirement already satisfied: fastjsonschema in /usr/local/lib/python3.10/dist-packages (from nbformat->notebook>=4.4.1->widgetsnbextension~=3.6.0->ipywidgets) (2.17.1)\n",
            "Requirement already satisfied: jsonschema>=2.6 in /usr/local/lib/python3.10/dist-packages (from nbformat->notebook>=4.4.1->widgetsnbextension~=3.6.0->ipywidgets) (4.3.3)\n",
            "Requirement already satisfied: attrs>=17.4.0 in /usr/local/lib/python3.10/dist-packages (from jsonschema>=2.6->nbformat->notebook>=4.4.1->widgetsnbextension~=3.6.0->ipywidgets) (23.1.0)\n",
            "Requirement already satisfied: pyrsistent!=0.17.0,!=0.17.1,!=0.17.2,>=0.14.0 in /usr/local/lib/python3.10/dist-packages (from jsonschema>=2.6->nbformat->notebook>=4.4.1->widgetsnbextension~=3.6.0->ipywidgets) (0.19.3)\n",
            "Requirement already satisfied: cffi>=1.0.1 in /usr/local/lib/python3.10/dist-packages (from argon2-cffi-bindings->argon2-cffi->notebook>=4.4.1->widgetsnbextension~=3.6.0->ipywidgets) (1.15.1)\n",
            "Requirement already satisfied: soupsieve>1.2 in /usr/local/lib/python3.10/dist-packages (from beautifulsoup4->nbconvert->notebook>=4.4.1->widgetsnbextension~=3.6.0->ipywidgets) (2.4.1)\n",
            "Requirement already satisfied: webencodings in /usr/local/lib/python3.10/dist-packages (from bleach->nbconvert->notebook>=4.4.1->widgetsnbextension~=3.6.0->ipywidgets) (0.5.1)\n",
            "Requirement already satisfied: pycparser in /usr/local/lib/python3.10/dist-packages (from cffi>=1.0.1->argon2-cffi-bindings->argon2-cffi->notebook>=4.4.1->widgetsnbextension~=3.6.0->ipywidgets) (2.21)\n",
            "Installing collected packages: jedi\n",
            "Successfully installed jedi-0.18.2\n",
            "Obtaining file:///content\n",
            "\u001b[31mERROR: file:///content does not appear to be a Python project: neither 'setup.py' nor 'pyproject.toml' found.\u001b[0m\u001b[31m\n",
            "\u001b[0mRequirement already satisfied: gdown in /usr/local/lib/python3.10/dist-packages (4.6.6)\n",
            "Collecting gdown\n",
            "  Downloading gdown-4.7.1-py3-none-any.whl (15 kB)\n",
            "Requirement already satisfied: filelock in /usr/local/lib/python3.10/dist-packages (from gdown) (3.12.2)\n",
            "Requirement already satisfied: requests[socks] in /usr/local/lib/python3.10/dist-packages (from gdown) (2.27.1)\n",
            "Requirement already satisfied: six in /usr/local/lib/python3.10/dist-packages (from gdown) (1.16.0)\n",
            "Requirement already satisfied: tqdm in /usr/local/lib/python3.10/dist-packages (from gdown) (4.65.0)\n",
            "Requirement already satisfied: beautifulsoup4 in /usr/local/lib/python3.10/dist-packages (from gdown) (4.11.2)\n",
            "Requirement already satisfied: soupsieve>1.2 in /usr/local/lib/python3.10/dist-packages (from beautifulsoup4->gdown) (2.4.1)\n",
            "Requirement already satisfied: urllib3<1.27,>=1.21.1 in /usr/local/lib/python3.10/dist-packages (from requests[socks]->gdown) (1.26.16)\n",
            "Requirement already satisfied: certifi>=2017.4.17 in /usr/local/lib/python3.10/dist-packages (from requests[socks]->gdown) (2023.5.7)\n",
            "Requirement already satisfied: charset-normalizer~=2.0.0 in /usr/local/lib/python3.10/dist-packages (from requests[socks]->gdown) (2.0.12)\n",
            "Requirement already satisfied: idna<4,>=2.5 in /usr/local/lib/python3.10/dist-packages (from requests[socks]->gdown) (3.4)\n",
            "Requirement already satisfied: PySocks!=1.5.7,>=1.5.6 in /usr/local/lib/python3.10/dist-packages (from requests[socks]->gdown) (1.7.1)\n",
            "Installing collected packages: gdown\n",
            "  Attempting uninstall: gdown\n",
            "    Found existing installation: gdown 4.6.6\n",
            "    Uninstalling gdown-4.6.6:\n",
            "      Successfully uninstalled gdown-4.6.6\n",
            "Successfully installed gdown-4.7.1\n"
          ]
        }
      ]
    },
    {
      "cell_type": "markdown",
      "metadata": {
        "id": "NA344_H5pmEP"
      },
      "source": [
        "## General imports"
      ]
    },
    {
      "cell_type": "code",
      "execution_count": 2,
      "metadata": {
        "id": "iiTAPAa9elhO"
      },
      "outputs": [],
      "source": [
        "# General imports\n",
        "\n",
        "import os\n",
        "import sys\n",
        "import torch\n",
        "import random\n",
        "import numpy as np\n",
        "import torch.nn as nn\n",
        "import torch.nn.functional as F\n",
        "import torchmetrics as metrics\n",
        "from torch.utils.data import DataLoader\n",
        "import torchvision.transforms as transforms\n",
        "import ipywidgets as widgets\n",
        "from IPython.display import display"
      ]
    },
    {
      "cell_type": "markdown",
      "metadata": {
        "id": "lygw33bMprOM"
      },
      "source": [
        "## Custom Imports"
      ]
    },
    {
      "cell_type": "code",
      "execution_count": 3,
      "metadata": {
        "id": "9ywxl7By7Pv3",
        "outputId": "580bb117-9b5d-4c9e-abb4-4d14bd7c008b",
        "colab": {
          "base_uri": "https://localhost:8080/"
        }
      },
      "outputs": [
        {
          "output_type": "stream",
          "name": "stdout",
          "text": [
            "Cloning into '/content/visiope'...\n",
            "remote: Enumerating objects: 1451, done.\u001b[K\n",
            "remote: Counting objects: 100% (460/460), done.\u001b[K\n",
            "remote: Compressing objects: 100% (255/255), done.\u001b[K\n",
            "remote: Total 1451 (delta 223), reused 364 (delta 178), pack-reused 991\u001b[K\n",
            "Receiving objects: 100% (1451/1451), 223.66 MiB | 27.36 MiB/s, done.\n",
            "Resolving deltas: 100% (758/758), done.\n",
            "/content/visiope\n",
            "Already on 'main'\n",
            "Your branch is up to date with 'origin/main'.\n",
            "* \u001b[32mmain\u001b[m\n",
            "/content\n"
          ]
        }
      ],
      "source": [
        "# Custom Imports\n",
        "import sys\n",
        "\n",
        "COLAB = 'google.colab' in sys.modules\n",
        "LOCAL = not COLAB\n",
        "\n",
        "if COLAB:\n",
        "\n",
        "    # Clone visiope repo on runtime env\n",
        "    !git clone https://github.com/airoprojects/visiope.git /content/visiope/\n",
        "    %cd ./visiope/\n",
        "    !git checkout main\n",
        "    !git branch\n",
        "    %cd ../\n",
        "\n",
        "    # Get the root directory of the Git project\n",
        "    root_dir = '/content/visiope'\n",
        "\n",
        "    # Add custom modules to path\n",
        "    custom_modules_path = root_dir + '/tools/'\n",
        "    sys.path.insert(0, custom_modules_path)\n",
        "\n",
        "elif LOCAL:\n",
        "\n",
        "    from git import Repo\n",
        "\n",
        "    # Initialize the Git repository object\n",
        "    repo = Repo(\".\", search_parent_directories=True)\n",
        "\n",
        "    # Get the root directory of the Git project\n",
        "    root_dir = repo.git.rev_parse(\"--show-toplevel\")\n",
        "\n",
        "    # Add custom modules to path\n",
        "    custom_modules_path = root_dir  + '/tools/'\n",
        "    sys.path.insert(0, custom_modules_path)\n",
        "\n",
        "\n",
        "# Import Loader\n",
        "from data.utils import Ai4MarsDownload, Ai4MarsImporter, Ai4MarsSplitter, Ai4MarsDataLoader\n",
        "\n",
        "# Import Loss\n",
        "from loss.loss import Ai4MarsCrossEntropy, Ai4MarsDiceLoss\n",
        "\n",
        "# Import Trainer\n",
        "from trainer.trainer import Ai4MarsTrainer\n",
        "\n",
        "# Import Tester\n",
        "from tester.tester import Ai4MarsTester\n",
        "\n",
        "# Set device\n",
        "device = torch.device('cuda' if torch.cuda.is_available() else 'cpu')"
      ]
    },
    {
      "cell_type": "markdown",
      "metadata": {
        "id": "WRMqpowGpvoQ"
      },
      "source": [
        "## Obtain dataset"
      ]
    },
    {
      "cell_type": "markdown",
      "metadata": {
        "id": "9qe47EV7tZ_R"
      },
      "source": [
        "#### Selecter functions"
      ]
    },
    {
      "cell_type": "code",
      "execution_count": 4,
      "metadata": {
        "id": "fTO2wZubthnU"
      },
      "outputs": [],
      "source": [
        "# get the whole dataset\n",
        "def get_d(b):\n",
        "\n",
        "    global num_images\n",
        "    global data_path\n",
        "    global selector\n",
        "    global X\n",
        "    global y\n",
        "\n",
        "    # Cannot select anymore\n",
        "    if not selector:\n",
        "        print(\"Cannot select multiple options\")\n",
        "        return\n",
        "    selector = False\n",
        "\n",
        "    # Insert here your local path to the dataset (temporary)\n",
        "    data_path = input(\"Path to Dataset: \")\n",
        "\n",
        "    # Insert here the number of images you want to download\n",
        "    num_images = int(input(\"Number of images (max 1000): \"))\n",
        "\n",
        "    # Import data as Ai4MarsDataset\n",
        "    Ai4MarsDownload()(PATH=data_path)\n",
        "    importer = Ai4MarsImporter()\n",
        "    X, y, _ = importer(PATH=data_path, NUM_IMAGES=num_images, SIZE=128)\n",
        "\n",
        "    pass\n",
        "\n",
        "# Enable loading chunk of data\n",
        "def enable_chunk(b):\n",
        "\n",
        "    global selector\n",
        "    global CHUNK\n",
        "    global current_chunk\n",
        "\n",
        "    # Cannot select anymore\n",
        "    if not selector:\n",
        "        print(\"Cannot select multiple options\")\n",
        "        return\n",
        "    selector = False\n",
        "\n",
        "    CHUNK = True\n",
        "    current_chunk = 0\n",
        "\n",
        "    # Download options\n",
        "    d300 = widgets.Button(description=\"Dataset 300\")\n",
        "    d500 = widgets.Button(description=\"Dataset 500\")\n",
        "    d1k = widgets.Button(description=\"Dataset 1000\")\n",
        "\n",
        "    # Actions\n",
        "    display(d300, d500, d1k)\n",
        "    d300.on_click(get_d300)\n",
        "    d500.on_click(get_d500)\n",
        "    d1k.on_click(get_d1k)\n",
        "\n",
        "    pass"
      ]
    },
    {
      "cell_type": "markdown",
      "metadata": {
        "id": "_cmnA4w0Gv-m"
      },
      "source": [
        "#### Data download funtions"
      ]
    },
    {
      "cell_type": "code",
      "execution_count": 5,
      "metadata": {
        "id": "lp_QfZkaG1XJ"
      },
      "outputs": [],
      "source": [
        "# ge the dataset in chncks of size 300\n",
        "def get_d300(b):\n",
        "\n",
        "    global COLAB\n",
        "    global CHUNK\n",
        "    global current_chunk\n",
        "    global chunk_size\n",
        "    global total_size\n",
        "    global X\n",
        "    global y\n",
        "\n",
        "    # Cannot select anymore\n",
        "    if not CHUNK:\n",
        "        print(\"Cannot select multiple options\")\n",
        "        return\n",
        "\n",
        "    chunk_size = 300\n",
        "    total_size = 3000\n",
        "\n",
        "    # update current chunk\n",
        "    current_chunk += chunk_size\n",
        "\n",
        "    print(f\"Loading cunck {current_chunk // chunk_size}\")\n",
        "\n",
        "    if COLAB:\n",
        "\n",
        "        if not(os.path.exists('/content/dataset/')):\n",
        "\n",
        "            import gdown\n",
        "\n",
        "            # get url of torch dataset (temporarerly my drive)\n",
        "            drive = 'https://drive.google.com/uc?id='\n",
        "            url = 'https://drive.google.com/drive/folders/1WaQKmnty99798t6b-GMh15GVy9ZxCkGP?usp=drive_link'\n",
        "\n",
        "            !gdown --folder {url} -O /content/\n",
        "\n",
        "            load_data = '/content/small-chunk-dataset/'\n",
        "\n",
        "    elif LOCAL:\n",
        "        load_data = root_dir + '/datasetup/small-chunk-dataset/'\n",
        "\n",
        "    X, y = torch.load(load_data + str(current_chunk // chunk_size) + 'dataset.pt')\n",
        "\n",
        "    print(\"Done\")\n",
        "\n",
        "    pass\n",
        "\n",
        "# ge the dataset in chncks of size 500\n",
        "def get_d500(b):\n",
        "\n",
        "    global COLAB\n",
        "    global CHUNK\n",
        "    global current_chunk\n",
        "    global chunk_size\n",
        "    global total_size\n",
        "    global X\n",
        "    global y\n",
        "\n",
        "    # Cannot select anymore\n",
        "    if not CHUNK:\n",
        "        print(\"Cannot select multiple options\")\n",
        "        return\n",
        "\n",
        "    chunk_size = 500\n",
        "    total_size = 5000\n",
        "\n",
        "    # update current chunk\n",
        "    current_chunk += chunk_size\n",
        "\n",
        "    print(f\"Loading cunck {current_chunk // chunk_size}\")\n",
        "\n",
        "    if COLAB:\n",
        "\n",
        "        if not(os.path.exists('/content/dataset/')):\n",
        "\n",
        "            import gdown\n",
        "\n",
        "            # get url of torch dataset (temporarerly my drive)\n",
        "            drive = 'https://drive.google.com/uc?id='\n",
        "            url = 'https://drive.google.com/drive/folders/1u4imSO8MerdZEW0V1lkEb6PWQmZgT5Ft?usp=sharing'\n",
        "\n",
        "            !gdown --folder {url} -O /content/\n",
        "\n",
        "            load_data = '/content/medium-chunk-dataset/'\n",
        "\n",
        "    elif LOCAL:\n",
        "        load_data = root_dir + '/datasetup/medium-chunk-dataset/'\n",
        "\n",
        "    X, y = torch.load(load_data + str(current_chunk // chunk_size) + 'dataset.pt')\n",
        "\n",
        "    print(\"Done\")\n",
        "    pass\n",
        "\n",
        "# ge the dataset in chncks of size 1k\n",
        "def get_d1k(b):\n",
        "\n",
        "    global COLAB\n",
        "    global CHUNK\n",
        "    global current_chunk\n",
        "    global chunk_size\n",
        "    global total_size\n",
        "    global X\n",
        "    global y\n",
        "\n",
        "    # Cannot select anymore\n",
        "    if not CHUNK:\n",
        "        print(\"Cannot select multiple options\")\n",
        "        return\n",
        "\n",
        "    chunk_size = 1000\n",
        "    total_size = 10000\n",
        "\n",
        "    print(f\"Loading cunck {current_chunk // chunk_size}\")\n",
        "\n",
        "    # update current chunk\n",
        "    current_chunk += chunk_size\n",
        "\n",
        "    if COLAB:\n",
        "\n",
        "        if not(os.path.exists('/content/dataset/')):\n",
        "\n",
        "            import gdown\n",
        "\n",
        "            # get url of torch dataset (temporarerly my drive)\n",
        "            drive = 'https://drive.google.com/uc?id='\n",
        "            url = 'https://drive.google.com/drive/folders/1BhL0nLbQt930l_ISDgUS8ZJRWGjH4eUU?usp=sharing'\n",
        "\n",
        "            !gdown --folder {url} -O /content/\n",
        "\n",
        "            load_data = '/content/chunk-dataset/'\n",
        "\n",
        "    elif LOCAL:\n",
        "        load_data = root_dir + '/datasetup/chunk-dataset/'\n",
        "\n",
        "    X, y = torch.load(load_data + 'dataset_' + str(current_chunk) + '.pt')\n",
        "\n",
        "    pass"
      ]
    },
    {
      "cell_type": "markdown",
      "metadata": {
        "id": "CR-6RoS3t1IX"
      },
      "source": [
        "#### Selector"
      ]
    },
    {
      "cell_type": "code",
      "execution_count": null,
      "metadata": {
        "id": "-6wXNW5yp4Zh"
      },
      "outputs": [],
      "source": [
        "# Select import mode\n",
        "\n",
        "# ENV VARIABLE INITIALIZATION DO NOT CHANGE\n",
        "CHUNK = False\n",
        "current_chunk = 0\n",
        "chunk_size = 0\n",
        "total_size = 0\n",
        "X = 0\n",
        "y = 0\n",
        "\n",
        "# Allow to select only one option\n",
        "if 'selector' not in globals():\n",
        "    selector  = True\n",
        "\n",
        "# Selection buttons\n",
        "d = widgets.Button(description=\"Load whole Dataset\")\n",
        "chunk = widgets.Button(description=\"Load chunk of data\")\n",
        "\n",
        "\n",
        "# actions\n",
        "display(d, chunk)\n",
        "d.on_click(get_d)\n",
        "chunk.on_click(enable_chunk)\n"
      ]
    },
    {
      "cell_type": "code",
      "execution_count": null,
      "metadata": {
        "id": "TQ_P7ml_fEZk"
      },
      "outputs": [],
      "source": [
        "# HARD RESET\n",
        "# selector = True\n",
        "# CHUNK = False"
      ]
    },
    {
      "cell_type": "markdown",
      "metadata": {
        "id": "0827HU01q6nH"
      },
      "source": [
        "## DataLoader"
      ]
    },
    {
      "cell_type": "code",
      "execution_count": 7,
      "metadata": {
        "id": "ca-BSlVTq_Ew",
        "outputId": "b7d57dca-1e47-4f8a-bc3b-a6b478e9a42b",
        "colab": {
          "base_uri": "https://localhost:8080/"
        }
      },
      "outputs": [
        {
          "output_type": "stream",
          "name": "stdout",
          "text": [
            "Splitting parameters: \n",
            "             Dataset: ai4mars-dataset-merged-0.1 \n",
            "             Colab environment: True \n",
            "             Split percentages: [0.7, 0.2, 0.1] \n",
            "             Transformation: None \n",
            "             Svaving path: None \n",
            "             New image size: 128\n",
            "Extrapolation of random inices ...\n",
            "Splitting in progress ...\n",
            "Done \n",
            "\n",
            "Building Dataloaders\n",
            "Done \n",
            "\n"
          ]
        }
      ],
      "source": [
        "transform = None\n",
        "# Uncomment the following lines to apply transformations to the dataset\n",
        "'''\n",
        "transform = transforms.RandomChoice([\n",
        "    transforms.RandomRotation(90)])\n",
        "'''\n",
        "\n",
        "# Split the dataset\n",
        "splitter = Ai4MarsSplitter()\n",
        "percentages = [0.7, 0.2, 0.1]\n",
        "train_set, test_set, val_set = splitter(X, y, percentages, transform=transform)\n",
        "\n",
        "# Load info\n",
        "load_info = './.info.pt'\n",
        "info = torch.load(load_info)\n",
        "\n",
        "# Build Ai4MarsDataloader\n",
        "loader = Ai4MarsDataLoader()\n",
        "batch_sizes = [32, 16, 16]\n",
        "datasets = [train_set, test_set, val_set]\n",
        "train_loader, test_loader, val_loader = loader(datasets, batch_sizes)"
      ]
    },
    {
      "cell_type": "code",
      "execution_count": 8,
      "metadata": {
        "id": "YpXj7Ow-wrL5",
        "outputId": "b771e677-6137-4b65-b8c0-16e5a3b54364",
        "colab": {
          "base_uri": "https://localhost:8080/",
          "height": 938
        }
      },
      "outputs": [
        {
          "output_type": "stream",
          "name": "stdout",
          "text": [
            "Len of train set: 560\n",
            "Len of test set: 160\n",
            "Len of validation set: 80\n",
            "image shape: torch.Size([128, 128, 3])\n"
          ]
        },
        {
          "output_type": "display_data",
          "data": {
            "text/plain": [
              "<Figure size 640x480 with 1 Axes>"
            ],
            "image/png": "[encoded data removed]"
          },
          "metadata": {}
        },
        {
          "output_type": "stream",
          "name": "stdout",
          "text": [
            "image shape: torch.Size([128, 128, 1])\n"
          ]
        },
        {
          "output_type": "display_data",
          "data": {
            "text/plain": [
              "<Figure size 640x480 with 1 Axes>"
            ],
            "image/png": "[encoded data removed]"
          },
          "metadata": {}
        }
      ],
      "source": [
        "# Just to check that different chunks contains different images\n",
        "import matplotlib.pyplot as plt\n",
        "\n",
        "print(f'Len of train set: {len(train_set)}')\n",
        "print(f'Len of test set: {len(test_set)}')\n",
        "print(f'Len of validation set: {len(val_set)}')\n",
        "\n",
        "image, label = X[0], y[0]\n",
        "\n",
        "print(f'image shape: {image.permute(1,0,2).permute(0,2,1).shape}')\n",
        "plt.imshow(image.permute(1,0,2).permute(0,2,1).detach().numpy(), cmap='gray')\n",
        "plt.show()\n",
        "\n",
        "print(f'image shape: {label.permute(1,0,2).permute(0,2,1).shape}')\n",
        "plt.imshow(label.permute(1,0,2).permute(0,2,1).detach().numpy(), cmap='gray')\n",
        "plt.show()\n",
        "\n",
        "# Free up mem\n",
        "del X\n",
        "del y"
      ]
    },
    {
      "cell_type": "markdown",
      "metadata": {
        "id": "pYPFyV05rDWE"
      },
      "source": [
        "## Model setup"
      ]
    },
    {
      "cell_type": "code",
      "execution_count": 12,
      "metadata": {
        "id": "9FCQvjMbelhL",
        "outputId": "6282963d-c57e-4332-fff4-5276a087035e",
        "colab": {
          "base_uri": "https://localhost:8080/"
        }
      },
      "outputs": [
        {
          "output_type": "stream",
          "name": "stdout",
          "text": [
            "Cloning into 'semantic-segmentation'...\n",
            "remote: Enumerating objects: 792, done.\u001b[K\n",
            "remote: Counting objects: 100% (789/789), done.\u001b[K\n",
            "remote: Compressing objects: 100% (312/312), done.\u001b[K\n",
            "remote: Total 792 (delta 479), reused 749 (delta 470), pack-reused 3\u001b[K\n",
            "Receiving objects: 100% (792/792), 54.99 MiB | 10.15 MiB/s, done.\n",
            "Resolving deltas: 100% (479/479), done.\n",
            "Obtaining file:///content/semantic-segmentation\n",
            "  Preparing metadata (setup.py) ... \u001b[?25l\u001b[?25hdone\n",
            "Requirement already satisfied: tqdm in /usr/local/lib/python3.10/dist-packages (from semseg==0.4.1) (4.65.0)\n",
            "Requirement already satisfied: tabulate in /usr/local/lib/python3.10/dist-packages (from semseg==0.4.1) (0.8.10)\n",
            "Requirement already satisfied: numpy in /usr/local/lib/python3.10/dist-packages (from semseg==0.4.1) (1.22.4)\n",
            "Requirement already satisfied: scipy in /usr/local/lib/python3.10/dist-packages (from semseg==0.4.1) (1.10.1)\n",
            "Requirement already satisfied: matplotlib in /usr/local/lib/python3.10/dist-packages (from semseg==0.4.1) (3.7.1)\n",
            "Requirement already satisfied: tensorboard in /usr/local/lib/python3.10/dist-packages (from semseg==0.4.1) (2.12.3)\n",
            "Collecting fvcore (from semseg==0.4.1)\n",
            "  Downloading fvcore-0.1.5.post20221221.tar.gz (50 kB)\n",
            "\u001b[2K     \u001b[90m━━━━━━━━━━━━━━━━━━━━━━━━━━━━━━━━━━━━━━━━\u001b[0m \u001b[32m50.2/50.2 kB\u001b[0m \u001b[31m7.1 MB/s\u001b[0m eta \u001b[36m0:00:00\u001b[0m\n",
            "\u001b[?25h  Preparing metadata (setup.py) ... \u001b[?25l\u001b[?25hdone\n",
            "Collecting einops (from semseg==0.4.1)\n",
            "  Downloading einops-0.6.1-py3-none-any.whl (42 kB)\n",
            "\u001b[2K     \u001b[90m━━━━━━━━━━━━━━━━━━━━━━━━━━━━━━━━━━━━━━━━\u001b[0m \u001b[32m42.2/42.2 kB\u001b[0m \u001b[31m4.8 MB/s\u001b[0m eta \u001b[36m0:00:00\u001b[0m\n",
            "\u001b[?25hRequirement already satisfied: rich in /usr/local/lib/python3.10/dist-packages (from semseg==0.4.1) (13.4.2)\n",
            "Collecting yacs>=0.1.6 (from fvcore->semseg==0.4.1)\n",
            "  Downloading yacs-0.1.8-py3-none-any.whl (14 kB)\n",
            "Requirement already satisfied: pyyaml>=5.1 in /usr/local/lib/python3.10/dist-packages (from fvcore->semseg==0.4.1) (6.0)\n",
            "Requirement already satisfied: termcolor>=1.1 in /usr/local/lib/python3.10/dist-packages (from fvcore->semseg==0.4.1) (2.3.0)\n",
            "Requirement already satisfied: Pillow in /usr/local/lib/python3.10/dist-packages (from fvcore->semseg==0.4.1) (8.4.0)\n",
            "Collecting iopath>=0.1.7 (from fvcore->semseg==0.4.1)\n",
            "  Downloading iopath-0.1.10.tar.gz (42 kB)\n",
            "\u001b[2K     \u001b[90m━━━━━━━━━━━━━━━━━━━━━━━━━━━━━━━━━━━━━━━━\u001b[0m \u001b[32m42.2/42.2 kB\u001b[0m \u001b[31m5.4 MB/s\u001b[0m eta \u001b[36m0:00:00\u001b[0m\n",
            "\u001b[?25h  Preparing metadata (setup.py) ... \u001b[?25l\u001b[?25hdone\n",
            "Requirement already satisfied: contourpy>=1.0.1 in /usr/local/lib/python3.10/dist-packages (from matplotlib->semseg==0.4.1) (1.1.0)\n",
            "Requirement already satisfied: cycler>=0.10 in /usr/local/lib/python3.10/dist-packages (from matplotlib->semseg==0.4.1) (0.11.0)\n",
            "Requirement already satisfied: fonttools>=4.22.0 in /usr/local/lib/python3.10/dist-packages (from matplotlib->semseg==0.4.1) (4.41.0)\n",
            "Requirement already satisfied: kiwisolver>=1.0.1 in /usr/local/lib/python3.10/dist-packages (from matplotlib->semseg==0.4.1) (1.4.4)\n",
            "Requirement already satisfied: packaging>=20.0 in /usr/local/lib/python3.10/dist-packages (from matplotlib->semseg==0.4.1) (23.1)\n",
            "Requirement already satisfied: pyparsing>=2.3.1 in /usr/local/lib/python3.10/dist-packages (from matplotlib->semseg==0.4.1) (3.1.0)\n",
            "Requirement already satisfied: python-dateutil>=2.7 in /usr/local/lib/python3.10/dist-packages (from matplotlib->semseg==0.4.1) (2.8.2)\n",
            "Requirement already satisfied: markdown-it-py>=2.2.0 in /usr/local/lib/python3.10/dist-packages (from rich->semseg==0.4.1) (3.0.0)\n",
            "Requirement already satisfied: pygments<3.0.0,>=2.13.0 in /usr/local/lib/python3.10/dist-packages (from rich->semseg==0.4.1) (2.14.0)\n",
            "Requirement already satisfied: absl-py>=0.4 in /usr/local/lib/python3.10/dist-packages (from tensorboard->semseg==0.4.1) (1.4.0)\n",
            "Requirement already satisfied: grpcio>=1.48.2 in /usr/local/lib/python3.10/dist-packages (from tensorboard->semseg==0.4.1) (1.56.0)\n",
            "Requirement already satisfied: google-auth<3,>=1.6.3 in /usr/local/lib/python3.10/dist-packages (from tensorboard->semseg==0.4.1) (2.17.3)\n",
            "Requirement already satisfied: google-auth-oauthlib<1.1,>=0.5 in /usr/local/lib/python3.10/dist-packages (from tensorboard->semseg==0.4.1) (1.0.0)\n",
            "Requirement already satisfied: markdown>=2.6.8 in /usr/local/lib/python3.10/dist-packages (from tensorboard->semseg==0.4.1) (3.4.3)\n",
            "Requirement already satisfied: protobuf>=3.19.6 in /usr/local/lib/python3.10/dist-packages (from tensorboard->semseg==0.4.1) (3.20.3)\n",
            "Requirement already satisfied: requests<3,>=2.21.0 in /usr/local/lib/python3.10/dist-packages (from tensorboard->semseg==0.4.1) (2.27.1)\n",
            "Requirement already satisfied: setuptools>=41.0.0 in /usr/local/lib/python3.10/dist-packages (from tensorboard->semseg==0.4.1) (67.7.2)\n",
            "Requirement already satisfied: tensorboard-data-server<0.8.0,>=0.7.0 in /usr/local/lib/python3.10/dist-packages (from tensorboard->semseg==0.4.1) (0.7.1)\n",
            "Requirement already satisfied: werkzeug>=1.0.1 in /usr/local/lib/python3.10/dist-packages (from tensorboard->semseg==0.4.1) (2.3.6)\n",
            "Requirement already satisfied: wheel>=0.26 in /usr/local/lib/python3.10/dist-packages (from tensorboard->semseg==0.4.1) (0.40.0)\n",
            "Requirement already satisfied: cachetools<6.0,>=2.0.0 in /usr/local/lib/python3.10/dist-packages (from google-auth<3,>=1.6.3->tensorboard->semseg==0.4.1) (5.3.1)\n",
            "Requirement already satisfied: pyasn1-modules>=0.2.1 in /usr/local/lib/python3.10/dist-packages (from google-auth<3,>=1.6.3->tensorboard->semseg==0.4.1) (0.3.0)\n",
            "Requirement already satisfied: six>=1.9.0 in /usr/local/lib/python3.10/dist-packages (from google-auth<3,>=1.6.3->tensorboard->semseg==0.4.1) (1.16.0)\n",
            "Requirement already satisfied: rsa<5,>=3.1.4 in /usr/local/lib/python3.10/dist-packages (from google-auth<3,>=1.6.3->tensorboard->semseg==0.4.1) (4.9)\n",
            "Requirement already satisfied: requests-oauthlib>=0.7.0 in /usr/local/lib/python3.10/dist-packages (from google-auth-oauthlib<1.1,>=0.5->tensorboard->semseg==0.4.1) (1.3.1)\n",
            "Requirement already satisfied: typing_extensions in /usr/local/lib/python3.10/dist-packages (from iopath>=0.1.7->fvcore->semseg==0.4.1) (4.7.1)\n",
            "Collecting portalocker (from iopath>=0.1.7->fvcore->semseg==0.4.1)\n",
            "  Downloading portalocker-2.7.0-py2.py3-none-any.whl (15 kB)\n",
            "Requirement already satisfied: mdurl~=0.1 in /usr/local/lib/python3.10/dist-packages (from markdown-it-py>=2.2.0->rich->semseg==0.4.1) (0.1.2)\n",
            "Requirement already satisfied: urllib3<1.27,>=1.21.1 in /usr/local/lib/python3.10/dist-packages (from requests<3,>=2.21.0->tensorboard->semseg==0.4.1) (1.26.16)\n",
            "Requirement already satisfied: certifi>=2017.4.17 in /usr/local/lib/python3.10/dist-packages (from requests<3,>=2.21.0->tensorboard->semseg==0.4.1) (2023.5.7)\n",
            "Requirement already satisfied: charset-normalizer~=2.0.0 in /usr/local/lib/python3.10/dist-packages (from requests<3,>=2.21.0->tensorboard->semseg==0.4.1) (2.0.12)\n",
            "Requirement already satisfied: idna<4,>=2.5 in /usr/local/lib/python3.10/dist-packages (from requests<3,>=2.21.0->tensorboard->semseg==0.4.1) (3.4)\n",
            "Requirement already satisfied: MarkupSafe>=2.1.1 in /usr/local/lib/python3.10/dist-packages (from werkzeug>=1.0.1->tensorboard->semseg==0.4.1) (2.1.3)\n",
            "Requirement already satisfied: pyasn1<0.6.0,>=0.4.6 in /usr/local/lib/python3.10/dist-packages (from pyasn1-modules>=0.2.1->google-auth<3,>=1.6.3->tensorboard->semseg==0.4.1) (0.5.0)\n",
            "Requirement already satisfied: oauthlib>=3.0.0 in /usr/local/lib/python3.10/dist-packages (from requests-oauthlib>=0.7.0->google-auth-oauthlib<1.1,>=0.5->tensorboard->semseg==0.4.1) (3.2.2)\n",
            "Building wheels for collected packages: fvcore, iopath\n",
            "  Building wheel for fvcore (setup.py) ... \u001b[?25l\u001b[?25hdone\n",
            "  Created wheel for fvcore: filename=fvcore-0.1.5.post20221221-py3-none-any.whl size=61405 sha256=af75495bfa811b3c969935dfe845aed9ee3978299f4f1af4a7d61e04f0a24709\n",
            "  Stored in directory: /root/.cache/pip/wheels/01/c0/af/77c1cf53a1be9e42a52b48e5af2169d40ec2e89f7362489dd0\n",
            "  Building wheel for iopath (setup.py) ... \u001b[?25l\u001b[?25hdone\n",
            "  Created wheel for iopath: filename=iopath-0.1.10-py3-none-any.whl size=31531 sha256=9e5ab84a7e9198e6a4dd0aa3cab932e58fb936005f7339efa9e5ba700d18cb28\n",
            "  Stored in directory: /root/.cache/pip/wheels/9a/a3/b6/ac0fcd1b4ed5cfeb3db92e6a0e476cfd48ed0df92b91080c1d\n",
            "Successfully built fvcore iopath\n",
            "Installing collected packages: yacs, portalocker, einops, iopath, fvcore, semseg\n",
            "  Running setup.py develop for semseg\n",
            "Successfully installed einops-0.6.1 fvcore-0.1.5.post20221221 iopath-0.1.10 portalocker-2.7.0 semseg-0.4.1 yacs-0.1.8\n",
            "Requirement already satisfied: gdown in /usr/local/lib/python3.10/dist-packages (4.7.1)\n",
            "Requirement already satisfied: filelock in /usr/local/lib/python3.10/dist-packages (from gdown) (3.12.2)\n",
            "Requirement already satisfied: requests[socks] in /usr/local/lib/python3.10/dist-packages (from gdown) (2.27.1)\n",
            "Requirement already satisfied: six in /usr/local/lib/python3.10/dist-packages (from gdown) (1.16.0)\n",
            "Requirement already satisfied: tqdm in /usr/local/lib/python3.10/dist-packages (from gdown) (4.65.0)\n",
            "Requirement already satisfied: beautifulsoup4 in /usr/local/lib/python3.10/dist-packages (from gdown) (4.11.2)\n",
            "Requirement already satisfied: soupsieve>1.2 in /usr/local/lib/python3.10/dist-packages (from beautifulsoup4->gdown) (2.4.1)\n",
            "Requirement already satisfied: urllib3<1.27,>=1.21.1 in /usr/local/lib/python3.10/dist-packages (from requests[socks]->gdown) (1.26.16)\n",
            "Requirement already satisfied: certifi>=2017.4.17 in /usr/local/lib/python3.10/dist-packages (from requests[socks]->gdown) (2023.5.7)\n",
            "Requirement already satisfied: charset-normalizer~=2.0.0 in /usr/local/lib/python3.10/dist-packages (from requests[socks]->gdown) (2.0.12)\n",
            "Requirement already satisfied: idna<4,>=2.5 in /usr/local/lib/python3.10/dist-packages (from requests[socks]->gdown) (3.4)\n",
            "Requirement already satisfied: PySocks!=1.5.7,>=1.5.6 in /usr/local/lib/python3.10/dist-packages (from requests[socks]->gdown) (1.7.1)\n",
            "/content/semantic-segmentation/semantic-segmentation\n"
          ]
        }
      ],
      "source": [
        "# Clone remote repo with existing models\n",
        "\n",
        "if COLAB:\n",
        "    !git clone https://github.com/sithu31296/semantic-segmentation\n",
        "    %pip install -e .\n",
        "    %pip install -U gdown\n",
        "    %cd semantic-segmentation"
      ]
    },
    {
      "cell_type": "code",
      "execution_count": 13,
      "metadata": {
        "id": "gf3AWmRO_2CJ",
        "outputId": "59c74bff-9f22-4645-f05c-663b1de03dc1",
        "colab": {
          "base_uri": "https://localhost:8080/"
        }
      },
      "outputs": [
        {
          "output_type": "stream",
          "name": "stdout",
          "text": [
            "  No.  Model Names\n",
            "-----  -------------\n",
            "    1  SegFormer\n",
            "    2  Lawin\n",
            "    3  SFNet\n",
            "    4  BiSeNetv1\n",
            "    5  DDRNet\n",
            "    6  FCHarDNet\n",
            "    7  BiSeNetv2\n"
          ]
        }
      ],
      "source": [
        "from semseg import show_models\n",
        "\n",
        "show_models()"
      ]
    },
    {
      "cell_type": "code",
      "execution_count": 15,
      "metadata": {
        "id": "ZCa6tmRlelhW",
        "outputId": "b900fcaa-703f-4655-aa4b-91f2ebde3efc",
        "colab": {
          "base_uri": "https://localhost:8080/"
        }
      },
      "outputs": [
        {
          "output_type": "stream",
          "name": "stdout",
          "text": [
            "Download a pretrained model's weights from the result table.\n",
            "Loaded Model\n",
            "/content\n"
          ]
        }
      ],
      "source": [
        "#  Import segformer\n",
        "\n",
        "from semseg.models import *\n",
        "\n",
        "model = eval('Lawin')(\n",
        "    backbone='MiT-B2',\n",
        "    num_classes=5\n",
        ")\n",
        "\n",
        "try:\n",
        "    model.load_state_dict(torch.load('checkpoints/pretrained/segformer/segformer.b3.ade.pth',\n",
        "                                     map_location=device))\n",
        "    print(\"Pretrained model's weights downloaded\")\n",
        "except:\n",
        "    print(\"Download a pretrained model's weights from the result table.\")\n",
        "\n",
        "model.to(device)\n",
        "\n",
        "print('Loaded Model')\n",
        "%cd /content/"
      ]
    },
    {
      "cell_type": "markdown",
      "metadata": {
        "id": "sTK2tqpgrILQ"
      },
      "source": [
        "## Training"
      ]
    },
    {
      "cell_type": "markdown",
      "metadata": {
        "id": "vi6ZGOtk3EXa"
      },
      "source": [
        "#### Training parameters"
      ]
    },
    {
      "cell_type": "code",
      "execution_count": 16,
      "metadata": {
        "id": "sSxW3mFNelhl"
      },
      "outputs": [],
      "source": [
        "# Training parameters\n",
        "\n",
        "loss_fn = Ai4MarsDiceLoss().to(device)\n",
        "#loss_fn = Ai4MarsCrossEntropy().to(device)\n",
        "\n",
        "optimizer = torch.optim.Adam(model.parameters(), lr=0.001)\n",
        "\n",
        "transform = None\n",
        "# transform = transforms.RandomChoice([\n",
        "#      transforms.RandomRotation(90)])\n",
        "\n",
        "epochs = 10\n",
        "\n",
        "trainer = Ai4MarsTrainer(loss_fn, optimizer, train_loader, val_loader,\n",
        "                         transform=transform, device=device, info=info, model_name='MiT-B2', dump=True)"
      ]
    },
    {
      "cell_type": "code",
      "execution_count": 17,
      "metadata": {
        "id": "-6p6LYs2R0fF",
        "outputId": "f6b01c02-8c4f-4cfd-a867-03250b657d8d",
        "colab": {
          "base_uri": "https://localhost:8080/",
          "height": 489
        }
      },
      "outputs": [
        {
          "output_type": "stream",
          "name": "stdout",
          "text": [
            "Data will be saved in ./dump/20230718-152735-MiT-B2/hist/\n"
          ]
        },
        {
          "output_type": "display_data",
          "data": {
            "text/plain": [
              "<Figure size 640x480 with 1 Axes>"
            ],
            "image/png": "[encoded data removed]"
          },
          "metadata": {}
        }
      ],
      "source": [
        "# Model Parameters\n",
        "# Check if the variable has been defined\n",
        "if 'run_once' not in globals():\n",
        "    run_once = True\n",
        "    trainer.param_hist(model, label='before')"
      ]
    },
    {
      "cell_type": "markdown",
      "metadata": {
        "id": "EBpzmtnRfEZn"
      },
      "source": [
        "#### Regular training"
      ]
    },
    {
      "cell_type": "code",
      "execution_count": 18,
      "metadata": {
        "id": "FSkhk_Rl2gX0",
        "outputId": "a7d498ac-821f-4444-c81d-af8074bf746f",
        "colab": {
          "base_uri": "https://localhost:8080/"
        }
      },
      "outputs": [
        {
          "output_type": "stream",
          "name": "stdout",
          "text": [
            "EPOCH 1\n",
            "Train loss: 0.6548571520381503\n",
            "Time needed for training: 59.29989171028137 seconds\n",
            "Validation loss: 0.5245582580566406 \n",
            "\n",
            "EPOCH 2\n",
            "Train loss: 0.607051455312305\n",
            "Time needed for training: 51.94951105117798 seconds\n",
            "Validation loss: 0.5621886372566223 \n",
            "\n",
            "EPOCH 3\n",
            "Train loss: 0.5608851843410068\n",
            "Time needed for training: 51.99824118614197 seconds\n",
            "Validation loss: 0.5245582580566406 \n",
            "\n",
            "EPOCH 4\n",
            "Train loss: 0.5961819258001115\n",
            "Time needed for training: 52.10985517501831 seconds\n",
            "Validation loss: 0.5191272616386413 \n",
            "\n",
            "EPOCH 5\n",
            "Train loss: 0.5882840388351016\n",
            "Time needed for training: 51.536810874938965 seconds\n",
            "Validation loss: 0.5245582580566406 \n",
            "\n",
            "EPOCH 6\n",
            "Train loss: 0.5555587609608968\n",
            "Time needed for training: 51.81817078590393 seconds\n",
            "Validation loss: 0.6031564593315124 \n",
            "\n",
            "EPOCH 7\n",
            "Train loss: 0.5406071874830458\n",
            "Time needed for training: 52.16671323776245 seconds\n",
            "Validation loss: 0.733256459236145 \n",
            "\n",
            "EPOCH 8\n",
            "Train loss: 0.5658269921938578\n",
            "Time needed for training: 51.94313597679138 seconds\n",
            "Validation loss: 0.6492021203041076 \n",
            "\n",
            "EPOCH 9\n",
            "Train loss: 0.5632345709535811\n",
            "Time needed for training: 52.45348882675171 seconds\n",
            "Validation loss: 0.5245582580566406 \n",
            "\n",
            "EPOCH 10\n",
            "Train loss: 0.5752242306868235\n",
            "Time needed for training: 52.49620795249939 seconds\n",
            "Validation loss: 0.5137827873229981 \n",
            "\n"
          ]
        }
      ],
      "source": [
        "# Start training\n",
        "trainer.train_multiple_epoch(model, EPOCHS=epochs)"
      ]
    },
    {
      "cell_type": "markdown",
      "metadata": {
        "id": "U92PUhBW2-lv"
      },
      "source": [
        "#### Chunk training"
      ]
    },
    {
      "cell_type": "code",
      "execution_count": 25,
      "metadata": {
        "id": "N6LW1nfz3MpV",
        "outputId": "bb2a0099-8086-4bfb-df6c-1d25c82b08a5",
        "colab": {
          "base_uri": "https://localhost:8080/",
          "height": 1000
        }
      },
      "outputs": [
        {
          "output_type": "stream",
          "name": "stdout",
          "text": [
            "You are allowd to perform chunk training proceede with regular traiing\n",
            "Please pay attention that you are using the same splitting parameters\n",
            "Loading cunck 4\n",
            "Splitting parameters: \n",
            "             Dataset: ai4mars-dataset-merged-0.1 \n",
            "             Colab environment: True \n",
            "             Split percentages: [0.7, 0.2, 0.1] \n",
            "             Transformation: None \n",
            "             Svaving path: None \n",
            "             New image size: 128\n",
            "Extrapolation of random inices ...\n",
            "Splitting in progress ...\n",
            "Done \n",
            "\n",
            "Building Dataloaders\n",
            "Done \n",
            "\n",
            "{'dataset': 'ai4mars-dataset-merged-0.1', 'percentages': '[0.7, 0.2, 0.1]', 'transform': None, 'size': '128'}\n",
            "EPOCH 1\n",
            "Train loss: 0.5467303627067142\n",
            "Time needed for training: 52.653889179229736 seconds\n",
            "Validation loss: 0.5245582580566406 \n",
            "\n",
            "EPOCH 2\n",
            "Train loss: 0.5415814883179135\n",
            "Time needed for training: 52.15882968902588 seconds\n",
            "Validation loss: 0.5245582580566406 \n",
            "\n",
            "EPOCH 3\n",
            "Train loss: 0.5414601829316881\n",
            "Time needed for training: 52.10629463195801 seconds\n",
            "Validation loss: 0.5014569878578186 \n",
            "\n",
            "EPOCH 4\n",
            "Train loss: 0.5360903640588125\n",
            "Time needed for training: 51.735634565353394 seconds\n",
            "Validation loss: 0.4801949381828308 \n",
            "\n",
            "EPOCH 5\n",
            "Train loss: 0.5274272229936388\n",
            "Time needed for training: 51.45039248466492 seconds\n",
            "Validation loss: 0.5363352417945861 \n",
            "\n",
            "EPOCH 6\n",
            "Train loss: 0.5279398593637679\n",
            "Time needed for training: 51.63375163078308 seconds\n",
            "Validation loss: 0.5245582580566406 \n",
            "\n",
            "EPOCH 7\n",
            "Train loss: 0.5246767732832167\n",
            "Time needed for training: 51.62542152404785 seconds\n",
            "Validation loss: 0.5076444506645202 \n",
            "\n",
            "EPOCH 8\n",
            "Train loss: 0.5270219445228577\n",
            "Time needed for training: 51.809776067733765 seconds\n",
            "Validation loss: 0.5045430064201355 \n",
            "\n",
            "EPOCH 9\n",
            "Train loss: 0.5220893257194095\n",
            "Time needed for training: 52.78164005279541 seconds\n",
            "Validation loss: 0.47506884336471555 \n",
            "\n",
            "EPOCH 10\n",
            "Train loss: 0.5189250244034661\n",
            "Time needed for training: 51.54599738121033 seconds\n",
            "Validation loss: 0.4787207007408142 \n",
            "\n",
            "Loading cunck 5\n",
            "Splitting parameters: \n",
            "             Dataset: ai4mars-dataset-merged-0.1 \n",
            "             Colab environment: True \n",
            "             Split percentages: [0.7, 0.2, 0.1] \n",
            "             Transformation: None \n",
            "             Svaving path: None \n",
            "             New image size: 128\n",
            "Extrapolation of random inices ...\n",
            "Splitting in progress ...\n",
            "Done \n",
            "\n",
            "Building Dataloaders\n",
            "Done \n",
            "\n",
            "{'dataset': 'ai4mars-dataset-merged-0.1', 'percentages': '[0.7, 0.2, 0.1]', 'transform': None, 'size': '128'}\n",
            "EPOCH 1\n",
            "Train loss: 0.5208260913689932\n",
            "Time needed for training: 52.568312883377075 seconds\n",
            "Validation loss: 0.47106231451034547 \n",
            "\n",
            "EPOCH 2\n",
            "Train loss: 0.5222323901123471\n",
            "Time needed for training: 51.3179874420166 seconds\n",
            "Validation loss: 0.4829972147941589 \n",
            "\n",
            "EPOCH 3\n",
            "Train loss: 0.5193764766057333\n",
            "Time needed for training: 51.32928252220154 seconds\n",
            "Validation loss: 0.4884912967681885 \n",
            "\n",
            "EPOCH 4\n",
            "Train loss: 0.5118011203077104\n",
            "Time needed for training: 51.402026891708374 seconds\n",
            "Validation loss: 0.5018233060836792 \n",
            "\n",
            "EPOCH 5\n",
            "Train loss: 0.5083218548032973\n",
            "Time needed for training: 51.279282569885254 seconds\n",
            "Validation loss: 0.47540467977523804 \n",
            "\n",
            "EPOCH 6\n",
            "Train loss: 0.5078254640102386\n",
            "Time needed for training: 51.13251996040344 seconds\n",
            "Validation loss: 0.6044876098632812 \n",
            "\n",
            "EPOCH 7\n",
            "Train loss: 0.5119969613022275\n",
            "Time needed for training: 51.4266676902771 seconds\n",
            "Validation loss: 0.5245582580566406 \n",
            "\n",
            "EPOCH 8\n",
            "Train loss: 0.5101263655556573\n",
            "Time needed for training: 51.6360137462616 seconds\n",
            "Validation loss: 0.4825201272964478 \n",
            "\n",
            "EPOCH 9\n",
            "Train loss: 0.5071452856063843\n",
            "Time needed for training: 51.52055621147156 seconds\n",
            "Validation loss: 0.5244459748268128 \n",
            "\n",
            "EPOCH 10\n",
            "Train loss: 0.5084967546992831\n",
            "Time needed for training: 51.419716358184814 seconds\n",
            "Validation loss: 0.48100106716156005 \n",
            "\n",
            "Loading cunck 6\n",
            "Splitting parameters: \n",
            "             Dataset: ai4mars-dataset-merged-0.1 \n",
            "             Colab environment: True \n",
            "             Split percentages: [0.7, 0.2, 0.1] \n",
            "             Transformation: None \n",
            "             Svaving path: None \n",
            "             New image size: 128\n",
            "Extrapolation of random inices ...\n",
            "Splitting in progress ...\n",
            "Done \n",
            "\n",
            "Building Dataloaders\n",
            "Done \n",
            "\n",
            "{'dataset': 'ai4mars-dataset-merged-0.1', 'percentages': '[0.7, 0.2, 0.1]', 'transform': None, 'size': '128'}\n",
            "EPOCH 1\n",
            "Train loss: 0.5088924798700545\n",
            "Time needed for training: 51.76969814300537 seconds\n",
            "Validation loss: 0.5245583176612854 \n",
            "\n",
            "EPOCH 2\n",
            "Train loss: 0.5045358836650848\n",
            "Time needed for training: 51.219677686691284 seconds\n",
            "Validation loss: 0.49850537776947024 \n",
            "\n",
            "EPOCH 3\n",
            "Train loss: 0.5065173837873671\n",
            "Time needed for training: 51.19211673736572 seconds\n",
            "Validation loss: 0.4735717177391052 \n",
            "\n",
            "EPOCH 4\n",
            "Train loss: 0.5054528282748328\n",
            "Time needed for training: 51.20240759849548 seconds\n",
            "Validation loss: 0.4771716833114624 \n",
            "\n",
            "EPOCH 5\n",
            "Train loss: 0.5056810412142012\n",
            "Time needed for training: 50.918864250183105 seconds\n",
            "Validation loss: 0.4833466291427612 \n",
            "\n",
            "EPOCH 6\n",
            "Train loss: 0.5054387317763435\n",
            "Time needed for training: 50.90047216415405 seconds\n",
            "Validation loss: 0.48386991024017334 \n",
            "\n",
            "EPOCH 7\n",
            "Train loss: 0.5003088116645813\n",
            "Time needed for training: 50.9112765789032 seconds\n",
            "Validation loss: 0.5345988273620605 \n",
            "\n",
            "EPOCH 8\n",
            "Train loss: 0.49704230825106305\n",
            "Time needed for training: 51.02277588844299 seconds\n",
            "Validation loss: 0.5245582580566406 \n",
            "\n",
            "EPOCH 9\n",
            "Train loss: 0.4964759283595615\n",
            "Time needed for training: 50.89863085746765 seconds\n",
            "Validation loss: 0.4763112306594849 \n",
            "\n",
            "EPOCH 10\n",
            "Train loss: 0.49205683006180656\n",
            "Time needed for training: 50.86501121520996 seconds\n",
            "Validation loss: 0.5245582580566406 \n",
            "\n",
            "Loading cunck 7\n",
            "Splitting parameters: \n",
            "             Dataset: ai4mars-dataset-merged-0.1 \n",
            "             Colab environment: True \n",
            "             Split percentages: [0.7, 0.2, 0.1] \n",
            "             Transformation: None \n",
            "             Svaving path: None \n",
            "             New image size: 128\n",
            "Extrapolation of random inices ...\n",
            "Splitting in progress ...\n",
            "Done \n",
            "\n",
            "Building Dataloaders\n",
            "Done \n",
            "\n",
            "{'dataset': 'ai4mars-dataset-merged-0.1', 'percentages': '[0.7, 0.2, 0.1]', 'transform': None, 'size': '128'}\n",
            "EPOCH 1\n",
            "Train loss: 0.49529601799117196\n",
            "Time needed for training: 51.712868452072144 seconds\n",
            "Validation loss: 0.5196031332015991 \n",
            "\n",
            "EPOCH 2\n",
            "Train loss: 0.49051745070351493\n",
            "Time needed for training: 50.98766088485718 seconds\n",
            "Validation loss: 0.4861165642738342 \n",
            "\n",
            "EPOCH 3\n",
            "Train loss: 0.48993953731324935\n",
            "Time needed for training: 50.98044300079346 seconds\n",
            "Validation loss: 0.47127509117126465 \n",
            "\n",
            "EPOCH 4\n",
            "Train loss: 0.4899245368109809\n",
            "Time needed for training: 51.21823573112488 seconds\n",
            "Validation loss: 0.4911025643348694 \n",
            "\n",
            "EPOCH 5\n",
            "Train loss: 0.4860135250621372\n",
            "Time needed for training: 50.86328125 seconds\n",
            "Validation loss: 0.5252726197242736 \n",
            "\n",
            "EPOCH 6\n",
            "Train loss: 0.4846814771493276\n",
            "Time needed for training: 50.95518374443054 seconds\n",
            "Validation loss: 0.5126729607582092 \n",
            "\n",
            "EPOCH 7\n",
            "Train loss: 0.48534755243195427\n",
            "Time needed for training: 50.94037199020386 seconds\n",
            "Validation loss: 0.5127714157104493 \n",
            "\n",
            "EPOCH 8\n",
            "Train loss: 0.4811299675040775\n",
            "Time needed for training: 51.138983964920044 seconds\n",
            "Validation loss: 0.5245582580566406 \n",
            "\n",
            "EPOCH 9\n",
            "Train loss: 0.48049482040935093\n",
            "Time needed for training: 51.02578115463257 seconds\n",
            "Validation loss: 0.4923630356788635 \n",
            "\n",
            "EPOCH 10\n",
            "Train loss: 0.47643377714686924\n",
            "Time needed for training: 50.897789478302 seconds\n",
            "Validation loss: 0.4790803551673889 \n",
            "\n",
            "Loading cunck 8\n",
            "Splitting parameters: \n",
            "             Dataset: ai4mars-dataset-merged-0.1 \n",
            "             Colab environment: True \n",
            "             Split percentages: [0.7, 0.2, 0.1] \n",
            "             Transformation: None \n",
            "             Svaving path: None \n",
            "             New image size: 128\n",
            "Extrapolation of random inices ...\n",
            "Splitting in progress ...\n",
            "Done \n",
            "\n",
            "Building Dataloaders\n",
            "Done \n",
            "\n",
            "{'dataset': 'ai4mars-dataset-merged-0.1', 'percentages': '[0.7, 0.2, 0.1]', 'transform': None, 'size': '128'}\n",
            "EPOCH 1\n",
            "Train loss: 0.4763491153717041\n",
            "Time needed for training: 50.817726373672485 seconds\n",
            "Validation loss: 0.4632494807243347 \n",
            "\n",
            "EPOCH 2\n",
            "Train loss: 0.46963709592819214\n",
            "Time needed for training: 51.03773283958435 seconds\n",
            "Validation loss: 0.5245582580566406 \n",
            "\n",
            "EPOCH 3\n",
            "Train loss: 0.4699045287238227\n",
            "Time needed for training: 51.14810371398926 seconds\n",
            "Validation loss: 0.517162311077118 \n",
            "\n",
            "EPOCH 4\n",
            "Train loss: 0.46676991714371574\n",
            "Time needed for training: 50.93839478492737 seconds\n",
            "Validation loss: 0.5245582580566406 \n",
            "\n",
            "EPOCH 5\n",
            "Train loss: 0.4668781492445204\n",
            "Time needed for training: 51.11298942565918 seconds\n",
            "Validation loss: 0.4625150799751282 \n",
            "\n",
            "EPOCH 6\n",
            "Train loss: 0.4719732536209954\n",
            "Time needed for training: 51.016775369644165 seconds\n",
            "Validation loss: 0.5877954006195069 \n",
            "\n",
            "EPOCH 7\n",
            "Train loss: 0.47250216205914813\n",
            "Time needed for training: 50.88815474510193 seconds\n",
            "Validation loss: 0.45504950284957885 \n",
            "\n",
            "EPOCH 8\n",
            "Train loss: 0.4665358298354679\n",
            "Time needed for training: 50.87505650520325 seconds\n",
            "Validation loss: 0.5281610608100891 \n",
            "\n",
            "EPOCH 9\n",
            "Train loss: 0.4614209466510349\n",
            "Time needed for training: 50.72835087776184 seconds\n",
            "Validation loss: 0.48614269495010376 \n",
            "\n",
            "EPOCH 10\n",
            "Train loss: 0.45966653360260856\n",
            "Time needed for training: 51.15209245681763 seconds\n",
            "Validation loss: 0.5023407101631164 \n",
            "\n",
            "Loading cunck 9\n",
            "Splitting parameters: \n",
            "             Dataset: ai4mars-dataset-merged-0.1 \n",
            "             Colab environment: True \n",
            "             Split percentages: [0.7, 0.2, 0.1] \n",
            "             Transformation: None \n",
            "             Svaving path: None \n",
            "             New image size: 128\n",
            "Extrapolation of random inices ...\n",
            "Splitting in progress ...\n",
            "Done \n",
            "\n",
            "Building Dataloaders\n",
            "Done \n",
            "\n",
            "{'dataset': 'ai4mars-dataset-merged-0.1', 'percentages': '[0.7, 0.2, 0.1]', 'transform': None, 'size': '128'}\n",
            "EPOCH 1\n",
            "Train loss: 0.4581577844089932\n",
            "Time needed for training: 51.27842879295349 seconds\n",
            "Validation loss: 0.4501182556152344 \n",
            "\n",
            "EPOCH 2\n",
            "Train loss: 0.46255561378267074\n",
            "Time needed for training: 50.925865650177 seconds\n",
            "Validation loss: 0.5208317875862122 \n",
            "\n",
            "EPOCH 3\n",
            "Train loss: 0.4596714542971717\n",
            "Time needed for training: 50.93987059593201 seconds\n",
            "Validation loss: 0.5262371897697449 \n",
            "\n",
            "EPOCH 4\n",
            "Train loss: 0.46131542656156754\n",
            "Time needed for training: 50.98159122467041 seconds\n",
            "Validation loss: 0.5239710330963134 \n",
            "\n",
            "EPOCH 5\n",
            "Train loss: 0.45755112502310014\n",
            "Time needed for training: 50.95115661621094 seconds\n",
            "Validation loss: 0.4974070906639099 \n",
            "\n",
            "EPOCH 6\n",
            "Train loss: 0.46050939295026994\n",
            "Time needed for training: 51.01212811470032 seconds\n",
            "Validation loss: 0.4595243692398071 \n",
            "\n",
            "EPOCH 7\n",
            "Train loss: 0.4536296957068973\n",
            "Time needed for training: 51.07638072967529 seconds\n",
            "Validation loss: 0.4714906573295593 \n",
            "\n",
            "EPOCH 8\n",
            "Train loss: 0.4516145884990692\n",
            "Time needed for training: 51.00283479690552 seconds\n",
            "Validation loss: 0.6549426317214966 \n",
            "\n",
            "EPOCH 9\n",
            "Train loss: 0.456084496445126\n",
            "Time needed for training: 50.83010792732239 seconds\n",
            "Validation loss: 0.4847641348838806 \n",
            "\n",
            "EPOCH 10\n",
            "Train loss: 0.4502091672685411\n",
            "Time needed for training: 50.85526394844055 seconds\n",
            "Validation loss: 0.4889027953147888 \n",
            "\n",
            "Loading cunck 10\n",
            "Splitting parameters: \n",
            "             Dataset: ai4mars-dataset-merged-0.1 \n",
            "             Colab environment: True \n",
            "             Split percentages: [0.7, 0.2, 0.1] \n",
            "             Transformation: None \n",
            "             Svaving path: None \n",
            "             New image size: 128\n",
            "Extrapolation of random inices ...\n",
            "Splitting in progress ...\n",
            "Done \n",
            "\n",
            "Building Dataloaders\n",
            "Done \n",
            "\n",
            "{'dataset': 'ai4mars-dataset-merged-0.1', 'percentages': '[0.7, 0.2, 0.1]', 'transform': None, 'size': '128'}\n",
            "EPOCH 1\n",
            "Train loss: 0.4480013781123691\n",
            "Time needed for training: 50.79264307022095 seconds\n",
            "Validation loss: 0.4495865225791931 \n",
            "\n",
            "EPOCH 2\n",
            "Train loss: 0.4471857017940945\n",
            "Time needed for training: 50.79482936859131 seconds\n",
            "Validation loss: 0.5130029797554017 \n",
            "\n",
            "EPOCH 3\n",
            "Train loss: 0.44743256436453926\n",
            "Time needed for training: 50.97251892089844 seconds\n",
            "Validation loss: 0.4569395422935486 \n",
            "\n",
            "EPOCH 4\n",
            "Train loss: 0.44493013620376587\n",
            "Time needed for training: 51.120768308639526 seconds\n",
            "Validation loss: 0.46467301845550535 \n",
            "\n",
            "EPOCH 5\n",
            "Train loss: 0.44459574421246845\n",
            "Time needed for training: 51.138373374938965 seconds\n",
            "Validation loss: 0.4603299617767334 \n",
            "\n",
            "EPOCH 6\n",
            "Train loss: 0.44268833266364205\n",
            "Time needed for training: 50.78705883026123 seconds\n",
            "Validation loss: 0.48023921251296997 \n",
            "\n",
            "EPOCH 7\n",
            "Train loss: 0.44278895523813033\n",
            "Time needed for training: 50.870076179504395 seconds\n",
            "Validation loss: 0.4685529708862305 \n",
            "\n",
            "EPOCH 8\n",
            "Train loss: 0.4649554755952623\n",
            "Time needed for training: 50.877856492996216 seconds\n",
            "Validation loss: 0.5595016717910767 \n",
            "\n",
            "EPOCH 9\n",
            "Train loss: 0.4525202214717865\n",
            "Time needed for training: 51.13663864135742 seconds\n",
            "Validation loss: 0.4420684456825256 \n",
            "\n",
            "EPOCH 10\n",
            "Train loss: 0.45049285226398045\n",
            "Time needed for training: 50.83262586593628 seconds\n",
            "Validation loss: 0.5215801119804382 \n",
            "\n",
            "Loading cunck 11\n"
          ]
        },
        {
          "output_type": "error",
          "ename": "FileNotFoundError",
          "evalue": "ignored",
          "traceback": [
            "\u001b[0;31m---------------------------------------------------------------------------\u001b[0m",
            "\u001b[0;31mFileNotFoundError\u001b[0m                         Traceback (most recent call last)",
            "\u001b[0;32m<ipython-input-25-452553fae556>\u001b[0m in \u001b[0;36m<cell line: 1>\u001b[0;34m()\u001b[0m\n\u001b[1;32m     24\u001b[0m             \u001b[0;32melif\u001b[0m \u001b[0mLOCAL\u001b[0m\u001b[0;34m:\u001b[0m \u001b[0mload_data\u001b[0m \u001b[0;34m=\u001b[0m \u001b[0mroot_dir\u001b[0m \u001b[0;34m+\u001b[0m \u001b[0;34m'/datasetup/medium-chunk-dataset/'\u001b[0m\u001b[0;34m\u001b[0m\u001b[0;34m\u001b[0m\u001b[0m\n\u001b[1;32m     25\u001b[0m \u001b[0;34m\u001b[0m\u001b[0m\n\u001b[0;32m---> 26\u001b[0;31m             \u001b[0mX\u001b[0m\u001b[0;34m,\u001b[0m \u001b[0my\u001b[0m \u001b[0;34m=\u001b[0m \u001b[0mtorch\u001b[0m\u001b[0;34m.\u001b[0m\u001b[0mload\u001b[0m\u001b[0;34m(\u001b[0m\u001b[0mload_data\u001b[0m \u001b[0;34m+\u001b[0m \u001b[0mstr\u001b[0m\u001b[0;34m(\u001b[0m\u001b[0mcurrent_chunk\u001b[0m \u001b[0;34m//\u001b[0m \u001b[0mchunk_size\u001b[0m\u001b[0;34m)\u001b[0m \u001b[0;34m+\u001b[0m \u001b[0;34m'dataset.pt'\u001b[0m\u001b[0;34m)\u001b[0m\u001b[0;34m\u001b[0m\u001b[0;34m\u001b[0m\u001b[0m\n\u001b[0m\u001b[1;32m     27\u001b[0m \u001b[0;34m\u001b[0m\u001b[0m\n\u001b[1;32m     28\u001b[0m             \u001b[0;31m# Build dataset\u001b[0m\u001b[0;34m\u001b[0m\u001b[0;34m\u001b[0m\u001b[0m\n",
            "\u001b[0;32m/usr/local/lib/python3.10/dist-packages/torch/serialization.py\u001b[0m in \u001b[0;36mload\u001b[0;34m(f, map_location, pickle_module, weights_only, **pickle_load_args)\u001b[0m\n\u001b[1;32m    789\u001b[0m         \u001b[0mpickle_load_args\u001b[0m\u001b[0;34m[\u001b[0m\u001b[0;34m'encoding'\u001b[0m\u001b[0;34m]\u001b[0m \u001b[0;34m=\u001b[0m \u001b[0;34m'utf-8'\u001b[0m\u001b[0;34m\u001b[0m\u001b[0;34m\u001b[0m\u001b[0m\n\u001b[1;32m    790\u001b[0m \u001b[0;34m\u001b[0m\u001b[0m\n\u001b[0;32m--> 791\u001b[0;31m     \u001b[0;32mwith\u001b[0m \u001b[0m_open_file_like\u001b[0m\u001b[0;34m(\u001b[0m\u001b[0mf\u001b[0m\u001b[0;34m,\u001b[0m \u001b[0;34m'rb'\u001b[0m\u001b[0;34m)\u001b[0m \u001b[0;32mas\u001b[0m \u001b[0mopened_file\u001b[0m\u001b[0;34m:\u001b[0m\u001b[0;34m\u001b[0m\u001b[0;34m\u001b[0m\u001b[0m\n\u001b[0m\u001b[1;32m    792\u001b[0m         \u001b[0;32mif\u001b[0m \u001b[0m_is_zipfile\u001b[0m\u001b[0;34m(\u001b[0m\u001b[0mopened_file\u001b[0m\u001b[0;34m)\u001b[0m\u001b[0;34m:\u001b[0m\u001b[0;34m\u001b[0m\u001b[0;34m\u001b[0m\u001b[0m\n\u001b[1;32m    793\u001b[0m             \u001b[0;31m# The zipfile reader is going to advance the current file position.\u001b[0m\u001b[0;34m\u001b[0m\u001b[0;34m\u001b[0m\u001b[0m\n",
            "\u001b[0;32m/usr/local/lib/python3.10/dist-packages/torch/serialization.py\u001b[0m in \u001b[0;36m_open_file_like\u001b[0;34m(name_or_buffer, mode)\u001b[0m\n\u001b[1;32m    269\u001b[0m \u001b[0;32mdef\u001b[0m \u001b[0m_open_file_like\u001b[0m\u001b[0;34m(\u001b[0m\u001b[0mname_or_buffer\u001b[0m\u001b[0;34m,\u001b[0m \u001b[0mmode\u001b[0m\u001b[0;34m)\u001b[0m\u001b[0;34m:\u001b[0m\u001b[0;34m\u001b[0m\u001b[0;34m\u001b[0m\u001b[0m\n\u001b[1;32m    270\u001b[0m     \u001b[0;32mif\u001b[0m \u001b[0m_is_path\u001b[0m\u001b[0;34m(\u001b[0m\u001b[0mname_or_buffer\u001b[0m\u001b[0;34m)\u001b[0m\u001b[0;34m:\u001b[0m\u001b[0;34m\u001b[0m\u001b[0;34m\u001b[0m\u001b[0m\n\u001b[0;32m--> 271\u001b[0;31m         \u001b[0;32mreturn\u001b[0m \u001b[0m_open_file\u001b[0m\u001b[0;34m(\u001b[0m\u001b[0mname_or_buffer\u001b[0m\u001b[0;34m,\u001b[0m \u001b[0mmode\u001b[0m\u001b[0;34m)\u001b[0m\u001b[0;34m\u001b[0m\u001b[0;34m\u001b[0m\u001b[0m\n\u001b[0m\u001b[1;32m    272\u001b[0m     \u001b[0;32melse\u001b[0m\u001b[0;34m:\u001b[0m\u001b[0;34m\u001b[0m\u001b[0;34m\u001b[0m\u001b[0m\n\u001b[1;32m    273\u001b[0m         \u001b[0;32mif\u001b[0m \u001b[0;34m'w'\u001b[0m \u001b[0;32min\u001b[0m \u001b[0mmode\u001b[0m\u001b[0;34m:\u001b[0m\u001b[0;34m\u001b[0m\u001b[0;34m\u001b[0m\u001b[0m\n",
            "\u001b[0;32m/usr/local/lib/python3.10/dist-packages/torch/serialization.py\u001b[0m in \u001b[0;36m__init__\u001b[0;34m(self, name, mode)\u001b[0m\n\u001b[1;32m    250\u001b[0m \u001b[0;32mclass\u001b[0m \u001b[0m_open_file\u001b[0m\u001b[0;34m(\u001b[0m\u001b[0m_opener\u001b[0m\u001b[0;34m)\u001b[0m\u001b[0;34m:\u001b[0m\u001b[0;34m\u001b[0m\u001b[0;34m\u001b[0m\u001b[0m\n\u001b[1;32m    251\u001b[0m     \u001b[0;32mdef\u001b[0m \u001b[0m__init__\u001b[0m\u001b[0;34m(\u001b[0m\u001b[0mself\u001b[0m\u001b[0;34m,\u001b[0m \u001b[0mname\u001b[0m\u001b[0;34m,\u001b[0m \u001b[0mmode\u001b[0m\u001b[0;34m)\u001b[0m\u001b[0;34m:\u001b[0m\u001b[0;34m\u001b[0m\u001b[0;34m\u001b[0m\u001b[0m\n\u001b[0;32m--> 252\u001b[0;31m         \u001b[0msuper\u001b[0m\u001b[0;34m(\u001b[0m\u001b[0;34m)\u001b[0m\u001b[0;34m.\u001b[0m\u001b[0m__init__\u001b[0m\u001b[0;34m(\u001b[0m\u001b[0mopen\u001b[0m\u001b[0;34m(\u001b[0m\u001b[0mname\u001b[0m\u001b[0;34m,\u001b[0m \u001b[0mmode\u001b[0m\u001b[0;34m)\u001b[0m\u001b[0;34m)\u001b[0m\u001b[0;34m\u001b[0m\u001b[0;34m\u001b[0m\u001b[0m\n\u001b[0m\u001b[1;32m    253\u001b[0m \u001b[0;34m\u001b[0m\u001b[0m\n\u001b[1;32m    254\u001b[0m     \u001b[0;32mdef\u001b[0m \u001b[0m__exit__\u001b[0m\u001b[0;34m(\u001b[0m\u001b[0mself\u001b[0m\u001b[0;34m,\u001b[0m \u001b[0;34m*\u001b[0m\u001b[0margs\u001b[0m\u001b[0;34m)\u001b[0m\u001b[0;34m:\u001b[0m\u001b[0;34m\u001b[0m\u001b[0;34m\u001b[0m\u001b[0m\n",
            "\u001b[0;31mFileNotFoundError\u001b[0m: [Errno 2] No such file or directory: '/content/medium-chunk-dataset/11dataset.pt'"
          ]
        }
      ],
      "source": [
        "if not CHUNK:\n",
        "    print(\"You are not allowd to perform chunk training proceede with regular traiing\")\n",
        "\n",
        "else:\n",
        "\n",
        "    print(\"You are allowd to perform chunk training proceede with regular traiing\")\n",
        "    print(\"Please pay attention that you are using the same splitting parameters\")\n",
        "\n",
        "    CHUNK = False\n",
        "    stop_at = (total_size // chunk_size) - 1\n",
        "\n",
        "    for i in range(0, stop_at):\n",
        "\n",
        "        if i == 0:\n",
        "            print(f\"Loading chunck {current_chunk // chunk_size}\")\n",
        "            trainer.train_multiple_epoch(model, EPOCHS=epochs)\n",
        "\n",
        "        else:\n",
        "\n",
        "            # update current chunk\n",
        "            current_chunk += chunk_size\n",
        "\n",
        "            print(f\"Loading chunck {current_chunk // chunk_size}\")\n",
        "\n",
        "            if COLAB: load_data = '/content/medium-chunk-dataset/'\n",
        "            elif LOCAL: load_data = root_dir + '/datasetup/medium-chunk-dataset/'\n",
        "\n",
        "            X, y = torch.load(load_data + str(current_chunk // chunk_size) + 'dataset.pt')\n",
        "\n",
        "            # Build dataset\n",
        "            splitter = Ai4MarsSplitter()\n",
        "            train_set, test_set, val_set = splitter(X, y, percentages)\n",
        "\n",
        "            # Build Ai4MarsDataloader\n",
        "            loader = Ai4MarsDataLoader()\n",
        "            train_loader, test_loader, val_loader = loader(\n",
        "                [train_set, test_set, val_set], batch_sizes)\n",
        "\n",
        "            trainer.train_multiple_epoch(model, EPOCHS=epochs)"
      ]
    },
    {
      "cell_type": "markdown",
      "metadata": {
        "id": "XRpG5qJqfEZo"
      },
      "source": [
        "#### Plot loss"
      ]
    },
    {
      "cell_type": "code",
      "execution_count": 26,
      "metadata": {
        "id": "r6HCej-k7w6R",
        "outputId": "e6547751-40de-4d42-80df-6574a089a6b5",
        "colab": {
          "base_uri": "https://localhost:8080/",
          "height": 524
        }
      },
      "outputs": [
        {
          "output_type": "stream",
          "name": "stdout",
          "text": [
            "Data will be saved in ./dump/20230718-152735-MiT-B2/loss/\n"
          ]
        },
        {
          "output_type": "display_data",
          "data": {
            "text/plain": [
              "<Figure size 640x480 with 1 Axes>"
            ],
            "image/png": "[encoded data removed]"
          },
          "metadata": {}
        },
        {
          "output_type": "stream",
          "name": "stdout",
          "text": [
            "Train mean loss: 0.44855913619200394\n",
            "Validation mean loss: 0.4816474437713623\n"
          ]
        }
      ],
      "source": [
        "# Plot loss\n",
        "\n",
        "import matplotlib.pyplot as plt\n",
        "\n",
        "trainer.plot_loss()"
      ]
    },
    {
      "cell_type": "markdown",
      "metadata": {
        "id": "8vQYontwr3W8"
      },
      "source": [
        "## Testing"
      ]
    },
    {
      "cell_type": "code",
      "execution_count": 27,
      "metadata": {
        "id": "ydweI29r18jr"
      },
      "outputs": [],
      "source": [
        "# Testing and evaluation Metrics\n",
        "\n",
        "metric = metrics.JaccardIndex(task=\"multiclass\", num_classes=5).to(device)\n",
        "tester = Ai4MarsTester(loss_fn, metric, test_loader, device=device)"
      ]
    },
    {
      "cell_type": "code",
      "execution_count": 28,
      "metadata": {
        "id": "n1ZyzuJW61Rs",
        "outputId": "d42a2d63-2b13-468e-f335-e4dd7422dd0a",
        "colab": {
          "base_uri": "https://localhost:8080/"
        }
      },
      "outputs": [
        {
          "output_type": "stream",
          "name": "stdout",
          "text": [
            "Test loss: 0.5590202552931649\n",
            "\n",
            "Metrics MulticlassJaccardIndex(): 0.5177204012870789\n"
          ]
        }
      ],
      "source": [
        "# Start testing\n",
        "\n",
        "tester.test_one_epoch(model)"
      ]
    },
    {
      "cell_type": "code",
      "execution_count": 29,
      "metadata": {
        "id": "-1_v2Q1AV73W",
        "outputId": "d8e6fe08-374d-4df2-8a38-b289b219b226",
        "colab": {
          "base_uri": "https://localhost:8080/",
          "height": 489
        }
      },
      "outputs": [
        {
          "output_type": "stream",
          "name": "stdout",
          "text": [
            "Data will be saved in ./dump/20230718-152735-MiT-B2/hist/\n"
          ]
        },
        {
          "output_type": "display_data",
          "data": {
            "text/plain": [
              "<Figure size 640x480 with 1 Axes>"
            ],
            "image/png": "[encoded data removed]"
          },
          "metadata": {}
        }
      ],
      "source": [
        "# Module Parameters\n",
        "trainer.param_hist(model, label='after')"
      ]
    },
    {
      "cell_type": "code",
      "execution_count": null,
      "metadata": {
        "id": "ewE16aoK_2CX"
      },
      "outputs": [],
      "source": [
        "model.eval()\n",
        "\n",
        "for i, batch in enumerate(test_loader):\n",
        "  image, label = batch\n",
        "  print(image.shape)\n",
        "  pred = model(image.to(device))\n",
        "  tester.show_images(image, trainer.results_path, index=i)\n",
        "  tester.show_seg(label, trainer.results_path, index=i)\n",
        "  tester.show_seg(pred.cpu(), trainer.results_path, index=i)"
      ]
    },
    {
      "cell_type": "code",
      "source": [
        "# To save file once you trained\n",
        "!zip -r 20230718-152735-MiT-B2-2.zip /content/dump/20230718-152735-MiT-B2\n",
        "from google.colab import files\n",
        "\n",
        "#files to save\n",
        "files.download(\"/content/dump/20230718-152735-MiT-B2.zip\")"
      ],
      "metadata": {
        "id": "Mno4s9Jt8Mi1"
      },
      "execution_count": null,
      "outputs": []
    }
  ],
  "metadata": {
    "accelerator": "GPU",
    "colab": {
      "gpuType": "T4",
      "provenance": [],
      "include_colab_link": true
    },
    "interpreter": {
      "hash": "31f2aee4e71d21fbe5cf8b01ff0e069b9275f58929596ceb00d14d90e3e16cd6"
    },
    "kernelspec": {
      "display_name": "Python 3",
      "name": "python3"
    },
    "language_info": {
      "codemirror_mode": {
        "name": "ipython",
        "version": 3
      },
      "file_extension": ".py",
      "mimetype": "text/x-python",
      "name": "python",
      "nbconvert_exporter": "python",
      "pygments_lexer": "ipython3",
      "version": "3.10.6"
    }
  },
  "nbformat": 4,
  "nbformat_minor": 0
}
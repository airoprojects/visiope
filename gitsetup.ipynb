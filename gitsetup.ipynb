{
  "cells": [
    {
      "cell_type": "markdown",
      "metadata": {
        "id": "view-in-github",
        "colab_type": "text"
      },
      "source": [
        "<a href=\"https://colab.research.google.com/github/airoprojects/visiope/blob/main/gitsetup.ipynb\" target=\"_parent\"><img src=\"https://colab.research.google.com/assets/colab-badge.svg\" alt=\"Open In Colab\"/></a>"
      ]
    },
    {
      "cell_type": "code",
      "execution_count": null,
      "metadata": {
        "id": "1lmfWHiOQ-da"
      },
      "outputs": [],
      "source": [
        "\"\"\" Run this script inside new notebook to configure the runtime,\n",
        "gain access to the project data and git version control. Use this\n",
        "script as a shell to run git commands snd update remote repository.\n",
        "Run this cell to link google drive with colab and set up git env \"\"\"\n",
        "\n",
        "# Import drive\n",
        "from google.colab import drive\n",
        "drive.mount('/content/drive')\n",
        "\n",
        "# Set up github access credential\n",
        "email='airoprojectsx@gmail.com'\n",
        "username='airoprojects'\n",
        "repository='visiope'\n",
        "\n",
        "# Set up directory\n",
        "%mkdir -p /content/drive/MyDrive/Github/\n",
        "\n",
        "# Change working directory\n",
        "%cd /content/drive/MyDrive/Github/"
      ]
    },
    {
      "cell_type": "markdown",
      "metadata": {
        "id": "PMKnMTaKkZA2"
      },
      "source": [
        "## Clone repository"
      ]
    },
    {
      "cell_type": "code",
      "execution_count": null,
      "metadata": {
        "id": "-FtHfWeDRDau"
      },
      "outputs": [],
      "source": [
        "\"\"\" run once to clone git repository\"\"\"\n",
        "\n",
        "# Ask for repository token\n",
        "token=str(input(\"Insert your github token: \"))\n",
        "\n",
        "# Uncomment to clone the repository of the project inside drive\n",
        "!git clone https://{token}@github.com/{username}/{repository}\n",
        "%cd /content/drive/MyDrive/Github/{repository}"
      ]
    },
    {
      "cell_type": "markdown",
      "metadata": {
        "id": "bxVVNHl9kiMi"
      },
      "source": [
        "## Git commands"
      ]
    },
    {
      "cell_type": "code",
      "execution_count": null,
      "metadata": {
        "id": "E8CNv4f6SHu2",
        "outputId": "b4a34689-b5fd-41f2-90b2-ade4efd5be56",
        "colab": {
          "base_uri": "https://localhost:8080/"
        }
      },
      "outputs": [
        {
          "output_type": "stream",
          "name": "stdout",
          "text": [
            "/content/drive/MyDrive/Github/visiope\n"
          ]
        }
      ],
      "source": [
        "\"\"\" run every time to make sure you are in the correct directory \"\"\"\n",
        "\n",
        "# Change directory to new git repo\n",
        "%cd /content/drive/MyDrive/Github/visiope"
      ]
    },
    {
      "cell_type": "code",
      "execution_count": null,
      "metadata": {
        "id": "l8qojkAxfW-i"
      },
      "outputs": [],
      "source": [
        "\"\"\" run to change who commit on github \"\"\"\n",
        "\n",
        "committer_email=str(input(\"Insert your email: \"))\n",
        "committer_username =str(input(\"Insert your username: \"))\n",
        "\n",
        "# Global git configuration\n",
        "!git config --global user.email \"{committer_email}\"\n",
        "!git config --global user.name \"{committer_username}\"\n",
        "!git config --global credential.helper 'cache --timeout=3600'"
      ]
    },
    {
      "cell_type": "code",
      "execution_count": null,
      "metadata": {
        "id": "c5fEllfSKABo"
      },
      "outputs": [],
      "source": [
        "\"\"\" cache for leeoos \"\"\"\n",
        "\n",
        "# Global git configuration\n",
        "!git config --global user.email \"leonardo.colosi@gmail.com\"\n",
        "!git config --global user.name \"leeoos\"\n",
        "!git config --global credential.helper 'cache --timeout=3600'"
      ]
    },
    {
      "cell_type": "code",
      "execution_count": null,
      "metadata": {
        "id": "2WgDiCBJ2qyJ"
      },
      "outputs": [],
      "source": [
        "\"\"\" cache for BrFranceN \"\"\"\n",
        "\n",
        "# Global git configuration\n",
        "!git config --global user.email \"workbrfrancen@gmail.com\"\n",
        "!git config --global user.name \"BrFranceN\"\n",
        "!git config --global credential.helper 'cache --timeout=3600'"
      ]
    },
    {
      "cell_type": "code",
      "execution_count": null,
      "metadata": {
        "id": "704ifHpYBGwV"
      },
      "outputs": [],
      "source": [
        "\"\"\" runn to display the current git configuration \"\"\"\n",
        "\n",
        "!git config -l"
      ]
    },
    {
      "cell_type": "code",
      "execution_count": null,
      "metadata": {
        "id": "GOrNYTMARLw_"
      },
      "outputs": [],
      "source": [
        "\"\"\" run every time you want to change the token for accessing the repository \"\"\"\n",
        "\n",
        "token=str(input(\"Insert your github token: \"))\n",
        "!git remote set-url origin https://{token}@github.com/{username}/{repository}"
      ]
    },
    {
      "cell_type": "code",
      "execution_count": null,
      "metadata": {
        "id": "Lxl5pcBhBjRG"
      },
      "outputs": [],
      "source": [
        "\"\"\" runn to display the current remote configuration \"\"\"\n",
        "\n",
        "!git remote -v"
      ]
    },
    {
      "cell_type": "code",
      "execution_count": null,
      "metadata": {
        "id": "vyZhrttcXtfY"
      },
      "outputs": [],
      "source": [
        "\"\"\" run before to set up a new drive to work on the project \"\"\"\n",
        "\"\"\" remember to update drive folder before runnign this cell \"\"\"\n",
        "\n",
        "# Display git status\n",
        "!git branch -a\n",
        "!git status"
      ]
    },
    {
      "cell_type": "code",
      "execution_count": null,
      "metadata": {
        "id": "aZ-e2YVcsPs5"
      },
      "outputs": [],
      "source": [
        "\"\"\" run every time you want to create a new branch or ... \"\"\"\n",
        "\n",
        "branch_name = str(input(\"New branch name: \"))\n",
        "!git checkout -b \"{branch_name}\""
      ]
    },
    {
      "cell_type": "code",
      "execution_count": null,
      "metadata": {
        "id": "b3282ojyvH7q"
      },
      "outputs": [],
      "source": [
        "\"\"\" ... run to checkout to an existing branch \"\"\"\n",
        "\n",
        "branch_name = str(input(\"checkout to branch: \"))\n",
        "!git checkout \"{branch_name}\""
      ]
    },
    {
      "cell_type": "code",
      "source": [
        "\"\"\" run to delete an existing branch \"\"\"\n",
        "\n",
        "branch_name = str(input(\"Branch to delete: \"))\n",
        "!git branch -d \"{branch_name}\""
      ],
      "metadata": {
        "id": "YxSHtqxX3Tay"
      },
      "execution_count": null,
      "outputs": []
    },
    {
      "cell_type": "code",
      "execution_count": null,
      "metadata": {
        "id": "Q9PGw64gZ6dg"
      },
      "outputs": [],
      "source": [
        "\"\"\" run this to merge different branches \"\"\"\n",
        "\n",
        "to_branch = str(input(\"Merge to branch: \"))\n",
        "from_branch = str(input(\"from: \"))\n",
        "\n",
        "!git checkout {to_branch}\n",
        "!git merge {from_branch}"
      ]
    },
    {
      "cell_type": "code",
      "execution_count": null,
      "metadata": {
        "id": "MfszavFwtM19"
      },
      "outputs": [],
      "source": [
        "\"\"\" run to stash your commits \"\"\"\n",
        "\n",
        "!git stash"
      ]
    },
    {
      "cell_type": "code",
      "execution_count": null,
      "metadata": {
        "id": "V-8QDHCrrsui"
      },
      "outputs": [],
      "source": [
        "\"\"\" run to update drive with latest remote commit \"\"\"\n",
        "\n",
        "!git pull --no-commit"
      ]
    },
    {
      "cell_type": "code",
      "execution_count": null,
      "metadata": {
        "id": "_9IbFgGDS4iF"
      },
      "outputs": [],
      "source": [
        "\"\"\" run every time you want to perform a commit on the local directory \"\"\"\n",
        "\n",
        "# Git add, commit and push\n",
        "msg = str(input(\"Commit message: \"))\n",
        "!git add . ; git commit -m \"{msg}\""
      ]
    },
    {
      "cell_type": "code",
      "execution_count": null,
      "metadata": {
        "id": "f7jOiRkbZT0K"
      },
      "outputs": [],
      "source": [
        "\"\"\" run every time you want to push on remote repository \"\"\"\n",
        "\"\"\" note that using personal token implies form them to be insatntly revoked \"\"\"\n",
        "\n",
        "branch_name = str(input(\"Push on branch: \"))\n",
        "!git push -u origin \"{branch_name}\""
      ]
    }
  ],
  "metadata": {
    "colab": {
      "provenance": [],
      "include_colab_link": true
    },
    "gpuClass": "standard",
    "kernelspec": {
      "display_name": "Python 3",
      "name": "python3"
    },
    "language_info": {
      "name": "python"
    },
    "orig_nbformat": 4
  },
  "nbformat": 4,
  "nbformat_minor": 0
}
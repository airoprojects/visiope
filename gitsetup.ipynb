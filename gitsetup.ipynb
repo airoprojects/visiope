{
  "cells": [
    {
      "cell_type": "markdown",
      "metadata": {
        "id": "view-in-github",
        "colab_type": "text"
      },
      "source": [
        "<a href=\"https://colab.research.google.com/github/airoprojects/visiope/blob/main/gitsetup.ipynb\" target=\"_parent\"><img src=\"https://colab.research.google.com/assets/colab-badge.svg\" alt=\"Open In Colab\"/></a>"
      ]
    },
    {
      "cell_type": "code",
      "source": [
        "\"\"\" Run this script inside new notebook to configure the runtime, \n",
        "gain access to the project data and git version control. Use this \n",
        "script as a shell to run git commands snd update remote repository. \n",
        "Run this cell to link google drive with colab and set up git env \"\"\"\n",
        "\n",
        "# Import drive \n",
        "from google.colab import drive\n",
        "drive.mount('/content/drive')\n",
        "\n",
        "# Set up github access credential \n",
        "email='airoprojectsx@gmail.com'\n",
        "username='airoprojects'\n",
        "repository='visiope'\n",
        "\n",
        "# Set up directory\n",
        "%mkdir -p /content/drive/MyDrive/Github/\n",
        "\n",
        "# Change working directory\n",
        "%cd /content/drive/MyDrive/Github/"
      ],
      "metadata": {
        "id": "1lmfWHiOQ-da"
      },
      "execution_count": null,
      "outputs": []
    },
    {
      "cell_type": "markdown",
      "source": [
        "## Clone repository"
      ],
      "metadata": {
        "id": "PMKnMTaKkZA2"
      }
    },
    {
      "cell_type": "code",
      "source": [
        "\"\"\" run once to clone git repository\"\"\"\n",
        "\n",
        "# Ask for repository token\n",
        "token=str(input(\"Insert your github token: \"))\n",
        "\n",
        "# Uncomment to clone the repository of the project inside drive \n",
        "!git clone https://{token}@github.com/{username}/{repository}\n",
        "%cd /content/drive/MyDrive/Github/{repository}"
      ],
      "metadata": {
        "id": "-FtHfWeDRDau"
      },
      "execution_count": null,
      "outputs": []
    },
    {
      "cell_type": "markdown",
      "source": [
        "## Git commands"
      ],
      "metadata": {
        "id": "bxVVNHl9kiMi"
      }
    },
    {
      "cell_type": "code",
      "source": [
        "\"\"\" run every time you want to make sure you are in the correct directory \"\"\"\n",
        "\n",
        "# Change directory to new git repo\n",
        "%cd /content/drive/MyDrive/Github/visiope"
      ],
      "metadata": {
        "id": "E8CNv4f6SHu2"
      },
      "execution_count": null,
      "outputs": []
    },
    {
      "cell_type": "code",
      "source": [
        "\"\"\" run to change who commit on github \"\"\"\n",
        "\n",
        "committer_email=str(input(\"Insert your email: \"))\n",
        "committer_username =str(input(\"Insert your username: \")) \n",
        "\n",
        "# Global git configuration \n",
        "!git config --global user.email \"{committer_email}\"\n",
        "!git config --global user.name \"{committer_username}\"\n",
        "!git config --global credential.helper 'cache --timeout=3600'"
      ],
      "metadata": {
        "id": "l8qojkAxfW-i"
      },
      "execution_count": null,
      "outputs": []
    },
    {
      "cell_type": "code",
      "source": [
        "\"\"\" cache for leeoos commit \"\"\"\n",
        "\n",
        "# Global git configuration \n",
        "!git config --global user.email \"leonardo.colosi@gmail.com\"\n",
        "!git config --global user.name \"leeoos\"\n",
        "!git config --global credential.helper 'cache --timeout=3600'"
      ],
      "metadata": {
        "id": "c5fEllfSKABo"
      },
      "execution_count": 5,
      "outputs": []
    },
    {
      "cell_type": "code",
      "source": [
        "\"\"\" runn to display the current git configuration \"\"\"\n",
        "\n",
        "!git config -l"
      ],
      "metadata": {
        "id": "704ifHpYBGwV"
      },
      "execution_count": null,
      "outputs": []
    },
    {
      "cell_type": "code",
      "source": [
        "\"\"\" run every time you want to change the token for accessing the repository \"\"\"\n",
        "\n",
        "token=str(input(\"Insert your github token: \"))\n",
        "!git remote set-url origin https://{token}@github.com/{username}/{repository}"
      ],
      "metadata": {
        "id": "GOrNYTMARLw_"
      },
      "execution_count": null,
      "outputs": []
    },
    {
      "cell_type": "code",
      "source": [
        "\"\"\" runn to display the current remote configuration \"\"\"\n",
        "\n",
        "!git remote -v"
      ],
      "metadata": {
        "id": "Lxl5pcBhBjRG"
      },
      "execution_count": null,
      "outputs": []
    },
    {
      "cell_type": "code",
      "source": [
        "\"\"\" run before to set up a new drive to work on the project \"\"\"\n",
        "\"\"\" remember to update drive folder before runnign this cell \"\"\"\n",
        "\n",
        "# Display git status\n",
        "!git branch -a\n",
        "!git status"
      ],
      "metadata": {
        "id": "vyZhrttcXtfY"
      },
      "execution_count": null,
      "outputs": []
    },
    {
      "cell_type": "code",
      "source": [
        "\"\"\" run every time you want to create a new branch or ... \"\"\"\n",
        "\n",
        "branch_name = str(input(\"New branch name: \"))\n",
        "!git checkout -b \"{branch_name}\""
      ],
      "metadata": {
        "id": "aZ-e2YVcsPs5"
      },
      "execution_count": null,
      "outputs": []
    },
    {
      "cell_type": "code",
      "source": [
        "\"\"\" ... run to checkout to an existing branch \"\"\"\n",
        "\n",
        "branch_name = str(input(\"checkout to branch: \"))\n",
        "!git checkout \"{branch_name}\""
      ],
      "metadata": {
        "id": "b3282ojyvH7q"
      },
      "execution_count": null,
      "outputs": []
    },
    {
      "cell_type": "code",
      "source": [
        "\"\"\" run this to merge different branches \"\"\"\n",
        "\n",
        "to_branch = str(input(\"Merge to branch: \"))\n",
        "from_branch = str(input(\"from: \"))\n",
        "\n",
        "!git checkout {to_branch}\n",
        "!git merge {from_branch}"
      ],
      "metadata": {
        "id": "Q9PGw64gZ6dg"
      },
      "execution_count": null,
      "outputs": []
    },
    {
      "cell_type": "code",
      "source": [
        "\"\"\" run to stash your commits \"\"\"\n",
        "\n",
        "!git stash"
      ],
      "metadata": {
        "id": "MfszavFwtM19"
      },
      "execution_count": null,
      "outputs": []
    },
    {
      "cell_type": "code",
      "source": [
        "\"\"\" run to update drive with latest remote commit \"\"\"\n",
        "\n",
        "!git pull --no-commit "
      ],
      "metadata": {
        "id": "V-8QDHCrrsui"
      },
      "execution_count": null,
      "outputs": []
    },
    {
      "cell_type": "code",
      "source": [
        "\"\"\" run every time you want to perform a commit on the local directory \"\"\"\n",
        "\n",
        "# Git add, commit and push\n",
        "msg = str(input(\"Commit message: \"))\n",
        "!git add . ; git commit -m \"{msg}\""
      ],
      "metadata": {
        "id": "_9IbFgGDS4iF"
      },
      "execution_count": null,
      "outputs": []
    },
    {
      "cell_type": "code",
      "source": [
        "\"\"\" run every time you want to push on remote repository \"\"\"\n",
        "\"\"\" note that using personal token implies form them to be insatntly revoked \"\"\" \n",
        "\n",
        "branch_name = str(input(\"Push on branch: \"))\n",
        "!git push -u origin \"{branch_name}\""
      ],
      "metadata": {
        "id": "f7jOiRkbZT0K"
      },
      "execution_count": null,
      "outputs": []
    }
  ],
  "metadata": {
    "language_info": {
      "name": "python"
    },
    "orig_nbformat": 4,
    "colab": {
      "provenance": [],
      "include_colab_link": true
    },
    "kernelspec": {
      "name": "python3",
      "display_name": "Python 3"
    },
    "gpuClass": "standard"
  },
  "nbformat": 4,
  "nbformat_minor": 0
}
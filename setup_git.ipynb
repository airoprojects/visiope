{
  "cells": [
    {
      "cell_type": "code",
      "source": [
        "\"\"\" Run this script inside new notebook to configure the runtime \n",
        "and gain access to the project data and git version control.\n",
        "Use tis cript as a shell to run git commands snd update remote \n",
        "repository. Always run this cell !!! \"\"\"\n",
        "\n",
        "def add_commit_push():\n",
        "  msg = str(input(\"Commit message: \")\n",
        "\n",
        "# Import drive \n",
        "from google.colab import drive\n",
        "drive.mount('/content/drive')"
      ],
      "metadata": {
        "id": "1lmfWHiOQ-da"
      },
      "execution_count": null,
      "outputs": []
    },
    {
      "cell_type": "code",
      "source": [
        "\"\"\" run once \"\"\"\n",
        "\n",
        "# Set up directory\n",
        "%mkdir -p /content/drive/MyDrive/Github/\n",
        "\n",
        "# Change working directory\n",
        "%cd /content/drive/MyDrive/Github/"
      ],
      "metadata": {
        "id": "-FtHfWeDRDau"
      },
      "execution_count": null,
      "outputs": []
    },
    {
      "cell_type": "code",
      "source": [
        "\"\"\" run every time you want to change the current git user \"\"\"\n",
        "\n",
        "# Set up github access credential \n",
        "email='airoprojectsx@gmail.com'\n",
        "username='airoprojects'\n",
        "repository='visiope'"
      ],
      "metadata": {
        "id": "qmd39TCsUajH"
      },
      "execution_count": null,
      "outputs": []
    },
    {
      "cell_type": "code",
      "source": [
        "\"\"\" un every time you want to change the token for accessing the repo \"\"\"\n",
        "\n",
        "# Ask for repository token\n",
        "token=str(input(\"Insert your github token: \"))"
      ],
      "metadata": {
        "id": "GOrNYTMARLw_"
      },
      "execution_count": null,
      "outputs": []
    },
    {
      "cell_type": "code",
      "source": [
        "\"\"\" run once \"\"\"\n",
        "\n",
        "# Uncomment to clone the repository of the project inside drive \n",
        "#!git clone https://{token}@github.com/{username}/{repository}\n",
        "\n",
        "# Change directory to new git repo\n",
        "%cd /content/drive/MyDrive/Github/{repository}\n",
        "\n",
        "# Global git configuration \n",
        "!git config --global user.email \"{email}\"\n",
        "!git config --global user.name \"{username}\"\n",
        "!git config --global credential.helper 'cache --timeout=3600'\n",
        "!git config -l"
      ],
      "metadata": {
        "id": "E8CNv4f6SHu2"
      },
      "execution_count": null,
      "outputs": []
    },
    {
      "cell_type": "code",
      "source": [
        "\n"
      ],
      "metadata": {
        "id": "_9IbFgGDS4iF"
      },
      "execution_count": null,
      "outputs": []
    },
    {
      "cell_type": "code",
      "source": [],
      "metadata": {
        "id": "6EM1lbtQTHaF"
      },
      "execution_count": null,
      "outputs": []
    }
  ],
  "metadata": {
    "language_info": {
      "name": "python"
    },
    "orig_nbformat": 4,
    "colab": {
      "provenance": []
    },
    "kernelspec": {
      "name": "python3",
      "display_name": "Python 3"
    },
    "gpuClass": "standard"
  },
  "nbformat": 4,
  "nbformat_minor": 0
}
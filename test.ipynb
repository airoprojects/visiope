{
  "cells": [
    {
      "cell_type": "code",
      "execution_count": 1,
      "metadata": {
        "colab": {
          "base_uri": "https://localhost:8080/"
        },
        "id": "JGOG0WrB-3M1",
        "outputId": "fe0b4511-0ddc-4468-d04d-0d7b4d901b27"
      },
      "outputs": [
        {
          "output_type": "stream",
          "name": "stdout",
          "text": [
            "It works!!!, but does it?\n",
            "it does\n",
            "leeoos commit\n"
          ]
        }
      ],
      "source": [
        "print(\"It works!!!, but does it?\")\n",
        "print(\"it does\")\n",
        "print(\"leeoos commit\")"
      ]
    },
    {
      "cell_type": "code",
      "execution_count": null,
      "metadata": {
        "id": "uMnBla4l-3M3"
      },
      "outputs": [],
      "source": [
        "print(\"sa sa prova\")"
      ]
    }
  ],
  "metadata": {
    "language_info": {
      "name": "python"
    },
    "orig_nbformat": 4,
    "colab": {
      "provenance": []
    },
    "kernelspec": {
      "name": "python3",
      "display_name": "Python 3"
    },
    "gpuClass": "standard"
  },
  "nbformat": 4,
  "nbformat_minor": 0
}